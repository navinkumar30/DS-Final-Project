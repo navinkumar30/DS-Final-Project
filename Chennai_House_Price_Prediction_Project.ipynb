{
  "cells": [
    {
      "cell_type": "markdown",
      "metadata": {
        "id": "view-in-github",
        "colab_type": "text"
      },
      "source": [
        "<a href=\"https://colab.research.google.com/github/navinkumar30/DS-Final-Project/blob/main/Chennai_House_Price_Prediction_Project.ipynb\" target=\"_parent\"><img src=\"https://colab.research.google.com/assets/colab-badge.svg\" alt=\"Open In Colab\"/></a>"
      ]
    },
    {
      "cell_type": "markdown",
      "metadata": {
        "id": "nmmETrhvKDbR"
      },
      "source": [
        "Data Science Project: Chennai House Price Prediction"
      ]
    },
    {
      "cell_type": "markdown",
      "metadata": {
        "id": "Wf7YxJCrMHtN"
      },
      "source": [
        "#Importing Packages\n"
      ]
    },
    {
      "cell_type": "code",
      "execution_count": 1,
      "metadata": {
        "id": "sb4IZF7zJ7xy"
      },
      "outputs": [],
      "source": [
        "import pandas as pd\n",
        "import numpy as np\n",
        "import seaborn as sns\n",
        "import matplotlib.pyplot as plt"
      ]
    },
    {
      "cell_type": "markdown",
      "metadata": {
        "id": "PhKDlewxMScC"
      },
      "source": [
        "Importing dataset"
      ]
    },
    {
      "cell_type": "code",
      "execution_count": 2,
      "metadata": {
        "colab": {
          "base_uri": "https://localhost:8080/",
          "height": 386
        },
        "id": "SJS_pvvgNWe9",
        "outputId": "688e1be3-55ef-4699-d705-6606697e6d99"
      },
      "outputs": [
        {
          "output_type": "execute_result",
          "data": {
            "text/plain": [
              "   PRT_ID        AREA  INT_SQFT   DATE_SALE  DIST_MAINROAD  N_BEDROOM  \\\n",
              "0  P03210  Karapakkam      1004  04-05-2011            131        1.0   \n",
              "1  P09411  Anna Nagar      1986  19-12-2006             26        2.0   \n",
              "2  P01812       Adyar       909  04-02-2012             70        1.0   \n",
              "3  P05346   Velachery      1855  13-03-2010             14        3.0   \n",
              "4  P06210  Karapakkam      1226  05-10-2009             84        1.0   \n",
              "\n",
              "   N_BATHROOM  N_ROOM SALE_COND PARK_FACIL  ... UTILITY_AVAIL  STREET MZZONE  \\\n",
              "0         1.0       3  AbNormal        Yes  ...        AllPub   Paved      A   \n",
              "1         1.0       5  AbNormal         No  ...        AllPub  Gravel     RH   \n",
              "2         1.0       3  AbNormal        Yes  ...           ELO  Gravel     RL   \n",
              "3         2.0       5    Family         No  ...       NoSewr    Paved      I   \n",
              "4         1.0       3  AbNormal        Yes  ...        AllPub  Gravel      C   \n",
              "\n",
              "  QS_ROOMS QS_BATHROOM  QS_BEDROOM  QS_OVERALL  REG_FEE  COMMIS  SALES_PRICE  \n",
              "0      4.0         3.9         4.9       4.330   380000  144400      7600000  \n",
              "1      4.9         4.2         2.5       3.765   760122  304049     21717770  \n",
              "2      4.1         3.8         2.2       3.090   421094   92114     13159200  \n",
              "3      4.7         3.9         3.6       4.010   356321   77042      9630290  \n",
              "4      3.0         2.5         4.1       3.290   237000   74063      7406250  \n",
              "\n",
              "[5 rows x 22 columns]"
            ],
            "text/html": [
              "\n",
              "  <div id=\"df-cb0d6eec-2e48-4db9-8677-71f576098ce2\">\n",
              "    <div class=\"colab-df-container\">\n",
              "      <div>\n",
              "<style scoped>\n",
              "    .dataframe tbody tr th:only-of-type {\n",
              "        vertical-align: middle;\n",
              "    }\n",
              "\n",
              "    .dataframe tbody tr th {\n",
              "        vertical-align: top;\n",
              "    }\n",
              "\n",
              "    .dataframe thead th {\n",
              "        text-align: right;\n",
              "    }\n",
              "</style>\n",
              "<table border=\"1\" class=\"dataframe\">\n",
              "  <thead>\n",
              "    <tr style=\"text-align: right;\">\n",
              "      <th></th>\n",
              "      <th>PRT_ID</th>\n",
              "      <th>AREA</th>\n",
              "      <th>INT_SQFT</th>\n",
              "      <th>DATE_SALE</th>\n",
              "      <th>DIST_MAINROAD</th>\n",
              "      <th>N_BEDROOM</th>\n",
              "      <th>N_BATHROOM</th>\n",
              "      <th>N_ROOM</th>\n",
              "      <th>SALE_COND</th>\n",
              "      <th>PARK_FACIL</th>\n",
              "      <th>...</th>\n",
              "      <th>UTILITY_AVAIL</th>\n",
              "      <th>STREET</th>\n",
              "      <th>MZZONE</th>\n",
              "      <th>QS_ROOMS</th>\n",
              "      <th>QS_BATHROOM</th>\n",
              "      <th>QS_BEDROOM</th>\n",
              "      <th>QS_OVERALL</th>\n",
              "      <th>REG_FEE</th>\n",
              "      <th>COMMIS</th>\n",
              "      <th>SALES_PRICE</th>\n",
              "    </tr>\n",
              "  </thead>\n",
              "  <tbody>\n",
              "    <tr>\n",
              "      <th>0</th>\n",
              "      <td>P03210</td>\n",
              "      <td>Karapakkam</td>\n",
              "      <td>1004</td>\n",
              "      <td>04-05-2011</td>\n",
              "      <td>131</td>\n",
              "      <td>1.0</td>\n",
              "      <td>1.0</td>\n",
              "      <td>3</td>\n",
              "      <td>AbNormal</td>\n",
              "      <td>Yes</td>\n",
              "      <td>...</td>\n",
              "      <td>AllPub</td>\n",
              "      <td>Paved</td>\n",
              "      <td>A</td>\n",
              "      <td>4.0</td>\n",
              "      <td>3.9</td>\n",
              "      <td>4.9</td>\n",
              "      <td>4.330</td>\n",
              "      <td>380000</td>\n",
              "      <td>144400</td>\n",
              "      <td>7600000</td>\n",
              "    </tr>\n",
              "    <tr>\n",
              "      <th>1</th>\n",
              "      <td>P09411</td>\n",
              "      <td>Anna Nagar</td>\n",
              "      <td>1986</td>\n",
              "      <td>19-12-2006</td>\n",
              "      <td>26</td>\n",
              "      <td>2.0</td>\n",
              "      <td>1.0</td>\n",
              "      <td>5</td>\n",
              "      <td>AbNormal</td>\n",
              "      <td>No</td>\n",
              "      <td>...</td>\n",
              "      <td>AllPub</td>\n",
              "      <td>Gravel</td>\n",
              "      <td>RH</td>\n",
              "      <td>4.9</td>\n",
              "      <td>4.2</td>\n",
              "      <td>2.5</td>\n",
              "      <td>3.765</td>\n",
              "      <td>760122</td>\n",
              "      <td>304049</td>\n",
              "      <td>21717770</td>\n",
              "    </tr>\n",
              "    <tr>\n",
              "      <th>2</th>\n",
              "      <td>P01812</td>\n",
              "      <td>Adyar</td>\n",
              "      <td>909</td>\n",
              "      <td>04-02-2012</td>\n",
              "      <td>70</td>\n",
              "      <td>1.0</td>\n",
              "      <td>1.0</td>\n",
              "      <td>3</td>\n",
              "      <td>AbNormal</td>\n",
              "      <td>Yes</td>\n",
              "      <td>...</td>\n",
              "      <td>ELO</td>\n",
              "      <td>Gravel</td>\n",
              "      <td>RL</td>\n",
              "      <td>4.1</td>\n",
              "      <td>3.8</td>\n",
              "      <td>2.2</td>\n",
              "      <td>3.090</td>\n",
              "      <td>421094</td>\n",
              "      <td>92114</td>\n",
              "      <td>13159200</td>\n",
              "    </tr>\n",
              "    <tr>\n",
              "      <th>3</th>\n",
              "      <td>P05346</td>\n",
              "      <td>Velachery</td>\n",
              "      <td>1855</td>\n",
              "      <td>13-03-2010</td>\n",
              "      <td>14</td>\n",
              "      <td>3.0</td>\n",
              "      <td>2.0</td>\n",
              "      <td>5</td>\n",
              "      <td>Family</td>\n",
              "      <td>No</td>\n",
              "      <td>...</td>\n",
              "      <td>NoSewr</td>\n",
              "      <td>Paved</td>\n",
              "      <td>I</td>\n",
              "      <td>4.7</td>\n",
              "      <td>3.9</td>\n",
              "      <td>3.6</td>\n",
              "      <td>4.010</td>\n",
              "      <td>356321</td>\n",
              "      <td>77042</td>\n",
              "      <td>9630290</td>\n",
              "    </tr>\n",
              "    <tr>\n",
              "      <th>4</th>\n",
              "      <td>P06210</td>\n",
              "      <td>Karapakkam</td>\n",
              "      <td>1226</td>\n",
              "      <td>05-10-2009</td>\n",
              "      <td>84</td>\n",
              "      <td>1.0</td>\n",
              "      <td>1.0</td>\n",
              "      <td>3</td>\n",
              "      <td>AbNormal</td>\n",
              "      <td>Yes</td>\n",
              "      <td>...</td>\n",
              "      <td>AllPub</td>\n",
              "      <td>Gravel</td>\n",
              "      <td>C</td>\n",
              "      <td>3.0</td>\n",
              "      <td>2.5</td>\n",
              "      <td>4.1</td>\n",
              "      <td>3.290</td>\n",
              "      <td>237000</td>\n",
              "      <td>74063</td>\n",
              "      <td>7406250</td>\n",
              "    </tr>\n",
              "  </tbody>\n",
              "</table>\n",
              "<p>5 rows × 22 columns</p>\n",
              "</div>\n",
              "      <button class=\"colab-df-convert\" onclick=\"convertToInteractive('df-cb0d6eec-2e48-4db9-8677-71f576098ce2')\"\n",
              "              title=\"Convert this dataframe to an interactive table.\"\n",
              "              style=\"display:none;\">\n",
              "        \n",
              "  <svg xmlns=\"http://www.w3.org/2000/svg\" height=\"24px\"viewBox=\"0 0 24 24\"\n",
              "       width=\"24px\">\n",
              "    <path d=\"M0 0h24v24H0V0z\" fill=\"none\"/>\n",
              "    <path d=\"M18.56 5.44l.94 2.06.94-2.06 2.06-.94-2.06-.94-.94-2.06-.94 2.06-2.06.94zm-11 1L8.5 8.5l.94-2.06 2.06-.94-2.06-.94L8.5 2.5l-.94 2.06-2.06.94zm10 10l.94 2.06.94-2.06 2.06-.94-2.06-.94-.94-2.06-.94 2.06-2.06.94z\"/><path d=\"M17.41 7.96l-1.37-1.37c-.4-.4-.92-.59-1.43-.59-.52 0-1.04.2-1.43.59L10.3 9.45l-7.72 7.72c-.78.78-.78 2.05 0 2.83L4 21.41c.39.39.9.59 1.41.59.51 0 1.02-.2 1.41-.59l7.78-7.78 2.81-2.81c.8-.78.8-2.07 0-2.86zM5.41 20L4 18.59l7.72-7.72 1.47 1.35L5.41 20z\"/>\n",
              "  </svg>\n",
              "      </button>\n",
              "      \n",
              "  <style>\n",
              "    .colab-df-container {\n",
              "      display:flex;\n",
              "      flex-wrap:wrap;\n",
              "      gap: 12px;\n",
              "    }\n",
              "\n",
              "    .colab-df-convert {\n",
              "      background-color: #E8F0FE;\n",
              "      border: none;\n",
              "      border-radius: 50%;\n",
              "      cursor: pointer;\n",
              "      display: none;\n",
              "      fill: #1967D2;\n",
              "      height: 32px;\n",
              "      padding: 0 0 0 0;\n",
              "      width: 32px;\n",
              "    }\n",
              "\n",
              "    .colab-df-convert:hover {\n",
              "      background-color: #E2EBFA;\n",
              "      box-shadow: 0px 1px 2px rgba(60, 64, 67, 0.3), 0px 1px 3px 1px rgba(60, 64, 67, 0.15);\n",
              "      fill: #174EA6;\n",
              "    }\n",
              "\n",
              "    [theme=dark] .colab-df-convert {\n",
              "      background-color: #3B4455;\n",
              "      fill: #D2E3FC;\n",
              "    }\n",
              "\n",
              "    [theme=dark] .colab-df-convert:hover {\n",
              "      background-color: #434B5C;\n",
              "      box-shadow: 0px 1px 3px 1px rgba(0, 0, 0, 0.15);\n",
              "      filter: drop-shadow(0px 1px 2px rgba(0, 0, 0, 0.3));\n",
              "      fill: #FFFFFF;\n",
              "    }\n",
              "  </style>\n",
              "\n",
              "      <script>\n",
              "        const buttonEl =\n",
              "          document.querySelector('#df-cb0d6eec-2e48-4db9-8677-71f576098ce2 button.colab-df-convert');\n",
              "        buttonEl.style.display =\n",
              "          google.colab.kernel.accessAllowed ? 'block' : 'none';\n",
              "\n",
              "        async function convertToInteractive(key) {\n",
              "          const element = document.querySelector('#df-cb0d6eec-2e48-4db9-8677-71f576098ce2');\n",
              "          const dataTable =\n",
              "            await google.colab.kernel.invokeFunction('convertToInteractive',\n",
              "                                                     [key], {});\n",
              "          if (!dataTable) return;\n",
              "\n",
              "          const docLinkHtml = 'Like what you see? Visit the ' +\n",
              "            '<a target=\"_blank\" href=https://colab.research.google.com/notebooks/data_table.ipynb>data table notebook</a>'\n",
              "            + ' to learn more about interactive tables.';\n",
              "          element.innerHTML = '';\n",
              "          dataTable['output_type'] = 'display_data';\n",
              "          await google.colab.output.renderOutput(dataTable, element);\n",
              "          const docLink = document.createElement('div');\n",
              "          docLink.innerHTML = docLinkHtml;\n",
              "          element.appendChild(docLink);\n",
              "        }\n",
              "      </script>\n",
              "    </div>\n",
              "  </div>\n",
              "  "
            ]
          },
          "metadata": {},
          "execution_count": 2
        }
      ],
      "source": [
        "df=pd.read_csv(\"train-chennai-sale.csv\")\n",
        "df.head()"
      ]
    },
    {
      "cell_type": "markdown",
      "metadata": {
        "id": "4jxrIWoEl8GK"
      },
      "source": [
        "# Data Cleaning"
      ]
    },
    {
      "cell_type": "code",
      "execution_count": 3,
      "metadata": {
        "colab": {
          "base_uri": "https://localhost:8080/"
        },
        "id": "dYH9Rep6hMiS",
        "outputId": "8dff14bb-7615-45ec-8112-7242ce8cee72"
      },
      "outputs": [
        {
          "output_type": "execute_result",
          "data": {
            "text/plain": [
              "(7109, 22)"
            ]
          },
          "metadata": {},
          "execution_count": 3
        }
      ],
      "source": [
        "df.shape"
      ]
    },
    {
      "cell_type": "code",
      "execution_count": 4,
      "metadata": {
        "colab": {
          "base_uri": "https://localhost:8080/",
          "height": 426
        },
        "id": "WS_7wJbLhDfh",
        "outputId": "d326c9a7-e901-4283-c895-ef63fd3b1d6a"
      },
      "outputs": [
        {
          "output_type": "execute_result",
          "data": {
            "text/plain": [
              "                count          mean           std        min         25%  \\\n",
              "INT_SQFT       7109.0  1.382073e+03  4.574109e+02      500.0      993.00   \n",
              "DIST_MAINROAD  7109.0  9.960318e+01  5.740311e+01        0.0       50.00   \n",
              "N_BEDROOM      7108.0  1.637029e+00  8.029016e-01        1.0        1.00   \n",
              "N_BATHROOM     7104.0  1.213260e+00  4.096387e-01        1.0        1.00   \n",
              "N_ROOM         7109.0  3.688704e+00  1.019099e+00        2.0        3.00   \n",
              "QS_ROOMS       7109.0  3.517471e+00  8.919724e-01        2.0        2.70   \n",
              "QS_BATHROOM    7109.0  3.507244e+00  8.978337e-01        2.0        2.70   \n",
              "QS_BEDROOM     7109.0  3.485300e+00  8.872664e-01        2.0        2.70   \n",
              "QS_OVERALL     7061.0  3.503254e+00  5.272229e-01        2.0        3.13   \n",
              "REG_FEE        7109.0  3.769383e+05  1.430707e+05    71177.0   272406.00   \n",
              "COMMIS         7109.0  1.410057e+05  7.876809e+04     5055.0    84219.00   \n",
              "SALES_PRICE    7109.0  1.089491e+07  3.768603e+06  2156875.0  8272100.00   \n",
              "\n",
              "                      50%          75%          max  \n",
              "INT_SQFT           1373.0      1744.00      2500.00  \n",
              "DIST_MAINROAD        99.0       148.00       200.00  \n",
              "N_BEDROOM             1.0         2.00         4.00  \n",
              "N_BATHROOM            1.0         1.00         2.00  \n",
              "N_ROOM                4.0         4.00         6.00  \n",
              "QS_ROOMS              3.5         4.30         5.00  \n",
              "QS_BATHROOM           3.5         4.30         5.00  \n",
              "QS_BEDROOM            3.5         4.30         5.00  \n",
              "QS_OVERALL            3.5         3.89         4.97  \n",
              "REG_FEE          349486.0    451562.00    983922.00  \n",
              "COMMIS           127628.0    184506.00    495405.00  \n",
              "SALES_PRICE    10335050.0  12993900.00  23667340.00  "
            ],
            "text/html": [
              "\n",
              "  <div id=\"df-38158e4d-4b73-48df-b293-7f8c63106411\">\n",
              "    <div class=\"colab-df-container\">\n",
              "      <div>\n",
              "<style scoped>\n",
              "    .dataframe tbody tr th:only-of-type {\n",
              "        vertical-align: middle;\n",
              "    }\n",
              "\n",
              "    .dataframe tbody tr th {\n",
              "        vertical-align: top;\n",
              "    }\n",
              "\n",
              "    .dataframe thead th {\n",
              "        text-align: right;\n",
              "    }\n",
              "</style>\n",
              "<table border=\"1\" class=\"dataframe\">\n",
              "  <thead>\n",
              "    <tr style=\"text-align: right;\">\n",
              "      <th></th>\n",
              "      <th>count</th>\n",
              "      <th>mean</th>\n",
              "      <th>std</th>\n",
              "      <th>min</th>\n",
              "      <th>25%</th>\n",
              "      <th>50%</th>\n",
              "      <th>75%</th>\n",
              "      <th>max</th>\n",
              "    </tr>\n",
              "  </thead>\n",
              "  <tbody>\n",
              "    <tr>\n",
              "      <th>INT_SQFT</th>\n",
              "      <td>7109.0</td>\n",
              "      <td>1.382073e+03</td>\n",
              "      <td>4.574109e+02</td>\n",
              "      <td>500.0</td>\n",
              "      <td>993.00</td>\n",
              "      <td>1373.0</td>\n",
              "      <td>1744.00</td>\n",
              "      <td>2500.00</td>\n",
              "    </tr>\n",
              "    <tr>\n",
              "      <th>DIST_MAINROAD</th>\n",
              "      <td>7109.0</td>\n",
              "      <td>9.960318e+01</td>\n",
              "      <td>5.740311e+01</td>\n",
              "      <td>0.0</td>\n",
              "      <td>50.00</td>\n",
              "      <td>99.0</td>\n",
              "      <td>148.00</td>\n",
              "      <td>200.00</td>\n",
              "    </tr>\n",
              "    <tr>\n",
              "      <th>N_BEDROOM</th>\n",
              "      <td>7108.0</td>\n",
              "      <td>1.637029e+00</td>\n",
              "      <td>8.029016e-01</td>\n",
              "      <td>1.0</td>\n",
              "      <td>1.00</td>\n",
              "      <td>1.0</td>\n",
              "      <td>2.00</td>\n",
              "      <td>4.00</td>\n",
              "    </tr>\n",
              "    <tr>\n",
              "      <th>N_BATHROOM</th>\n",
              "      <td>7104.0</td>\n",
              "      <td>1.213260e+00</td>\n",
              "      <td>4.096387e-01</td>\n",
              "      <td>1.0</td>\n",
              "      <td>1.00</td>\n",
              "      <td>1.0</td>\n",
              "      <td>1.00</td>\n",
              "      <td>2.00</td>\n",
              "    </tr>\n",
              "    <tr>\n",
              "      <th>N_ROOM</th>\n",
              "      <td>7109.0</td>\n",
              "      <td>3.688704e+00</td>\n",
              "      <td>1.019099e+00</td>\n",
              "      <td>2.0</td>\n",
              "      <td>3.00</td>\n",
              "      <td>4.0</td>\n",
              "      <td>4.00</td>\n",
              "      <td>6.00</td>\n",
              "    </tr>\n",
              "    <tr>\n",
              "      <th>QS_ROOMS</th>\n",
              "      <td>7109.0</td>\n",
              "      <td>3.517471e+00</td>\n",
              "      <td>8.919724e-01</td>\n",
              "      <td>2.0</td>\n",
              "      <td>2.70</td>\n",
              "      <td>3.5</td>\n",
              "      <td>4.30</td>\n",
              "      <td>5.00</td>\n",
              "    </tr>\n",
              "    <tr>\n",
              "      <th>QS_BATHROOM</th>\n",
              "      <td>7109.0</td>\n",
              "      <td>3.507244e+00</td>\n",
              "      <td>8.978337e-01</td>\n",
              "      <td>2.0</td>\n",
              "      <td>2.70</td>\n",
              "      <td>3.5</td>\n",
              "      <td>4.30</td>\n",
              "      <td>5.00</td>\n",
              "    </tr>\n",
              "    <tr>\n",
              "      <th>QS_BEDROOM</th>\n",
              "      <td>7109.0</td>\n",
              "      <td>3.485300e+00</td>\n",
              "      <td>8.872664e-01</td>\n",
              "      <td>2.0</td>\n",
              "      <td>2.70</td>\n",
              "      <td>3.5</td>\n",
              "      <td>4.30</td>\n",
              "      <td>5.00</td>\n",
              "    </tr>\n",
              "    <tr>\n",
              "      <th>QS_OVERALL</th>\n",
              "      <td>7061.0</td>\n",
              "      <td>3.503254e+00</td>\n",
              "      <td>5.272229e-01</td>\n",
              "      <td>2.0</td>\n",
              "      <td>3.13</td>\n",
              "      <td>3.5</td>\n",
              "      <td>3.89</td>\n",
              "      <td>4.97</td>\n",
              "    </tr>\n",
              "    <tr>\n",
              "      <th>REG_FEE</th>\n",
              "      <td>7109.0</td>\n",
              "      <td>3.769383e+05</td>\n",
              "      <td>1.430707e+05</td>\n",
              "      <td>71177.0</td>\n",
              "      <td>272406.00</td>\n",
              "      <td>349486.0</td>\n",
              "      <td>451562.00</td>\n",
              "      <td>983922.00</td>\n",
              "    </tr>\n",
              "    <tr>\n",
              "      <th>COMMIS</th>\n",
              "      <td>7109.0</td>\n",
              "      <td>1.410057e+05</td>\n",
              "      <td>7.876809e+04</td>\n",
              "      <td>5055.0</td>\n",
              "      <td>84219.00</td>\n",
              "      <td>127628.0</td>\n",
              "      <td>184506.00</td>\n",
              "      <td>495405.00</td>\n",
              "    </tr>\n",
              "    <tr>\n",
              "      <th>SALES_PRICE</th>\n",
              "      <td>7109.0</td>\n",
              "      <td>1.089491e+07</td>\n",
              "      <td>3.768603e+06</td>\n",
              "      <td>2156875.0</td>\n",
              "      <td>8272100.00</td>\n",
              "      <td>10335050.0</td>\n",
              "      <td>12993900.00</td>\n",
              "      <td>23667340.00</td>\n",
              "    </tr>\n",
              "  </tbody>\n",
              "</table>\n",
              "</div>\n",
              "      <button class=\"colab-df-convert\" onclick=\"convertToInteractive('df-38158e4d-4b73-48df-b293-7f8c63106411')\"\n",
              "              title=\"Convert this dataframe to an interactive table.\"\n",
              "              style=\"display:none;\">\n",
              "        \n",
              "  <svg xmlns=\"http://www.w3.org/2000/svg\" height=\"24px\"viewBox=\"0 0 24 24\"\n",
              "       width=\"24px\">\n",
              "    <path d=\"M0 0h24v24H0V0z\" fill=\"none\"/>\n",
              "    <path d=\"M18.56 5.44l.94 2.06.94-2.06 2.06-.94-2.06-.94-.94-2.06-.94 2.06-2.06.94zm-11 1L8.5 8.5l.94-2.06 2.06-.94-2.06-.94L8.5 2.5l-.94 2.06-2.06.94zm10 10l.94 2.06.94-2.06 2.06-.94-2.06-.94-.94-2.06-.94 2.06-2.06.94z\"/><path d=\"M17.41 7.96l-1.37-1.37c-.4-.4-.92-.59-1.43-.59-.52 0-1.04.2-1.43.59L10.3 9.45l-7.72 7.72c-.78.78-.78 2.05 0 2.83L4 21.41c.39.39.9.59 1.41.59.51 0 1.02-.2 1.41-.59l7.78-7.78 2.81-2.81c.8-.78.8-2.07 0-2.86zM5.41 20L4 18.59l7.72-7.72 1.47 1.35L5.41 20z\"/>\n",
              "  </svg>\n",
              "      </button>\n",
              "      \n",
              "  <style>\n",
              "    .colab-df-container {\n",
              "      display:flex;\n",
              "      flex-wrap:wrap;\n",
              "      gap: 12px;\n",
              "    }\n",
              "\n",
              "    .colab-df-convert {\n",
              "      background-color: #E8F0FE;\n",
              "      border: none;\n",
              "      border-radius: 50%;\n",
              "      cursor: pointer;\n",
              "      display: none;\n",
              "      fill: #1967D2;\n",
              "      height: 32px;\n",
              "      padding: 0 0 0 0;\n",
              "      width: 32px;\n",
              "    }\n",
              "\n",
              "    .colab-df-convert:hover {\n",
              "      background-color: #E2EBFA;\n",
              "      box-shadow: 0px 1px 2px rgba(60, 64, 67, 0.3), 0px 1px 3px 1px rgba(60, 64, 67, 0.15);\n",
              "      fill: #174EA6;\n",
              "    }\n",
              "\n",
              "    [theme=dark] .colab-df-convert {\n",
              "      background-color: #3B4455;\n",
              "      fill: #D2E3FC;\n",
              "    }\n",
              "\n",
              "    [theme=dark] .colab-df-convert:hover {\n",
              "      background-color: #434B5C;\n",
              "      box-shadow: 0px 1px 3px 1px rgba(0, 0, 0, 0.15);\n",
              "      filter: drop-shadow(0px 1px 2px rgba(0, 0, 0, 0.3));\n",
              "      fill: #FFFFFF;\n",
              "    }\n",
              "  </style>\n",
              "\n",
              "      <script>\n",
              "        const buttonEl =\n",
              "          document.querySelector('#df-38158e4d-4b73-48df-b293-7f8c63106411 button.colab-df-convert');\n",
              "        buttonEl.style.display =\n",
              "          google.colab.kernel.accessAllowed ? 'block' : 'none';\n",
              "\n",
              "        async function convertToInteractive(key) {\n",
              "          const element = document.querySelector('#df-38158e4d-4b73-48df-b293-7f8c63106411');\n",
              "          const dataTable =\n",
              "            await google.colab.kernel.invokeFunction('convertToInteractive',\n",
              "                                                     [key], {});\n",
              "          if (!dataTable) return;\n",
              "\n",
              "          const docLinkHtml = 'Like what you see? Visit the ' +\n",
              "            '<a target=\"_blank\" href=https://colab.research.google.com/notebooks/data_table.ipynb>data table notebook</a>'\n",
              "            + ' to learn more about interactive tables.';\n",
              "          element.innerHTML = '';\n",
              "          dataTable['output_type'] = 'display_data';\n",
              "          await google.colab.output.renderOutput(dataTable, element);\n",
              "          const docLink = document.createElement('div');\n",
              "          docLink.innerHTML = docLinkHtml;\n",
              "          element.appendChild(docLink);\n",
              "        }\n",
              "      </script>\n",
              "    </div>\n",
              "  </div>\n",
              "  "
            ]
          },
          "metadata": {},
          "execution_count": 4
        }
      ],
      "source": [
        "df.describe().T"
      ]
    },
    {
      "cell_type": "code",
      "execution_count": 5,
      "metadata": {
        "colab": {
          "base_uri": "https://localhost:8080/"
        },
        "id": "oH4y_XMhhH-K",
        "outputId": "1817d977-80fb-490e-9aa1-2a83577c0f63"
      },
      "outputs": [
        {
          "output_type": "stream",
          "name": "stdout",
          "text": [
            "<class 'pandas.core.frame.DataFrame'>\n",
            "RangeIndex: 7109 entries, 0 to 7108\n",
            "Data columns (total 22 columns):\n",
            " #   Column         Non-Null Count  Dtype  \n",
            "---  ------         --------------  -----  \n",
            " 0   PRT_ID         7109 non-null   object \n",
            " 1   AREA           7109 non-null   object \n",
            " 2   INT_SQFT       7109 non-null   int64  \n",
            " 3   DATE_SALE      7109 non-null   object \n",
            " 4   DIST_MAINROAD  7109 non-null   int64  \n",
            " 5   N_BEDROOM      7108 non-null   float64\n",
            " 6   N_BATHROOM     7104 non-null   float64\n",
            " 7   N_ROOM         7109 non-null   int64  \n",
            " 8   SALE_COND      7109 non-null   object \n",
            " 9   PARK_FACIL     7109 non-null   object \n",
            " 10  DATE_BUILD     7109 non-null   object \n",
            " 11  BUILDTYPE      7109 non-null   object \n",
            " 12  UTILITY_AVAIL  7109 non-null   object \n",
            " 13  STREET         7109 non-null   object \n",
            " 14  MZZONE         7109 non-null   object \n",
            " 15  QS_ROOMS       7109 non-null   float64\n",
            " 16  QS_BATHROOM    7109 non-null   float64\n",
            " 17  QS_BEDROOM     7109 non-null   float64\n",
            " 18  QS_OVERALL     7061 non-null   float64\n",
            " 19  REG_FEE        7109 non-null   int64  \n",
            " 20  COMMIS         7109 non-null   int64  \n",
            " 21  SALES_PRICE    7109 non-null   int64  \n",
            "dtypes: float64(6), int64(6), object(10)\n",
            "memory usage: 1.2+ MB\n"
          ]
        }
      ],
      "source": [
        "df.info()"
      ]
    },
    {
      "cell_type": "markdown",
      "metadata": {
        "id": "fD3UIiLGjZVI"
      },
      "source": [
        "Cheking For NULL Values\n"
      ]
    },
    {
      "cell_type": "code",
      "execution_count": 6,
      "metadata": {
        "colab": {
          "base_uri": "https://localhost:8080/"
        },
        "id": "OMBaH4DUkv-w",
        "outputId": "a0c8ffbd-4cac-4ff2-fe5f-0a37b25a1bb1"
      },
      "outputs": [
        {
          "output_type": "execute_result",
          "data": {
            "text/plain": [
              "PRT_ID            0\n",
              "AREA              0\n",
              "INT_SQFT          0\n",
              "DATE_SALE         0\n",
              "DIST_MAINROAD     0\n",
              "N_BEDROOM         1\n",
              "N_BATHROOM        5\n",
              "N_ROOM            0\n",
              "SALE_COND         0\n",
              "PARK_FACIL        0\n",
              "DATE_BUILD        0\n",
              "BUILDTYPE         0\n",
              "UTILITY_AVAIL     0\n",
              "STREET            0\n",
              "MZZONE            0\n",
              "QS_ROOMS          0\n",
              "QS_BATHROOM       0\n",
              "QS_BEDROOM        0\n",
              "QS_OVERALL       48\n",
              "REG_FEE           0\n",
              "COMMIS            0\n",
              "SALES_PRICE       0\n",
              "dtype: int64"
            ]
          },
          "metadata": {},
          "execution_count": 6
        }
      ],
      "source": [
        "df.isna().sum()"
      ]
    },
    {
      "cell_type": "markdown",
      "metadata": {
        "id": "KVLEtROKmm7u"
      },
      "source": [
        "Filling NULL Values\n"
      ]
    },
    {
      "cell_type": "code",
      "execution_count": 7,
      "metadata": {
        "id": "dB9aHcmRmuKv"
      },
      "outputs": [],
      "source": [
        "df[\"QS_OVERALL\"].fillna(df[\"QS_OVERALL\"].mean(), inplace =True)\n",
        "df[\"N_BEDROOM\"].fillna(df[\"N_BEDROOM\"].mean(), inplace =True)\n",
        "df[\"N_BATHROOM\"].fillna(df[\"N_BATHROOM\"].mean(), inplace =True)"
      ]
    },
    {
      "cell_type": "code",
      "execution_count": 8,
      "metadata": {
        "colab": {
          "base_uri": "https://localhost:8080/"
        },
        "id": "q2EOb0Fnt6vt",
        "outputId": "71e9f397-4e41-4acc-e11a-50a0f43fb5ae"
      },
      "outputs": [
        {
          "output_type": "execute_result",
          "data": {
            "text/plain": [
              "PRT_ID           0\n",
              "AREA             0\n",
              "INT_SQFT         0\n",
              "DATE_SALE        0\n",
              "DIST_MAINROAD    0\n",
              "N_BEDROOM        0\n",
              "N_BATHROOM       0\n",
              "N_ROOM           0\n",
              "SALE_COND        0\n",
              "PARK_FACIL       0\n",
              "DATE_BUILD       0\n",
              "BUILDTYPE        0\n",
              "UTILITY_AVAIL    0\n",
              "STREET           0\n",
              "MZZONE           0\n",
              "QS_ROOMS         0\n",
              "QS_BATHROOM      0\n",
              "QS_BEDROOM       0\n",
              "QS_OVERALL       0\n",
              "REG_FEE          0\n",
              "COMMIS           0\n",
              "SALES_PRICE      0\n",
              "dtype: int64"
            ]
          },
          "metadata": {},
          "execution_count": 8
        }
      ],
      "source": [
        "df.isna().sum()"
      ]
    },
    {
      "cell_type": "code",
      "execution_count": 9,
      "metadata": {
        "colab": {
          "base_uri": "https://localhost:8080/"
        },
        "id": "-Vmcjt_eToL5",
        "outputId": "49c4571d-cba7-475a-fb17-e9dc0f2761ec"
      },
      "outputs": [
        {
          "output_type": "stream",
          "name": "stdout",
          "text": [
            "<class 'pandas.core.frame.DataFrame'>\n",
            "RangeIndex: 7109 entries, 0 to 7108\n",
            "Data columns (total 22 columns):\n",
            " #   Column         Non-Null Count  Dtype  \n",
            "---  ------         --------------  -----  \n",
            " 0   PRT_ID         7109 non-null   object \n",
            " 1   AREA           7109 non-null   object \n",
            " 2   INT_SQFT       7109 non-null   int64  \n",
            " 3   DATE_SALE      7109 non-null   object \n",
            " 4   DIST_MAINROAD  7109 non-null   int64  \n",
            " 5   N_BEDROOM      7109 non-null   float64\n",
            " 6   N_BATHROOM     7109 non-null   float64\n",
            " 7   N_ROOM         7109 non-null   int64  \n",
            " 8   SALE_COND      7109 non-null   object \n",
            " 9   PARK_FACIL     7109 non-null   object \n",
            " 10  DATE_BUILD     7109 non-null   object \n",
            " 11  BUILDTYPE      7109 non-null   object \n",
            " 12  UTILITY_AVAIL  7109 non-null   object \n",
            " 13  STREET         7109 non-null   object \n",
            " 14  MZZONE         7109 non-null   object \n",
            " 15  QS_ROOMS       7109 non-null   float64\n",
            " 16  QS_BATHROOM    7109 non-null   float64\n",
            " 17  QS_BEDROOM     7109 non-null   float64\n",
            " 18  QS_OVERALL     7109 non-null   float64\n",
            " 19  REG_FEE        7109 non-null   int64  \n",
            " 20  COMMIS         7109 non-null   int64  \n",
            " 21  SALES_PRICE    7109 non-null   int64  \n",
            "dtypes: float64(6), int64(6), object(10)\n",
            "memory usage: 1.2+ MB\n"
          ]
        }
      ],
      "source": [
        "df.info()"
      ]
    },
    {
      "cell_type": "markdown",
      "metadata": {
        "id": "EfkDyiZ0o6D2"
      },
      "source": [
        "Droping Duplicates Values If There"
      ]
    },
    {
      "cell_type": "code",
      "source": [
        "df = df.drop_duplicates()\n",
        "df.info()"
      ],
      "metadata": {
        "colab": {
          "base_uri": "https://localhost:8080/"
        },
        "id": "r8MlC7SUHN4w",
        "outputId": "53ab0ec1-fca1-46f2-ae92-8562a2427ea4"
      },
      "execution_count": 10,
      "outputs": [
        {
          "output_type": "stream",
          "name": "stdout",
          "text": [
            "<class 'pandas.core.frame.DataFrame'>\n",
            "Int64Index: 7109 entries, 0 to 7108\n",
            "Data columns (total 22 columns):\n",
            " #   Column         Non-Null Count  Dtype  \n",
            "---  ------         --------------  -----  \n",
            " 0   PRT_ID         7109 non-null   object \n",
            " 1   AREA           7109 non-null   object \n",
            " 2   INT_SQFT       7109 non-null   int64  \n",
            " 3   DATE_SALE      7109 non-null   object \n",
            " 4   DIST_MAINROAD  7109 non-null   int64  \n",
            " 5   N_BEDROOM      7109 non-null   float64\n",
            " 6   N_BATHROOM     7109 non-null   float64\n",
            " 7   N_ROOM         7109 non-null   int64  \n",
            " 8   SALE_COND      7109 non-null   object \n",
            " 9   PARK_FACIL     7109 non-null   object \n",
            " 10  DATE_BUILD     7109 non-null   object \n",
            " 11  BUILDTYPE      7109 non-null   object \n",
            " 12  UTILITY_AVAIL  7109 non-null   object \n",
            " 13  STREET         7109 non-null   object \n",
            " 14  MZZONE         7109 non-null   object \n",
            " 15  QS_ROOMS       7109 non-null   float64\n",
            " 16  QS_BATHROOM    7109 non-null   float64\n",
            " 17  QS_BEDROOM     7109 non-null   float64\n",
            " 18  QS_OVERALL     7109 non-null   float64\n",
            " 19  REG_FEE        7109 non-null   int64  \n",
            " 20  COMMIS         7109 non-null   int64  \n",
            " 21  SALES_PRICE    7109 non-null   int64  \n",
            "dtypes: float64(6), int64(6), object(10)\n",
            "memory usage: 1.2+ MB\n"
          ]
        }
      ]
    },
    {
      "cell_type": "code",
      "execution_count": 11,
      "metadata": {
        "colab": {
          "base_uri": "https://localhost:8080/"
        },
        "id": "3zqtocZiqKCF",
        "outputId": "58cc5f6d-1c15-4c24-cae1-4489d693fb91"
      },
      "outputs": [
        {
          "output_type": "stream",
          "name": "stdout",
          "text": [
            "<class 'pandas.core.frame.DataFrame'>\n",
            "Int64Index: 7109 entries, 0 to 7108\n",
            "Data columns (total 22 columns):\n",
            " #   Column         Non-Null Count  Dtype  \n",
            "---  ------         --------------  -----  \n",
            " 0   PRT_ID         7109 non-null   object \n",
            " 1   AREA           7109 non-null   object \n",
            " 2   INT_SQFT       7109 non-null   int64  \n",
            " 3   DATE_SALE      7109 non-null   object \n",
            " 4   DIST_MAINROAD  7109 non-null   int64  \n",
            " 5   N_BEDROOM      7109 non-null   float64\n",
            " 6   N_BATHROOM     7109 non-null   float64\n",
            " 7   N_ROOM         7109 non-null   int64  \n",
            " 8   SALE_COND      7109 non-null   object \n",
            " 9   PARK_FACIL     7109 non-null   object \n",
            " 10  DATE_BUILD     7109 non-null   object \n",
            " 11  BUILDTYPE      7109 non-null   object \n",
            " 12  UTILITY_AVAIL  7109 non-null   object \n",
            " 13  STREET         7109 non-null   object \n",
            " 14  MZZONE         7109 non-null   object \n",
            " 15  QS_ROOMS       7109 non-null   float64\n",
            " 16  QS_BATHROOM    7109 non-null   float64\n",
            " 17  QS_BEDROOM     7109 non-null   float64\n",
            " 18  QS_OVERALL     7109 non-null   float64\n",
            " 19  REG_FEE        7109 non-null   int64  \n",
            " 20  COMMIS         7109 non-null   int64  \n",
            " 21  SALES_PRICE    7109 non-null   int64  \n",
            "dtypes: float64(6), int64(6), object(10)\n",
            "memory usage: 1.2+ MB\n"
          ]
        }
      ],
      "source": [
        "df.info()"
      ]
    },
    {
      "cell_type": "markdown",
      "metadata": {
        "id": "ppp1Acoww_4C"
      },
      "source": [
        "Dropping Not Required  Columns From The Dataset"
      ]
    },
    {
      "cell_type": "code",
      "execution_count": 12,
      "metadata": {
        "colab": {
          "base_uri": "https://localhost:8080/",
          "height": 357
        },
        "id": "LEELWMXow-xq",
        "outputId": "4dc85852-ca99-434c-cc02-e87077348102"
      },
      "outputs": [
        {
          "output_type": "execute_result",
          "data": {
            "text/plain": [
              "         AREA  INT_SQFT   DATE_SALE  DIST_MAINROAD  N_BEDROOM  N_BATHROOM  \\\n",
              "0  Karapakkam      1004  04-05-2011            131        1.0         1.0   \n",
              "1  Anna Nagar      1986  19-12-2006             26        2.0         1.0   \n",
              "2       Adyar       909  04-02-2012             70        1.0         1.0   \n",
              "3   Velachery      1855  13-03-2010             14        3.0         2.0   \n",
              "4  Karapakkam      1226  05-10-2009             84        1.0         1.0   \n",
              "\n",
              "   N_ROOM SALE_COND PARK_FACIL  DATE_BUILD   BUILDTYPE UTILITY_AVAIL  STREET  \\\n",
              "0       3  AbNormal        Yes  15-05-1967  Commercial        AllPub   Paved   \n",
              "1       5  AbNormal         No  22-12-1995  Commercial        AllPub  Gravel   \n",
              "2       3  AbNormal        Yes  09-02-1992  Commercial           ELO  Gravel   \n",
              "3       5    Family         No  18-03-1988      Others       NoSewr    Paved   \n",
              "4       3  AbNormal        Yes  13-10-1979      Others        AllPub  Gravel   \n",
              "\n",
              "  MZZONE  QS_ROOMS  QS_BATHROOM  QS_BEDROOM  QS_OVERALL  SALES_PRICE  \n",
              "0      A       4.0          3.9         4.9       4.330      7600000  \n",
              "1     RH       4.9          4.2         2.5       3.765     21717770  \n",
              "2     RL       4.1          3.8         2.2       3.090     13159200  \n",
              "3      I       4.7          3.9         3.6       4.010      9630290  \n",
              "4      C       3.0          2.5         4.1       3.290      7406250  "
            ],
            "text/html": [
              "\n",
              "  <div id=\"df-06667e8f-e793-4a68-9b40-aadab0d4a8ec\">\n",
              "    <div class=\"colab-df-container\">\n",
              "      <div>\n",
              "<style scoped>\n",
              "    .dataframe tbody tr th:only-of-type {\n",
              "        vertical-align: middle;\n",
              "    }\n",
              "\n",
              "    .dataframe tbody tr th {\n",
              "        vertical-align: top;\n",
              "    }\n",
              "\n",
              "    .dataframe thead th {\n",
              "        text-align: right;\n",
              "    }\n",
              "</style>\n",
              "<table border=\"1\" class=\"dataframe\">\n",
              "  <thead>\n",
              "    <tr style=\"text-align: right;\">\n",
              "      <th></th>\n",
              "      <th>AREA</th>\n",
              "      <th>INT_SQFT</th>\n",
              "      <th>DATE_SALE</th>\n",
              "      <th>DIST_MAINROAD</th>\n",
              "      <th>N_BEDROOM</th>\n",
              "      <th>N_BATHROOM</th>\n",
              "      <th>N_ROOM</th>\n",
              "      <th>SALE_COND</th>\n",
              "      <th>PARK_FACIL</th>\n",
              "      <th>DATE_BUILD</th>\n",
              "      <th>BUILDTYPE</th>\n",
              "      <th>UTILITY_AVAIL</th>\n",
              "      <th>STREET</th>\n",
              "      <th>MZZONE</th>\n",
              "      <th>QS_ROOMS</th>\n",
              "      <th>QS_BATHROOM</th>\n",
              "      <th>QS_BEDROOM</th>\n",
              "      <th>QS_OVERALL</th>\n",
              "      <th>SALES_PRICE</th>\n",
              "    </tr>\n",
              "  </thead>\n",
              "  <tbody>\n",
              "    <tr>\n",
              "      <th>0</th>\n",
              "      <td>Karapakkam</td>\n",
              "      <td>1004</td>\n",
              "      <td>04-05-2011</td>\n",
              "      <td>131</td>\n",
              "      <td>1.0</td>\n",
              "      <td>1.0</td>\n",
              "      <td>3</td>\n",
              "      <td>AbNormal</td>\n",
              "      <td>Yes</td>\n",
              "      <td>15-05-1967</td>\n",
              "      <td>Commercial</td>\n",
              "      <td>AllPub</td>\n",
              "      <td>Paved</td>\n",
              "      <td>A</td>\n",
              "      <td>4.0</td>\n",
              "      <td>3.9</td>\n",
              "      <td>4.9</td>\n",
              "      <td>4.330</td>\n",
              "      <td>7600000</td>\n",
              "    </tr>\n",
              "    <tr>\n",
              "      <th>1</th>\n",
              "      <td>Anna Nagar</td>\n",
              "      <td>1986</td>\n",
              "      <td>19-12-2006</td>\n",
              "      <td>26</td>\n",
              "      <td>2.0</td>\n",
              "      <td>1.0</td>\n",
              "      <td>5</td>\n",
              "      <td>AbNormal</td>\n",
              "      <td>No</td>\n",
              "      <td>22-12-1995</td>\n",
              "      <td>Commercial</td>\n",
              "      <td>AllPub</td>\n",
              "      <td>Gravel</td>\n",
              "      <td>RH</td>\n",
              "      <td>4.9</td>\n",
              "      <td>4.2</td>\n",
              "      <td>2.5</td>\n",
              "      <td>3.765</td>\n",
              "      <td>21717770</td>\n",
              "    </tr>\n",
              "    <tr>\n",
              "      <th>2</th>\n",
              "      <td>Adyar</td>\n",
              "      <td>909</td>\n",
              "      <td>04-02-2012</td>\n",
              "      <td>70</td>\n",
              "      <td>1.0</td>\n",
              "      <td>1.0</td>\n",
              "      <td>3</td>\n",
              "      <td>AbNormal</td>\n",
              "      <td>Yes</td>\n",
              "      <td>09-02-1992</td>\n",
              "      <td>Commercial</td>\n",
              "      <td>ELO</td>\n",
              "      <td>Gravel</td>\n",
              "      <td>RL</td>\n",
              "      <td>4.1</td>\n",
              "      <td>3.8</td>\n",
              "      <td>2.2</td>\n",
              "      <td>3.090</td>\n",
              "      <td>13159200</td>\n",
              "    </tr>\n",
              "    <tr>\n",
              "      <th>3</th>\n",
              "      <td>Velachery</td>\n",
              "      <td>1855</td>\n",
              "      <td>13-03-2010</td>\n",
              "      <td>14</td>\n",
              "      <td>3.0</td>\n",
              "      <td>2.0</td>\n",
              "      <td>5</td>\n",
              "      <td>Family</td>\n",
              "      <td>No</td>\n",
              "      <td>18-03-1988</td>\n",
              "      <td>Others</td>\n",
              "      <td>NoSewr</td>\n",
              "      <td>Paved</td>\n",
              "      <td>I</td>\n",
              "      <td>4.7</td>\n",
              "      <td>3.9</td>\n",
              "      <td>3.6</td>\n",
              "      <td>4.010</td>\n",
              "      <td>9630290</td>\n",
              "    </tr>\n",
              "    <tr>\n",
              "      <th>4</th>\n",
              "      <td>Karapakkam</td>\n",
              "      <td>1226</td>\n",
              "      <td>05-10-2009</td>\n",
              "      <td>84</td>\n",
              "      <td>1.0</td>\n",
              "      <td>1.0</td>\n",
              "      <td>3</td>\n",
              "      <td>AbNormal</td>\n",
              "      <td>Yes</td>\n",
              "      <td>13-10-1979</td>\n",
              "      <td>Others</td>\n",
              "      <td>AllPub</td>\n",
              "      <td>Gravel</td>\n",
              "      <td>C</td>\n",
              "      <td>3.0</td>\n",
              "      <td>2.5</td>\n",
              "      <td>4.1</td>\n",
              "      <td>3.290</td>\n",
              "      <td>7406250</td>\n",
              "    </tr>\n",
              "  </tbody>\n",
              "</table>\n",
              "</div>\n",
              "      <button class=\"colab-df-convert\" onclick=\"convertToInteractive('df-06667e8f-e793-4a68-9b40-aadab0d4a8ec')\"\n",
              "              title=\"Convert this dataframe to an interactive table.\"\n",
              "              style=\"display:none;\">\n",
              "        \n",
              "  <svg xmlns=\"http://www.w3.org/2000/svg\" height=\"24px\"viewBox=\"0 0 24 24\"\n",
              "       width=\"24px\">\n",
              "    <path d=\"M0 0h24v24H0V0z\" fill=\"none\"/>\n",
              "    <path d=\"M18.56 5.44l.94 2.06.94-2.06 2.06-.94-2.06-.94-.94-2.06-.94 2.06-2.06.94zm-11 1L8.5 8.5l.94-2.06 2.06-.94-2.06-.94L8.5 2.5l-.94 2.06-2.06.94zm10 10l.94 2.06.94-2.06 2.06-.94-2.06-.94-.94-2.06-.94 2.06-2.06.94z\"/><path d=\"M17.41 7.96l-1.37-1.37c-.4-.4-.92-.59-1.43-.59-.52 0-1.04.2-1.43.59L10.3 9.45l-7.72 7.72c-.78.78-.78 2.05 0 2.83L4 21.41c.39.39.9.59 1.41.59.51 0 1.02-.2 1.41-.59l7.78-7.78 2.81-2.81c.8-.78.8-2.07 0-2.86zM5.41 20L4 18.59l7.72-7.72 1.47 1.35L5.41 20z\"/>\n",
              "  </svg>\n",
              "      </button>\n",
              "      \n",
              "  <style>\n",
              "    .colab-df-container {\n",
              "      display:flex;\n",
              "      flex-wrap:wrap;\n",
              "      gap: 12px;\n",
              "    }\n",
              "\n",
              "    .colab-df-convert {\n",
              "      background-color: #E8F0FE;\n",
              "      border: none;\n",
              "      border-radius: 50%;\n",
              "      cursor: pointer;\n",
              "      display: none;\n",
              "      fill: #1967D2;\n",
              "      height: 32px;\n",
              "      padding: 0 0 0 0;\n",
              "      width: 32px;\n",
              "    }\n",
              "\n",
              "    .colab-df-convert:hover {\n",
              "      background-color: #E2EBFA;\n",
              "      box-shadow: 0px 1px 2px rgba(60, 64, 67, 0.3), 0px 1px 3px 1px rgba(60, 64, 67, 0.15);\n",
              "      fill: #174EA6;\n",
              "    }\n",
              "\n",
              "    [theme=dark] .colab-df-convert {\n",
              "      background-color: #3B4455;\n",
              "      fill: #D2E3FC;\n",
              "    }\n",
              "\n",
              "    [theme=dark] .colab-df-convert:hover {\n",
              "      background-color: #434B5C;\n",
              "      box-shadow: 0px 1px 3px 1px rgba(0, 0, 0, 0.15);\n",
              "      filter: drop-shadow(0px 1px 2px rgba(0, 0, 0, 0.3));\n",
              "      fill: #FFFFFF;\n",
              "    }\n",
              "  </style>\n",
              "\n",
              "      <script>\n",
              "        const buttonEl =\n",
              "          document.querySelector('#df-06667e8f-e793-4a68-9b40-aadab0d4a8ec button.colab-df-convert');\n",
              "        buttonEl.style.display =\n",
              "          google.colab.kernel.accessAllowed ? 'block' : 'none';\n",
              "\n",
              "        async function convertToInteractive(key) {\n",
              "          const element = document.querySelector('#df-06667e8f-e793-4a68-9b40-aadab0d4a8ec');\n",
              "          const dataTable =\n",
              "            await google.colab.kernel.invokeFunction('convertToInteractive',\n",
              "                                                     [key], {});\n",
              "          if (!dataTable) return;\n",
              "\n",
              "          const docLinkHtml = 'Like what you see? Visit the ' +\n",
              "            '<a target=\"_blank\" href=https://colab.research.google.com/notebooks/data_table.ipynb>data table notebook</a>'\n",
              "            + ' to learn more about interactive tables.';\n",
              "          element.innerHTML = '';\n",
              "          dataTable['output_type'] = 'display_data';\n",
              "          await google.colab.output.renderOutput(dataTable, element);\n",
              "          const docLink = document.createElement('div');\n",
              "          docLink.innerHTML = docLinkHtml;\n",
              "          element.appendChild(docLink);\n",
              "        }\n",
              "      </script>\n",
              "    </div>\n",
              "  </div>\n",
              "  "
            ]
          },
          "metadata": {},
          "execution_count": 12
        }
      ],
      "source": [
        "df1 = df.drop([\"PRT_ID\",\"REG_FEE\",\"COMMIS\"], axis=\"columns\") \n",
        "df1.head()"
      ]
    },
    {
      "cell_type": "markdown",
      "metadata": {
        "id": "Nd5lvdAuq1e1"
      },
      "source": [
        "Converting Datatypes From Float To Int\n",
        "\n"
      ]
    },
    {
      "cell_type": "code",
      "execution_count": 13,
      "metadata": {
        "id": "oA_0Nvkiq07g"
      },
      "outputs": [],
      "source": [
        "df1[\"QS_ROOMS\"] = np.floor(pd.to_numeric(df1[\"QS_ROOMS\"])).astype(\"Int64\")\n",
        "df1[\"QS_BATHROOM\"] = np.floor(pd.to_numeric(df1[\"QS_BATHROOM\"])).astype(\"Int64\")\n",
        "df1[\"QS_BEDROOM\"] = np.floor(pd.to_numeric(df1[\"QS_BEDROOM\"])).astype(\"Int64\")\n",
        "df1[\"QS_OVERALL\"] = np.floor(pd.to_numeric(df1[\"QS_OVERALL\"])).astype(\"Int64\")\n",
        "df1[\"N_BATHROOM\"] = np.floor(pd.to_numeric(df1[\"N_BATHROOM\"])).astype(\"Int64\")\n",
        "df1[\"N_BEDROOM\"] = np.floor(pd.to_numeric(df1[\"N_BEDROOM\"])).astype(\"Int64\")"
      ]
    },
    {
      "cell_type": "code",
      "source": [
        "df1['BUILDTYPE'] = df1['BUILDTYPE'].replace(['Other', 'Comercial'],['Others','Commercial'])"
      ],
      "metadata": {
        "id": "yS_5xCXS1dXY"
      },
      "execution_count": 14,
      "outputs": []
    },
    {
      "cell_type": "markdown",
      "metadata": {
        "id": "Z2CsxLWsuSLU"
      },
      "source": [
        "Converting The DATE_SALE And DATE_BUILD Datatypes From Object To Datetime"
      ]
    },
    {
      "cell_type": "code",
      "execution_count": 15,
      "metadata": {
        "id": "O4BHYvv9un_E"
      },
      "outputs": [],
      "source": [
        "df1[\"DATE_SALE\"] = pd.to_datetime(df1[\"DATE_SALE\"])\n",
        "df1[\"DATE_BUILD\"] = pd.to_datetime(df1[\"DATE_BUILD\"])"
      ]
    },
    {
      "cell_type": "markdown",
      "metadata": {
        "id": "vxRAApK9vlX7"
      },
      "source": [
        "Updating New Features To The Dataframe"
      ]
    },
    {
      "cell_type": "code",
      "execution_count": 16,
      "metadata": {
        "colab": {
          "base_uri": "https://localhost:8080/"
        },
        "id": "qUrJIOdgv-Fb",
        "outputId": "5fa231ff-21cc-4945-ed06-fb097c17eb1e"
      },
      "outputs": [
        {
          "output_type": "execute_result",
          "data": {
            "text/plain": [
              "0   16031 days\n",
              "1    4015 days\n",
              "2    7152 days\n",
              "3    8030 days\n",
              "4   10802 days\n",
              "Name: HOUSE_AGE, dtype: timedelta64[ns]"
            ]
          },
          "metadata": {},
          "execution_count": 16
        }
      ],
      "source": [
        "df1[\"HOUSE_AGE\"] = df1[\"DATE_SALE\"]-df1[\"DATE_BUILD\"]\n",
        "df1[\"HOUSE_AGE\"].head()"
      ]
    },
    {
      "cell_type": "markdown",
      "metadata": {
        "id": "5f_35ftswh2C"
      },
      "source": [
        "Converting HOUSE_AGE Datatype From Timedelta64 To Float64"
      ]
    },
    {
      "cell_type": "code",
      "execution_count": 17,
      "metadata": {
        "colab": {
          "base_uri": "https://localhost:8080/"
        },
        "id": "4QfMXbEdwiGK",
        "outputId": "eddd0221-5b99-48f6-8e04-1bf228dd7a9e"
      },
      "outputs": [
        {
          "output_type": "execute_result",
          "data": {
            "text/plain": [
              "0    44.0\n",
              "1    11.0\n",
              "2    20.0\n",
              "3    22.0\n",
              "4    30.0\n",
              "Name: HOUSE_AGE, dtype: float64"
            ]
          },
          "metadata": {},
          "execution_count": 17
        }
      ],
      "source": [
        "df1[\"HOUSE_AGE\"] = df1[\"HOUSE_AGE\"]/np.timedelta64(1,\"Y\")\n",
        "df1[\"HOUSE_AGE\"] = np.round(df1[\"HOUSE_AGE\"])\n",
        "df1[\"HOUSE_AGE\"].head()"
      ]
    },
    {
      "cell_type": "code",
      "source": [
        "df1[\"HOUSE_AGE\"] = np.floor(pd.to_numeric(df1[\"HOUSE_AGE\"])).astype(\"Int64\")"
      ],
      "metadata": {
        "id": "dzLKtGf6mQV7"
      },
      "execution_count": 18,
      "outputs": []
    },
    {
      "cell_type": "code",
      "execution_count": 19,
      "metadata": {
        "colab": {
          "base_uri": "https://localhost:8080/"
        },
        "id": "9YQ_m0yruwoT",
        "outputId": "39770e51-6b05-4b07-aff8-6a2e8f2c86b8"
      },
      "outputs": [
        {
          "output_type": "stream",
          "name": "stdout",
          "text": [
            "<class 'pandas.core.frame.DataFrame'>\n",
            "Int64Index: 7109 entries, 0 to 7108\n",
            "Data columns (total 20 columns):\n",
            " #   Column         Non-Null Count  Dtype         \n",
            "---  ------         --------------  -----         \n",
            " 0   AREA           7109 non-null   object        \n",
            " 1   INT_SQFT       7109 non-null   int64         \n",
            " 2   DATE_SALE      7109 non-null   datetime64[ns]\n",
            " 3   DIST_MAINROAD  7109 non-null   int64         \n",
            " 4   N_BEDROOM      7109 non-null   Int64         \n",
            " 5   N_BATHROOM     7109 non-null   Int64         \n",
            " 6   N_ROOM         7109 non-null   int64         \n",
            " 7   SALE_COND      7109 non-null   object        \n",
            " 8   PARK_FACIL     7109 non-null   object        \n",
            " 9   DATE_BUILD     7109 non-null   datetime64[ns]\n",
            " 10  BUILDTYPE      7109 non-null   object        \n",
            " 11  UTILITY_AVAIL  7109 non-null   object        \n",
            " 12  STREET         7109 non-null   object        \n",
            " 13  MZZONE         7109 non-null   object        \n",
            " 14  QS_ROOMS       7109 non-null   Int64         \n",
            " 15  QS_BATHROOM    7109 non-null   Int64         \n",
            " 16  QS_BEDROOM     7109 non-null   Int64         \n",
            " 17  QS_OVERALL     7109 non-null   Int64         \n",
            " 18  SALES_PRICE    7109 non-null   int64         \n",
            " 19  HOUSE_AGE      7109 non-null   Int64         \n",
            "dtypes: Int64(7), datetime64[ns](2), int64(4), object(7)\n",
            "memory usage: 1.2+ MB\n"
          ]
        }
      ],
      "source": [
        "df1.info()"
      ]
    },
    {
      "cell_type": "markdown",
      "source": [
        "Dropping Date_build and Date_sale"
      ],
      "metadata": {
        "id": "tY84VMHM6soo"
      }
    },
    {
      "cell_type": "code",
      "execution_count": 20,
      "metadata": {
        "colab": {
          "base_uri": "https://localhost:8080/",
          "height": 540
        },
        "id": "r0A3UQ1lu3wL",
        "outputId": "fba7b39b-517a-42a5-90b4-4b05f918e604"
      },
      "outputs": [
        {
          "output_type": "execute_result",
          "data": {
            "text/plain": [
              "            AREA  INT_SQFT  DIST_MAINROAD  N_BEDROOM  N_BATHROOM  N_ROOM  \\\n",
              "0     Karapakkam      1004            131          1           1       3   \n",
              "1     Anna Nagar      1986             26          2           1       5   \n",
              "2          Adyar       909             70          1           1       3   \n",
              "3      Velachery      1855             14          3           2       5   \n",
              "4     Karapakkam      1226             84          1           1       3   \n",
              "...          ...       ...            ...        ...         ...     ...   \n",
              "7104  Karapakkam       598             51          1           1       2   \n",
              "7105   Velachery      1897             52          3           2       5   \n",
              "7106   Velachery      1614            152          2           1       4   \n",
              "7107  Karapakkam       787             40          1           1       2   \n",
              "7108   Velachery      1896            156          3           2       5   \n",
              "\n",
              "        SALE_COND PARK_FACIL   BUILDTYPE UTILITY_AVAIL     STREET MZZONE  \\\n",
              "0        AbNormal        Yes  Commercial        AllPub      Paved      A   \n",
              "1        AbNormal         No  Commercial        AllPub     Gravel     RH   \n",
              "2        AbNormal        Yes  Commercial           ELO     Gravel     RL   \n",
              "3          Family         No      Others       NoSewr       Paved      I   \n",
              "4        AbNormal        Yes      Others        AllPub     Gravel      C   \n",
              "...           ...        ...         ...           ...        ...    ...   \n",
              "7104      AdjLand         No      Others           ELO  No Access     RM   \n",
              "7105       Family        Yes      Others        NoSeWa  No Access     RH   \n",
              "7106  Normal Sale         No       House        NoSeWa     Gravel      I   \n",
              "7107      Partial        Yes  Commercial           ELO      Paved     RL   \n",
              "7108      Partial        Yes      Others           ELO      Paved      I   \n",
              "\n",
              "      QS_ROOMS  QS_BATHROOM  QS_BEDROOM  QS_OVERALL  SALES_PRICE  HOUSE_AGE  \n",
              "0            4            3           4           4      7600000         44  \n",
              "1            4            4           2           3     21717770         11  \n",
              "2            4            3           2           3     13159200         20  \n",
              "3            4            3           3           4      9630290         22  \n",
              "4            3            2           4           3      7406250         30  \n",
              "...        ...          ...         ...         ...          ...        ...  \n",
              "7104         3            2           2           2      5353000         49  \n",
              "7105         3            4           3           3     10818480          9  \n",
              "7106         4            4           2           3      8351410         29  \n",
              "7107         4            3           4           4      8507000         31  \n",
              "7108         3            3           4           3      9976480         44  \n",
              "\n",
              "[7109 rows x 18 columns]"
            ],
            "text/html": [
              "\n",
              "  <div id=\"df-a2a16306-40d4-4909-b3dc-90809bf521b4\">\n",
              "    <div class=\"colab-df-container\">\n",
              "      <div>\n",
              "<style scoped>\n",
              "    .dataframe tbody tr th:only-of-type {\n",
              "        vertical-align: middle;\n",
              "    }\n",
              "\n",
              "    .dataframe tbody tr th {\n",
              "        vertical-align: top;\n",
              "    }\n",
              "\n",
              "    .dataframe thead th {\n",
              "        text-align: right;\n",
              "    }\n",
              "</style>\n",
              "<table border=\"1\" class=\"dataframe\">\n",
              "  <thead>\n",
              "    <tr style=\"text-align: right;\">\n",
              "      <th></th>\n",
              "      <th>AREA</th>\n",
              "      <th>INT_SQFT</th>\n",
              "      <th>DIST_MAINROAD</th>\n",
              "      <th>N_BEDROOM</th>\n",
              "      <th>N_BATHROOM</th>\n",
              "      <th>N_ROOM</th>\n",
              "      <th>SALE_COND</th>\n",
              "      <th>PARK_FACIL</th>\n",
              "      <th>BUILDTYPE</th>\n",
              "      <th>UTILITY_AVAIL</th>\n",
              "      <th>STREET</th>\n",
              "      <th>MZZONE</th>\n",
              "      <th>QS_ROOMS</th>\n",
              "      <th>QS_BATHROOM</th>\n",
              "      <th>QS_BEDROOM</th>\n",
              "      <th>QS_OVERALL</th>\n",
              "      <th>SALES_PRICE</th>\n",
              "      <th>HOUSE_AGE</th>\n",
              "    </tr>\n",
              "  </thead>\n",
              "  <tbody>\n",
              "    <tr>\n",
              "      <th>0</th>\n",
              "      <td>Karapakkam</td>\n",
              "      <td>1004</td>\n",
              "      <td>131</td>\n",
              "      <td>1</td>\n",
              "      <td>1</td>\n",
              "      <td>3</td>\n",
              "      <td>AbNormal</td>\n",
              "      <td>Yes</td>\n",
              "      <td>Commercial</td>\n",
              "      <td>AllPub</td>\n",
              "      <td>Paved</td>\n",
              "      <td>A</td>\n",
              "      <td>4</td>\n",
              "      <td>3</td>\n",
              "      <td>4</td>\n",
              "      <td>4</td>\n",
              "      <td>7600000</td>\n",
              "      <td>44</td>\n",
              "    </tr>\n",
              "    <tr>\n",
              "      <th>1</th>\n",
              "      <td>Anna Nagar</td>\n",
              "      <td>1986</td>\n",
              "      <td>26</td>\n",
              "      <td>2</td>\n",
              "      <td>1</td>\n",
              "      <td>5</td>\n",
              "      <td>AbNormal</td>\n",
              "      <td>No</td>\n",
              "      <td>Commercial</td>\n",
              "      <td>AllPub</td>\n",
              "      <td>Gravel</td>\n",
              "      <td>RH</td>\n",
              "      <td>4</td>\n",
              "      <td>4</td>\n",
              "      <td>2</td>\n",
              "      <td>3</td>\n",
              "      <td>21717770</td>\n",
              "      <td>11</td>\n",
              "    </tr>\n",
              "    <tr>\n",
              "      <th>2</th>\n",
              "      <td>Adyar</td>\n",
              "      <td>909</td>\n",
              "      <td>70</td>\n",
              "      <td>1</td>\n",
              "      <td>1</td>\n",
              "      <td>3</td>\n",
              "      <td>AbNormal</td>\n",
              "      <td>Yes</td>\n",
              "      <td>Commercial</td>\n",
              "      <td>ELO</td>\n",
              "      <td>Gravel</td>\n",
              "      <td>RL</td>\n",
              "      <td>4</td>\n",
              "      <td>3</td>\n",
              "      <td>2</td>\n",
              "      <td>3</td>\n",
              "      <td>13159200</td>\n",
              "      <td>20</td>\n",
              "    </tr>\n",
              "    <tr>\n",
              "      <th>3</th>\n",
              "      <td>Velachery</td>\n",
              "      <td>1855</td>\n",
              "      <td>14</td>\n",
              "      <td>3</td>\n",
              "      <td>2</td>\n",
              "      <td>5</td>\n",
              "      <td>Family</td>\n",
              "      <td>No</td>\n",
              "      <td>Others</td>\n",
              "      <td>NoSewr</td>\n",
              "      <td>Paved</td>\n",
              "      <td>I</td>\n",
              "      <td>4</td>\n",
              "      <td>3</td>\n",
              "      <td>3</td>\n",
              "      <td>4</td>\n",
              "      <td>9630290</td>\n",
              "      <td>22</td>\n",
              "    </tr>\n",
              "    <tr>\n",
              "      <th>4</th>\n",
              "      <td>Karapakkam</td>\n",
              "      <td>1226</td>\n",
              "      <td>84</td>\n",
              "      <td>1</td>\n",
              "      <td>1</td>\n",
              "      <td>3</td>\n",
              "      <td>AbNormal</td>\n",
              "      <td>Yes</td>\n",
              "      <td>Others</td>\n",
              "      <td>AllPub</td>\n",
              "      <td>Gravel</td>\n",
              "      <td>C</td>\n",
              "      <td>3</td>\n",
              "      <td>2</td>\n",
              "      <td>4</td>\n",
              "      <td>3</td>\n",
              "      <td>7406250</td>\n",
              "      <td>30</td>\n",
              "    </tr>\n",
              "    <tr>\n",
              "      <th>...</th>\n",
              "      <td>...</td>\n",
              "      <td>...</td>\n",
              "      <td>...</td>\n",
              "      <td>...</td>\n",
              "      <td>...</td>\n",
              "      <td>...</td>\n",
              "      <td>...</td>\n",
              "      <td>...</td>\n",
              "      <td>...</td>\n",
              "      <td>...</td>\n",
              "      <td>...</td>\n",
              "      <td>...</td>\n",
              "      <td>...</td>\n",
              "      <td>...</td>\n",
              "      <td>...</td>\n",
              "      <td>...</td>\n",
              "      <td>...</td>\n",
              "      <td>...</td>\n",
              "    </tr>\n",
              "    <tr>\n",
              "      <th>7104</th>\n",
              "      <td>Karapakkam</td>\n",
              "      <td>598</td>\n",
              "      <td>51</td>\n",
              "      <td>1</td>\n",
              "      <td>1</td>\n",
              "      <td>2</td>\n",
              "      <td>AdjLand</td>\n",
              "      <td>No</td>\n",
              "      <td>Others</td>\n",
              "      <td>ELO</td>\n",
              "      <td>No Access</td>\n",
              "      <td>RM</td>\n",
              "      <td>3</td>\n",
              "      <td>2</td>\n",
              "      <td>2</td>\n",
              "      <td>2</td>\n",
              "      <td>5353000</td>\n",
              "      <td>49</td>\n",
              "    </tr>\n",
              "    <tr>\n",
              "      <th>7105</th>\n",
              "      <td>Velachery</td>\n",
              "      <td>1897</td>\n",
              "      <td>52</td>\n",
              "      <td>3</td>\n",
              "      <td>2</td>\n",
              "      <td>5</td>\n",
              "      <td>Family</td>\n",
              "      <td>Yes</td>\n",
              "      <td>Others</td>\n",
              "      <td>NoSeWa</td>\n",
              "      <td>No Access</td>\n",
              "      <td>RH</td>\n",
              "      <td>3</td>\n",
              "      <td>4</td>\n",
              "      <td>3</td>\n",
              "      <td>3</td>\n",
              "      <td>10818480</td>\n",
              "      <td>9</td>\n",
              "    </tr>\n",
              "    <tr>\n",
              "      <th>7106</th>\n",
              "      <td>Velachery</td>\n",
              "      <td>1614</td>\n",
              "      <td>152</td>\n",
              "      <td>2</td>\n",
              "      <td>1</td>\n",
              "      <td>4</td>\n",
              "      <td>Normal Sale</td>\n",
              "      <td>No</td>\n",
              "      <td>House</td>\n",
              "      <td>NoSeWa</td>\n",
              "      <td>Gravel</td>\n",
              "      <td>I</td>\n",
              "      <td>4</td>\n",
              "      <td>4</td>\n",
              "      <td>2</td>\n",
              "      <td>3</td>\n",
              "      <td>8351410</td>\n",
              "      <td>29</td>\n",
              "    </tr>\n",
              "    <tr>\n",
              "      <th>7107</th>\n",
              "      <td>Karapakkam</td>\n",
              "      <td>787</td>\n",
              "      <td>40</td>\n",
              "      <td>1</td>\n",
              "      <td>1</td>\n",
              "      <td>2</td>\n",
              "      <td>Partial</td>\n",
              "      <td>Yes</td>\n",
              "      <td>Commercial</td>\n",
              "      <td>ELO</td>\n",
              "      <td>Paved</td>\n",
              "      <td>RL</td>\n",
              "      <td>4</td>\n",
              "      <td>3</td>\n",
              "      <td>4</td>\n",
              "      <td>4</td>\n",
              "      <td>8507000</td>\n",
              "      <td>31</td>\n",
              "    </tr>\n",
              "    <tr>\n",
              "      <th>7108</th>\n",
              "      <td>Velachery</td>\n",
              "      <td>1896</td>\n",
              "      <td>156</td>\n",
              "      <td>3</td>\n",
              "      <td>2</td>\n",
              "      <td>5</td>\n",
              "      <td>Partial</td>\n",
              "      <td>Yes</td>\n",
              "      <td>Others</td>\n",
              "      <td>ELO</td>\n",
              "      <td>Paved</td>\n",
              "      <td>I</td>\n",
              "      <td>3</td>\n",
              "      <td>3</td>\n",
              "      <td>4</td>\n",
              "      <td>3</td>\n",
              "      <td>9976480</td>\n",
              "      <td>44</td>\n",
              "    </tr>\n",
              "  </tbody>\n",
              "</table>\n",
              "<p>7109 rows × 18 columns</p>\n",
              "</div>\n",
              "      <button class=\"colab-df-convert\" onclick=\"convertToInteractive('df-a2a16306-40d4-4909-b3dc-90809bf521b4')\"\n",
              "              title=\"Convert this dataframe to an interactive table.\"\n",
              "              style=\"display:none;\">\n",
              "        \n",
              "  <svg xmlns=\"http://www.w3.org/2000/svg\" height=\"24px\"viewBox=\"0 0 24 24\"\n",
              "       width=\"24px\">\n",
              "    <path d=\"M0 0h24v24H0V0z\" fill=\"none\"/>\n",
              "    <path d=\"M18.56 5.44l.94 2.06.94-2.06 2.06-.94-2.06-.94-.94-2.06-.94 2.06-2.06.94zm-11 1L8.5 8.5l.94-2.06 2.06-.94-2.06-.94L8.5 2.5l-.94 2.06-2.06.94zm10 10l.94 2.06.94-2.06 2.06-.94-2.06-.94-.94-2.06-.94 2.06-2.06.94z\"/><path d=\"M17.41 7.96l-1.37-1.37c-.4-.4-.92-.59-1.43-.59-.52 0-1.04.2-1.43.59L10.3 9.45l-7.72 7.72c-.78.78-.78 2.05 0 2.83L4 21.41c.39.39.9.59 1.41.59.51 0 1.02-.2 1.41-.59l7.78-7.78 2.81-2.81c.8-.78.8-2.07 0-2.86zM5.41 20L4 18.59l7.72-7.72 1.47 1.35L5.41 20z\"/>\n",
              "  </svg>\n",
              "      </button>\n",
              "      \n",
              "  <style>\n",
              "    .colab-df-container {\n",
              "      display:flex;\n",
              "      flex-wrap:wrap;\n",
              "      gap: 12px;\n",
              "    }\n",
              "\n",
              "    .colab-df-convert {\n",
              "      background-color: #E8F0FE;\n",
              "      border: none;\n",
              "      border-radius: 50%;\n",
              "      cursor: pointer;\n",
              "      display: none;\n",
              "      fill: #1967D2;\n",
              "      height: 32px;\n",
              "      padding: 0 0 0 0;\n",
              "      width: 32px;\n",
              "    }\n",
              "\n",
              "    .colab-df-convert:hover {\n",
              "      background-color: #E2EBFA;\n",
              "      box-shadow: 0px 1px 2px rgba(60, 64, 67, 0.3), 0px 1px 3px 1px rgba(60, 64, 67, 0.15);\n",
              "      fill: #174EA6;\n",
              "    }\n",
              "\n",
              "    [theme=dark] .colab-df-convert {\n",
              "      background-color: #3B4455;\n",
              "      fill: #D2E3FC;\n",
              "    }\n",
              "\n",
              "    [theme=dark] .colab-df-convert:hover {\n",
              "      background-color: #434B5C;\n",
              "      box-shadow: 0px 1px 3px 1px rgba(0, 0, 0, 0.15);\n",
              "      filter: drop-shadow(0px 1px 2px rgba(0, 0, 0, 0.3));\n",
              "      fill: #FFFFFF;\n",
              "    }\n",
              "  </style>\n",
              "\n",
              "      <script>\n",
              "        const buttonEl =\n",
              "          document.querySelector('#df-a2a16306-40d4-4909-b3dc-90809bf521b4 button.colab-df-convert');\n",
              "        buttonEl.style.display =\n",
              "          google.colab.kernel.accessAllowed ? 'block' : 'none';\n",
              "\n",
              "        async function convertToInteractive(key) {\n",
              "          const element = document.querySelector('#df-a2a16306-40d4-4909-b3dc-90809bf521b4');\n",
              "          const dataTable =\n",
              "            await google.colab.kernel.invokeFunction('convertToInteractive',\n",
              "                                                     [key], {});\n",
              "          if (!dataTable) return;\n",
              "\n",
              "          const docLinkHtml = 'Like what you see? Visit the ' +\n",
              "            '<a target=\"_blank\" href=https://colab.research.google.com/notebooks/data_table.ipynb>data table notebook</a>'\n",
              "            + ' to learn more about interactive tables.';\n",
              "          element.innerHTML = '';\n",
              "          dataTable['output_type'] = 'display_data';\n",
              "          await google.colab.output.renderOutput(dataTable, element);\n",
              "          const docLink = document.createElement('div');\n",
              "          docLink.innerHTML = docLinkHtml;\n",
              "          element.appendChild(docLink);\n",
              "        }\n",
              "      </script>\n",
              "    </div>\n",
              "  </div>\n",
              "  "
            ]
          },
          "metadata": {},
          "execution_count": 20
        }
      ],
      "source": [
        "df1 = df1.drop([\"DATE_BUILD\",\"DATE_SALE\"], axis=1)\n",
        "df1"
      ]
    },
    {
      "cell_type": "code",
      "source": [
        "df2 = df1.copy()\n",
        "df2"
      ],
      "metadata": {
        "colab": {
          "base_uri": "https://localhost:8080/",
          "height": 540
        },
        "id": "VRiWPs7eIiRZ",
        "outputId": "6ab2a9a1-e22f-4865-9253-bf10013f533e"
      },
      "execution_count": 21,
      "outputs": [
        {
          "output_type": "execute_result",
          "data": {
            "text/plain": [
              "            AREA  INT_SQFT  DIST_MAINROAD  N_BEDROOM  N_BATHROOM  N_ROOM  \\\n",
              "0     Karapakkam      1004            131          1           1       3   \n",
              "1     Anna Nagar      1986             26          2           1       5   \n",
              "2          Adyar       909             70          1           1       3   \n",
              "3      Velachery      1855             14          3           2       5   \n",
              "4     Karapakkam      1226             84          1           1       3   \n",
              "...          ...       ...            ...        ...         ...     ...   \n",
              "7104  Karapakkam       598             51          1           1       2   \n",
              "7105   Velachery      1897             52          3           2       5   \n",
              "7106   Velachery      1614            152          2           1       4   \n",
              "7107  Karapakkam       787             40          1           1       2   \n",
              "7108   Velachery      1896            156          3           2       5   \n",
              "\n",
              "        SALE_COND PARK_FACIL   BUILDTYPE UTILITY_AVAIL     STREET MZZONE  \\\n",
              "0        AbNormal        Yes  Commercial        AllPub      Paved      A   \n",
              "1        AbNormal         No  Commercial        AllPub     Gravel     RH   \n",
              "2        AbNormal        Yes  Commercial           ELO     Gravel     RL   \n",
              "3          Family         No      Others       NoSewr       Paved      I   \n",
              "4        AbNormal        Yes      Others        AllPub     Gravel      C   \n",
              "...           ...        ...         ...           ...        ...    ...   \n",
              "7104      AdjLand         No      Others           ELO  No Access     RM   \n",
              "7105       Family        Yes      Others        NoSeWa  No Access     RH   \n",
              "7106  Normal Sale         No       House        NoSeWa     Gravel      I   \n",
              "7107      Partial        Yes  Commercial           ELO      Paved     RL   \n",
              "7108      Partial        Yes      Others           ELO      Paved      I   \n",
              "\n",
              "      QS_ROOMS  QS_BATHROOM  QS_BEDROOM  QS_OVERALL  SALES_PRICE  HOUSE_AGE  \n",
              "0            4            3           4           4      7600000         44  \n",
              "1            4            4           2           3     21717770         11  \n",
              "2            4            3           2           3     13159200         20  \n",
              "3            4            3           3           4      9630290         22  \n",
              "4            3            2           4           3      7406250         30  \n",
              "...        ...          ...         ...         ...          ...        ...  \n",
              "7104         3            2           2           2      5353000         49  \n",
              "7105         3            4           3           3     10818480          9  \n",
              "7106         4            4           2           3      8351410         29  \n",
              "7107         4            3           4           4      8507000         31  \n",
              "7108         3            3           4           3      9976480         44  \n",
              "\n",
              "[7109 rows x 18 columns]"
            ],
            "text/html": [
              "\n",
              "  <div id=\"df-57b9c2a6-6ba8-4c6d-b7aa-09399a706ec0\">\n",
              "    <div class=\"colab-df-container\">\n",
              "      <div>\n",
              "<style scoped>\n",
              "    .dataframe tbody tr th:only-of-type {\n",
              "        vertical-align: middle;\n",
              "    }\n",
              "\n",
              "    .dataframe tbody tr th {\n",
              "        vertical-align: top;\n",
              "    }\n",
              "\n",
              "    .dataframe thead th {\n",
              "        text-align: right;\n",
              "    }\n",
              "</style>\n",
              "<table border=\"1\" class=\"dataframe\">\n",
              "  <thead>\n",
              "    <tr style=\"text-align: right;\">\n",
              "      <th></th>\n",
              "      <th>AREA</th>\n",
              "      <th>INT_SQFT</th>\n",
              "      <th>DIST_MAINROAD</th>\n",
              "      <th>N_BEDROOM</th>\n",
              "      <th>N_BATHROOM</th>\n",
              "      <th>N_ROOM</th>\n",
              "      <th>SALE_COND</th>\n",
              "      <th>PARK_FACIL</th>\n",
              "      <th>BUILDTYPE</th>\n",
              "      <th>UTILITY_AVAIL</th>\n",
              "      <th>STREET</th>\n",
              "      <th>MZZONE</th>\n",
              "      <th>QS_ROOMS</th>\n",
              "      <th>QS_BATHROOM</th>\n",
              "      <th>QS_BEDROOM</th>\n",
              "      <th>QS_OVERALL</th>\n",
              "      <th>SALES_PRICE</th>\n",
              "      <th>HOUSE_AGE</th>\n",
              "    </tr>\n",
              "  </thead>\n",
              "  <tbody>\n",
              "    <tr>\n",
              "      <th>0</th>\n",
              "      <td>Karapakkam</td>\n",
              "      <td>1004</td>\n",
              "      <td>131</td>\n",
              "      <td>1</td>\n",
              "      <td>1</td>\n",
              "      <td>3</td>\n",
              "      <td>AbNormal</td>\n",
              "      <td>Yes</td>\n",
              "      <td>Commercial</td>\n",
              "      <td>AllPub</td>\n",
              "      <td>Paved</td>\n",
              "      <td>A</td>\n",
              "      <td>4</td>\n",
              "      <td>3</td>\n",
              "      <td>4</td>\n",
              "      <td>4</td>\n",
              "      <td>7600000</td>\n",
              "      <td>44</td>\n",
              "    </tr>\n",
              "    <tr>\n",
              "      <th>1</th>\n",
              "      <td>Anna Nagar</td>\n",
              "      <td>1986</td>\n",
              "      <td>26</td>\n",
              "      <td>2</td>\n",
              "      <td>1</td>\n",
              "      <td>5</td>\n",
              "      <td>AbNormal</td>\n",
              "      <td>No</td>\n",
              "      <td>Commercial</td>\n",
              "      <td>AllPub</td>\n",
              "      <td>Gravel</td>\n",
              "      <td>RH</td>\n",
              "      <td>4</td>\n",
              "      <td>4</td>\n",
              "      <td>2</td>\n",
              "      <td>3</td>\n",
              "      <td>21717770</td>\n",
              "      <td>11</td>\n",
              "    </tr>\n",
              "    <tr>\n",
              "      <th>2</th>\n",
              "      <td>Adyar</td>\n",
              "      <td>909</td>\n",
              "      <td>70</td>\n",
              "      <td>1</td>\n",
              "      <td>1</td>\n",
              "      <td>3</td>\n",
              "      <td>AbNormal</td>\n",
              "      <td>Yes</td>\n",
              "      <td>Commercial</td>\n",
              "      <td>ELO</td>\n",
              "      <td>Gravel</td>\n",
              "      <td>RL</td>\n",
              "      <td>4</td>\n",
              "      <td>3</td>\n",
              "      <td>2</td>\n",
              "      <td>3</td>\n",
              "      <td>13159200</td>\n",
              "      <td>20</td>\n",
              "    </tr>\n",
              "    <tr>\n",
              "      <th>3</th>\n",
              "      <td>Velachery</td>\n",
              "      <td>1855</td>\n",
              "      <td>14</td>\n",
              "      <td>3</td>\n",
              "      <td>2</td>\n",
              "      <td>5</td>\n",
              "      <td>Family</td>\n",
              "      <td>No</td>\n",
              "      <td>Others</td>\n",
              "      <td>NoSewr</td>\n",
              "      <td>Paved</td>\n",
              "      <td>I</td>\n",
              "      <td>4</td>\n",
              "      <td>3</td>\n",
              "      <td>3</td>\n",
              "      <td>4</td>\n",
              "      <td>9630290</td>\n",
              "      <td>22</td>\n",
              "    </tr>\n",
              "    <tr>\n",
              "      <th>4</th>\n",
              "      <td>Karapakkam</td>\n",
              "      <td>1226</td>\n",
              "      <td>84</td>\n",
              "      <td>1</td>\n",
              "      <td>1</td>\n",
              "      <td>3</td>\n",
              "      <td>AbNormal</td>\n",
              "      <td>Yes</td>\n",
              "      <td>Others</td>\n",
              "      <td>AllPub</td>\n",
              "      <td>Gravel</td>\n",
              "      <td>C</td>\n",
              "      <td>3</td>\n",
              "      <td>2</td>\n",
              "      <td>4</td>\n",
              "      <td>3</td>\n",
              "      <td>7406250</td>\n",
              "      <td>30</td>\n",
              "    </tr>\n",
              "    <tr>\n",
              "      <th>...</th>\n",
              "      <td>...</td>\n",
              "      <td>...</td>\n",
              "      <td>...</td>\n",
              "      <td>...</td>\n",
              "      <td>...</td>\n",
              "      <td>...</td>\n",
              "      <td>...</td>\n",
              "      <td>...</td>\n",
              "      <td>...</td>\n",
              "      <td>...</td>\n",
              "      <td>...</td>\n",
              "      <td>...</td>\n",
              "      <td>...</td>\n",
              "      <td>...</td>\n",
              "      <td>...</td>\n",
              "      <td>...</td>\n",
              "      <td>...</td>\n",
              "      <td>...</td>\n",
              "    </tr>\n",
              "    <tr>\n",
              "      <th>7104</th>\n",
              "      <td>Karapakkam</td>\n",
              "      <td>598</td>\n",
              "      <td>51</td>\n",
              "      <td>1</td>\n",
              "      <td>1</td>\n",
              "      <td>2</td>\n",
              "      <td>AdjLand</td>\n",
              "      <td>No</td>\n",
              "      <td>Others</td>\n",
              "      <td>ELO</td>\n",
              "      <td>No Access</td>\n",
              "      <td>RM</td>\n",
              "      <td>3</td>\n",
              "      <td>2</td>\n",
              "      <td>2</td>\n",
              "      <td>2</td>\n",
              "      <td>5353000</td>\n",
              "      <td>49</td>\n",
              "    </tr>\n",
              "    <tr>\n",
              "      <th>7105</th>\n",
              "      <td>Velachery</td>\n",
              "      <td>1897</td>\n",
              "      <td>52</td>\n",
              "      <td>3</td>\n",
              "      <td>2</td>\n",
              "      <td>5</td>\n",
              "      <td>Family</td>\n",
              "      <td>Yes</td>\n",
              "      <td>Others</td>\n",
              "      <td>NoSeWa</td>\n",
              "      <td>No Access</td>\n",
              "      <td>RH</td>\n",
              "      <td>3</td>\n",
              "      <td>4</td>\n",
              "      <td>3</td>\n",
              "      <td>3</td>\n",
              "      <td>10818480</td>\n",
              "      <td>9</td>\n",
              "    </tr>\n",
              "    <tr>\n",
              "      <th>7106</th>\n",
              "      <td>Velachery</td>\n",
              "      <td>1614</td>\n",
              "      <td>152</td>\n",
              "      <td>2</td>\n",
              "      <td>1</td>\n",
              "      <td>4</td>\n",
              "      <td>Normal Sale</td>\n",
              "      <td>No</td>\n",
              "      <td>House</td>\n",
              "      <td>NoSeWa</td>\n",
              "      <td>Gravel</td>\n",
              "      <td>I</td>\n",
              "      <td>4</td>\n",
              "      <td>4</td>\n",
              "      <td>2</td>\n",
              "      <td>3</td>\n",
              "      <td>8351410</td>\n",
              "      <td>29</td>\n",
              "    </tr>\n",
              "    <tr>\n",
              "      <th>7107</th>\n",
              "      <td>Karapakkam</td>\n",
              "      <td>787</td>\n",
              "      <td>40</td>\n",
              "      <td>1</td>\n",
              "      <td>1</td>\n",
              "      <td>2</td>\n",
              "      <td>Partial</td>\n",
              "      <td>Yes</td>\n",
              "      <td>Commercial</td>\n",
              "      <td>ELO</td>\n",
              "      <td>Paved</td>\n",
              "      <td>RL</td>\n",
              "      <td>4</td>\n",
              "      <td>3</td>\n",
              "      <td>4</td>\n",
              "      <td>4</td>\n",
              "      <td>8507000</td>\n",
              "      <td>31</td>\n",
              "    </tr>\n",
              "    <tr>\n",
              "      <th>7108</th>\n",
              "      <td>Velachery</td>\n",
              "      <td>1896</td>\n",
              "      <td>156</td>\n",
              "      <td>3</td>\n",
              "      <td>2</td>\n",
              "      <td>5</td>\n",
              "      <td>Partial</td>\n",
              "      <td>Yes</td>\n",
              "      <td>Others</td>\n",
              "      <td>ELO</td>\n",
              "      <td>Paved</td>\n",
              "      <td>I</td>\n",
              "      <td>3</td>\n",
              "      <td>3</td>\n",
              "      <td>4</td>\n",
              "      <td>3</td>\n",
              "      <td>9976480</td>\n",
              "      <td>44</td>\n",
              "    </tr>\n",
              "  </tbody>\n",
              "</table>\n",
              "<p>7109 rows × 18 columns</p>\n",
              "</div>\n",
              "      <button class=\"colab-df-convert\" onclick=\"convertToInteractive('df-57b9c2a6-6ba8-4c6d-b7aa-09399a706ec0')\"\n",
              "              title=\"Convert this dataframe to an interactive table.\"\n",
              "              style=\"display:none;\">\n",
              "        \n",
              "  <svg xmlns=\"http://www.w3.org/2000/svg\" height=\"24px\"viewBox=\"0 0 24 24\"\n",
              "       width=\"24px\">\n",
              "    <path d=\"M0 0h24v24H0V0z\" fill=\"none\"/>\n",
              "    <path d=\"M18.56 5.44l.94 2.06.94-2.06 2.06-.94-2.06-.94-.94-2.06-.94 2.06-2.06.94zm-11 1L8.5 8.5l.94-2.06 2.06-.94-2.06-.94L8.5 2.5l-.94 2.06-2.06.94zm10 10l.94 2.06.94-2.06 2.06-.94-2.06-.94-.94-2.06-.94 2.06-2.06.94z\"/><path d=\"M17.41 7.96l-1.37-1.37c-.4-.4-.92-.59-1.43-.59-.52 0-1.04.2-1.43.59L10.3 9.45l-7.72 7.72c-.78.78-.78 2.05 0 2.83L4 21.41c.39.39.9.59 1.41.59.51 0 1.02-.2 1.41-.59l7.78-7.78 2.81-2.81c.8-.78.8-2.07 0-2.86zM5.41 20L4 18.59l7.72-7.72 1.47 1.35L5.41 20z\"/>\n",
              "  </svg>\n",
              "      </button>\n",
              "      \n",
              "  <style>\n",
              "    .colab-df-container {\n",
              "      display:flex;\n",
              "      flex-wrap:wrap;\n",
              "      gap: 12px;\n",
              "    }\n",
              "\n",
              "    .colab-df-convert {\n",
              "      background-color: #E8F0FE;\n",
              "      border: none;\n",
              "      border-radius: 50%;\n",
              "      cursor: pointer;\n",
              "      display: none;\n",
              "      fill: #1967D2;\n",
              "      height: 32px;\n",
              "      padding: 0 0 0 0;\n",
              "      width: 32px;\n",
              "    }\n",
              "\n",
              "    .colab-df-convert:hover {\n",
              "      background-color: #E2EBFA;\n",
              "      box-shadow: 0px 1px 2px rgba(60, 64, 67, 0.3), 0px 1px 3px 1px rgba(60, 64, 67, 0.15);\n",
              "      fill: #174EA6;\n",
              "    }\n",
              "\n",
              "    [theme=dark] .colab-df-convert {\n",
              "      background-color: #3B4455;\n",
              "      fill: #D2E3FC;\n",
              "    }\n",
              "\n",
              "    [theme=dark] .colab-df-convert:hover {\n",
              "      background-color: #434B5C;\n",
              "      box-shadow: 0px 1px 3px 1px rgba(0, 0, 0, 0.15);\n",
              "      filter: drop-shadow(0px 1px 2px rgba(0, 0, 0, 0.3));\n",
              "      fill: #FFFFFF;\n",
              "    }\n",
              "  </style>\n",
              "\n",
              "      <script>\n",
              "        const buttonEl =\n",
              "          document.querySelector('#df-57b9c2a6-6ba8-4c6d-b7aa-09399a706ec0 button.colab-df-convert');\n",
              "        buttonEl.style.display =\n",
              "          google.colab.kernel.accessAllowed ? 'block' : 'none';\n",
              "\n",
              "        async function convertToInteractive(key) {\n",
              "          const element = document.querySelector('#df-57b9c2a6-6ba8-4c6d-b7aa-09399a706ec0');\n",
              "          const dataTable =\n",
              "            await google.colab.kernel.invokeFunction('convertToInteractive',\n",
              "                                                     [key], {});\n",
              "          if (!dataTable) return;\n",
              "\n",
              "          const docLinkHtml = 'Like what you see? Visit the ' +\n",
              "            '<a target=\"_blank\" href=https://colab.research.google.com/notebooks/data_table.ipynb>data table notebook</a>'\n",
              "            + ' to learn more about interactive tables.';\n",
              "          element.innerHTML = '';\n",
              "          dataTable['output_type'] = 'display_data';\n",
              "          await google.colab.output.renderOutput(dataTable, element);\n",
              "          const docLink = document.createElement('div');\n",
              "          docLink.innerHTML = docLinkHtml;\n",
              "          element.appendChild(docLink);\n",
              "        }\n",
              "      </script>\n",
              "    </div>\n",
              "  </div>\n",
              "  "
            ]
          },
          "metadata": {},
          "execution_count": 21
        }
      ]
    },
    {
      "cell_type": "code",
      "execution_count": 22,
      "metadata": {
        "colab": {
          "base_uri": "https://localhost:8080/"
        },
        "id": "wXSWAJgolP0o",
        "outputId": "7fde6abf-7c24-4fd5-c9ca-bc3b1f08c0da"
      },
      "outputs": [
        {
          "output_type": "stream",
          "name": "stdout",
          "text": [
            "The feature is AREA and number of categories are  = ['Karapakkam' 'Anna Nagar' 'Adyar' 'Velachery' 'Chrompet' 'KK Nagar'\n",
            " 'TNagar' 'T Nagar' 'Chrompt' 'Chrmpet' 'Karapakam' 'Ana Nagar' 'Chormpet'\n",
            " 'Adyr' 'Velchery' 'Ann Nagar' 'KKNagar']\n",
            "The feature is SALE_COND and number of categories are  = ['AbNormal' 'Family' 'Partial' 'AdjLand' 'Normal Sale' 'Ab Normal'\n",
            " 'Partiall' 'Adj Land' 'PartiaLl']\n",
            "The feature is PARK_FACIL and number of categories are  = ['Yes' 'No' 'Noo']\n",
            "The feature is BUILDTYPE and number of categories are  = ['Commercial' 'Others' 'House']\n",
            "The feature is UTILITY_AVAIL and number of categories are  = ['AllPub' 'ELO' 'NoSewr ' 'NoSeWa' 'All Pub']\n",
            "The feature is STREET and number of categories are  = ['Paved' 'Gravel' 'No Access' 'Pavd' 'NoAccess']\n",
            "The feature is MZZONE and number of categories are  = ['A' 'RH' 'RL' 'I' 'C' 'RM']\n"
          ]
        }
      ],
      "source": [
        "features = [feature for feature in df2.columns if df2[feature].dtypes == \"O\"]\n",
        "features = df2[features]\n",
        "for feature in features:\n",
        "  print(\"The feature is {} and number of categories are  = {}\".format(feature,(df2[feature].unique())))"
      ]
    },
    {
      "cell_type": "markdown",
      "metadata": {
        "id": "Wo8AeXiwENon"
      },
      "source": [
        "Using Replacement Function To Correct The Spelling Mistakes"
      ]
    },
    {
      "cell_type": "code",
      "source": [
        "df2['AREA'] = df2.AREA.replace('Karapakam', 'Karapakkam')\n",
        "df2['AREA'] = df2.AREA.replace('Ann Nagar', 'Anna Nagar')\n",
        "df2['AREA'] = df2.AREA.replace('Adyr', 'Adyar')\n",
        "df2['AREA'] = df2.AREA.replace('Velchery', 'Velachery')\n",
        "df2['AREA'] = df2.AREA.replace('Chrompet', 'Chromepet')\n",
        "df2['AREA'] = df2.AREA.replace('Chrompt', 'Chromepet')\n",
        "df2['AREA'] = df2.AREA.replace('Chrmpet', 'Chromepet')\n",
        "df2['AREA'] = df2.AREA.replace('Chormpet', 'Chromepet')\n",
        "df2['AREA'] = df2.AREA.replace('TNagar', 'T Nagar')\n",
        "df2['AREA'] = df2.AREA.replace('Ana Nagar', 'Anna Nagar')\n",
        "df2['AREA'] = df2.AREA.replace('KKNagar', 'KK Nagar')"
      ],
      "metadata": {
        "id": "1XfQk0zJg1TK"
      },
      "execution_count": 23,
      "outputs": []
    },
    {
      "cell_type": "code",
      "source": [
        "df2['SALE_COND'] = df2.SALE_COND.replace('AbNormal', 'Abnormal')\n",
        "df2['SALE_COND'] = df2.SALE_COND.replace('Ab Normal', 'Abnormal')\n",
        "df2['SALE_COND'] = df2.SALE_COND.replace('Partiall', 'Partial')\n",
        "df2['SALE_COND'] = df2.SALE_COND.replace('PartiaLl', 'Partial')\n",
        "df2['SALE_COND'] = df2.SALE_COND.replace('Adj Land', 'AdjLand')"
      ],
      "metadata": {
        "id": "hFWDkxC2305t"
      },
      "execution_count": 24,
      "outputs": []
    },
    {
      "cell_type": "code",
      "execution_count": 25,
      "metadata": {
        "id": "IlepIMW7FNOj"
      },
      "outputs": [],
      "source": [
        "df2['STREET'] = df2['STREET'].replace('Pavd', 'Paved')\n",
        "df2['STREET'] = df2['STREET'].replace('NoAccess', 'No Access')"
      ]
    },
    {
      "cell_type": "code",
      "execution_count": 26,
      "metadata": {
        "id": "MC6171Z3FRDO"
      },
      "outputs": [],
      "source": [
        "df2[\"PARK_FACIL\"] = df2[\"PARK_FACIL\"].replace([\"Noo\"],[\"No\"])"
      ]
    },
    {
      "cell_type": "code",
      "execution_count": 27,
      "metadata": {
        "id": "KKBbCT0zFYhn"
      },
      "outputs": [],
      "source": [
        "df2['UTILITY_AVAIL'] = df2['UTILITY_AVAIL'].replace('AllPub' , 'All Pub')\n",
        "df2['UTILITY_AVAIL'] = df2['UTILITY_AVAIL'].replace('NoSewr ', 'NoSeWa')"
      ]
    },
    {
      "cell_type": "code",
      "execution_count": 28,
      "metadata": {
        "colab": {
          "base_uri": "https://localhost:8080/"
        },
        "id": "0WjxW95hFYWu",
        "outputId": "0b2d507b-88d6-4ada-e5ee-2cde1c77814d"
      },
      "outputs": [
        {
          "output_type": "stream",
          "name": "stdout",
          "text": [
            "<class 'pandas.core.frame.DataFrame'>\n",
            "Int64Index: 7109 entries, 0 to 7108\n",
            "Data columns (total 18 columns):\n",
            " #   Column         Non-Null Count  Dtype \n",
            "---  ------         --------------  ----- \n",
            " 0   AREA           7109 non-null   object\n",
            " 1   INT_SQFT       7109 non-null   int64 \n",
            " 2   DIST_MAINROAD  7109 non-null   int64 \n",
            " 3   N_BEDROOM      7109 non-null   Int64 \n",
            " 4   N_BATHROOM     7109 non-null   Int64 \n",
            " 5   N_ROOM         7109 non-null   int64 \n",
            " 6   SALE_COND      7109 non-null   object\n",
            " 7   PARK_FACIL     7109 non-null   object\n",
            " 8   BUILDTYPE      7109 non-null   object\n",
            " 9   UTILITY_AVAIL  7109 non-null   object\n",
            " 10  STREET         7109 non-null   object\n",
            " 11  MZZONE         7109 non-null   object\n",
            " 12  QS_ROOMS       7109 non-null   Int64 \n",
            " 13  QS_BATHROOM    7109 non-null   Int64 \n",
            " 14  QS_BEDROOM     7109 non-null   Int64 \n",
            " 15  QS_OVERALL     7109 non-null   Int64 \n",
            " 16  SALES_PRICE    7109 non-null   int64 \n",
            " 17  HOUSE_AGE      7109 non-null   Int64 \n",
            "dtypes: Int64(7), int64(4), object(7)\n",
            "memory usage: 1.1+ MB\n"
          ]
        }
      ],
      "source": [
        "df2.info()"
      ]
    },
    {
      "cell_type": "markdown",
      "metadata": {
        "id": "a3hSg9oyLjjq"
      },
      "source": [
        "# Data Visualization"
      ]
    },
    {
      "cell_type": "markdown",
      "source": [
        "Visualize Area vs Sales_price"
      ],
      "metadata": {
        "id": "GOBgkARj-QmY"
      }
    },
    {
      "cell_type": "code",
      "source": [
        "plt.figure(figsize= (8,6))\n",
        "sns.barplot(x=\"AREA\",y=\"SALES_PRICE\",data=df2,order=df2.groupby(\"AREA\")[\"SALES_PRICE\"].mean().reset_index().sort_values(\"SALES_PRICE\")[\"AREA\"])"
      ],
      "metadata": {
        "colab": {
          "base_uri": "https://localhost:8080/",
          "height": 416
        },
        "id": "ubaEbhye-Wil",
        "outputId": "80082952-e8a0-48ef-b02d-faebb7d0f87e"
      },
      "execution_count": 29,
      "outputs": [
        {
          "output_type": "execute_result",
          "data": {
            "text/plain": [
              "<matplotlib.axes._subplots.AxesSubplot at 0x7ff21dc20c50>"
            ]
          },
          "metadata": {},
          "execution_count": 29
        },
        {
          "output_type": "display_data",
          "data": {
            "text/plain": [
              "<Figure size 576x432 with 1 Axes>"
            ],
            "image/png": "[encoded data removed]"
          },
          "metadata": {
            "needs_background": "light"
          }
        }
      ]
    },
    {
      "cell_type": "markdown",
      "source": [
        "* There is a Linear Relationship Between Area And Sales_Price\n",
        "* Hence We Are Using Lable Encoding"
      ],
      "metadata": {
        "id": "TGyLkdvB-iAt"
      }
    },
    {
      "cell_type": "markdown",
      "source": [
        "Lable Encoding"
      ],
      "metadata": {
        "id": "58TgLEoh7DEn"
      }
    },
    {
      "cell_type": "code",
      "source": [
        "df2[\"AREA\"] = df2[\"AREA\"].map({\"Karapakkam\": 1 , \"Adyar\" : 2, \"Chromepet\" : 3, \"Velachery\" : 4, \"KK Nagar\" : 5, \"Anna Nagar\" : 6, \"T Nagar\" : 7})\n",
        "df2.head()"
      ],
      "metadata": {
        "colab": {
          "base_uri": "https://localhost:8080/",
          "height": 270
        },
        "id": "tkh8I0gf-scw",
        "outputId": "febae87c-3570-438c-88e0-bdb4c9b484ab"
      },
      "execution_count": 30,
      "outputs": [
        {
          "output_type": "execute_result",
          "data": {
            "text/plain": [
              "   AREA  INT_SQFT  DIST_MAINROAD  N_BEDROOM  N_BATHROOM  N_ROOM SALE_COND  \\\n",
              "0     1      1004            131          1           1       3  Abnormal   \n",
              "1     6      1986             26          2           1       5  Abnormal   \n",
              "2     2       909             70          1           1       3  Abnormal   \n",
              "3     4      1855             14          3           2       5    Family   \n",
              "4     1      1226             84          1           1       3  Abnormal   \n",
              "\n",
              "  PARK_FACIL   BUILDTYPE UTILITY_AVAIL  STREET MZZONE  QS_ROOMS  QS_BATHROOM  \\\n",
              "0        Yes  Commercial       All Pub   Paved      A         4            3   \n",
              "1         No  Commercial       All Pub  Gravel     RH         4            4   \n",
              "2        Yes  Commercial           ELO  Gravel     RL         4            3   \n",
              "3         No      Others        NoSeWa   Paved      I         4            3   \n",
              "4        Yes      Others       All Pub  Gravel      C         3            2   \n",
              "\n",
              "   QS_BEDROOM  QS_OVERALL  SALES_PRICE  HOUSE_AGE  \n",
              "0           4           4      7600000         44  \n",
              "1           2           3     21717770         11  \n",
              "2           2           3     13159200         20  \n",
              "3           3           4      9630290         22  \n",
              "4           4           3      7406250         30  "
            ],
            "text/html": [
              "\n",
              "  <div id=\"df-86d18495-d690-42fb-b012-6d54a578ba74\">\n",
              "    <div class=\"colab-df-container\">\n",
              "      <div>\n",
              "<style scoped>\n",
              "    .dataframe tbody tr th:only-of-type {\n",
              "        vertical-align: middle;\n",
              "    }\n",
              "\n",
              "    .dataframe tbody tr th {\n",
              "        vertical-align: top;\n",
              "    }\n",
              "\n",
              "    .dataframe thead th {\n",
              "        text-align: right;\n",
              "    }\n",
              "</style>\n",
              "<table border=\"1\" class=\"dataframe\">\n",
              "  <thead>\n",
              "    <tr style=\"text-align: right;\">\n",
              "      <th></th>\n",
              "      <th>AREA</th>\n",
              "      <th>INT_SQFT</th>\n",
              "      <th>DIST_MAINROAD</th>\n",
              "      <th>N_BEDROOM</th>\n",
              "      <th>N_BATHROOM</th>\n",
              "      <th>N_ROOM</th>\n",
              "      <th>SALE_COND</th>\n",
              "      <th>PARK_FACIL</th>\n",
              "      <th>BUILDTYPE</th>\n",
              "      <th>UTILITY_AVAIL</th>\n",
              "      <th>STREET</th>\n",
              "      <th>MZZONE</th>\n",
              "      <th>QS_ROOMS</th>\n",
              "      <th>QS_BATHROOM</th>\n",
              "      <th>QS_BEDROOM</th>\n",
              "      <th>QS_OVERALL</th>\n",
              "      <th>SALES_PRICE</th>\n",
              "      <th>HOUSE_AGE</th>\n",
              "    </tr>\n",
              "  </thead>\n",
              "  <tbody>\n",
              "    <tr>\n",
              "      <th>0</th>\n",
              "      <td>1</td>\n",
              "      <td>1004</td>\n",
              "      <td>131</td>\n",
              "      <td>1</td>\n",
              "      <td>1</td>\n",
              "      <td>3</td>\n",
              "      <td>Abnormal</td>\n",
              "      <td>Yes</td>\n",
              "      <td>Commercial</td>\n",
              "      <td>All Pub</td>\n",
              "      <td>Paved</td>\n",
              "      <td>A</td>\n",
              "      <td>4</td>\n",
              "      <td>3</td>\n",
              "      <td>4</td>\n",
              "      <td>4</td>\n",
              "      <td>7600000</td>\n",
              "      <td>44</td>\n",
              "    </tr>\n",
              "    <tr>\n",
              "      <th>1</th>\n",
              "      <td>6</td>\n",
              "      <td>1986</td>\n",
              "      <td>26</td>\n",
              "      <td>2</td>\n",
              "      <td>1</td>\n",
              "      <td>5</td>\n",
              "      <td>Abnormal</td>\n",
              "      <td>No</td>\n",
              "      <td>Commercial</td>\n",
              "      <td>All Pub</td>\n",
              "      <td>Gravel</td>\n",
              "      <td>RH</td>\n",
              "      <td>4</td>\n",
              "      <td>4</td>\n",
              "      <td>2</td>\n",
              "      <td>3</td>\n",
              "      <td>21717770</td>\n",
              "      <td>11</td>\n",
              "    </tr>\n",
              "    <tr>\n",
              "      <th>2</th>\n",
              "      <td>2</td>\n",
              "      <td>909</td>\n",
              "      <td>70</td>\n",
              "      <td>1</td>\n",
              "      <td>1</td>\n",
              "      <td>3</td>\n",
              "      <td>Abnormal</td>\n",
              "      <td>Yes</td>\n",
              "      <td>Commercial</td>\n",
              "      <td>ELO</td>\n",
              "      <td>Gravel</td>\n",
              "      <td>RL</td>\n",
              "      <td>4</td>\n",
              "      <td>3</td>\n",
              "      <td>2</td>\n",
              "      <td>3</td>\n",
              "      <td>13159200</td>\n",
              "      <td>20</td>\n",
              "    </tr>\n",
              "    <tr>\n",
              "      <th>3</th>\n",
              "      <td>4</td>\n",
              "      <td>1855</td>\n",
              "      <td>14</td>\n",
              "      <td>3</td>\n",
              "      <td>2</td>\n",
              "      <td>5</td>\n",
              "      <td>Family</td>\n",
              "      <td>No</td>\n",
              "      <td>Others</td>\n",
              "      <td>NoSeWa</td>\n",
              "      <td>Paved</td>\n",
              "      <td>I</td>\n",
              "      <td>4</td>\n",
              "      <td>3</td>\n",
              "      <td>3</td>\n",
              "      <td>4</td>\n",
              "      <td>9630290</td>\n",
              "      <td>22</td>\n",
              "    </tr>\n",
              "    <tr>\n",
              "      <th>4</th>\n",
              "      <td>1</td>\n",
              "      <td>1226</td>\n",
              "      <td>84</td>\n",
              "      <td>1</td>\n",
              "      <td>1</td>\n",
              "      <td>3</td>\n",
              "      <td>Abnormal</td>\n",
              "      <td>Yes</td>\n",
              "      <td>Others</td>\n",
              "      <td>All Pub</td>\n",
              "      <td>Gravel</td>\n",
              "      <td>C</td>\n",
              "      <td>3</td>\n",
              "      <td>2</td>\n",
              "      <td>4</td>\n",
              "      <td>3</td>\n",
              "      <td>7406250</td>\n",
              "      <td>30</td>\n",
              "    </tr>\n",
              "  </tbody>\n",
              "</table>\n",
              "</div>\n",
              "      <button class=\"colab-df-convert\" onclick=\"convertToInteractive('df-86d18495-d690-42fb-b012-6d54a578ba74')\"\n",
              "              title=\"Convert this dataframe to an interactive table.\"\n",
              "              style=\"display:none;\">\n",
              "        \n",
              "  <svg xmlns=\"http://www.w3.org/2000/svg\" height=\"24px\"viewBox=\"0 0 24 24\"\n",
              "       width=\"24px\">\n",
              "    <path d=\"M0 0h24v24H0V0z\" fill=\"none\"/>\n",
              "    <path d=\"M18.56 5.44l.94 2.06.94-2.06 2.06-.94-2.06-.94-.94-2.06-.94 2.06-2.06.94zm-11 1L8.5 8.5l.94-2.06 2.06-.94-2.06-.94L8.5 2.5l-.94 2.06-2.06.94zm10 10l.94 2.06.94-2.06 2.06-.94-2.06-.94-.94-2.06-.94 2.06-2.06.94z\"/><path d=\"M17.41 7.96l-1.37-1.37c-.4-.4-.92-.59-1.43-.59-.52 0-1.04.2-1.43.59L10.3 9.45l-7.72 7.72c-.78.78-.78 2.05 0 2.83L4 21.41c.39.39.9.59 1.41.59.51 0 1.02-.2 1.41-.59l7.78-7.78 2.81-2.81c.8-.78.8-2.07 0-2.86zM5.41 20L4 18.59l7.72-7.72 1.47 1.35L5.41 20z\"/>\n",
              "  </svg>\n",
              "      </button>\n",
              "      \n",
              "  <style>\n",
              "    .colab-df-container {\n",
              "      display:flex;\n",
              "      flex-wrap:wrap;\n",
              "      gap: 12px;\n",
              "    }\n",
              "\n",
              "    .colab-df-convert {\n",
              "      background-color: #E8F0FE;\n",
              "      border: none;\n",
              "      border-radius: 50%;\n",
              "      cursor: pointer;\n",
              "      display: none;\n",
              "      fill: #1967D2;\n",
              "      height: 32px;\n",
              "      padding: 0 0 0 0;\n",
              "      width: 32px;\n",
              "    }\n",
              "\n",
              "    .colab-df-convert:hover {\n",
              "      background-color: #E2EBFA;\n",
              "      box-shadow: 0px 1px 2px rgba(60, 64, 67, 0.3), 0px 1px 3px 1px rgba(60, 64, 67, 0.15);\n",
              "      fill: #174EA6;\n",
              "    }\n",
              "\n",
              "    [theme=dark] .colab-df-convert {\n",
              "      background-color: #3B4455;\n",
              "      fill: #D2E3FC;\n",
              "    }\n",
              "\n",
              "    [theme=dark] .colab-df-convert:hover {\n",
              "      background-color: #434B5C;\n",
              "      box-shadow: 0px 1px 3px 1px rgba(0, 0, 0, 0.15);\n",
              "      filter: drop-shadow(0px 1px 2px rgba(0, 0, 0, 0.3));\n",
              "      fill: #FFFFFF;\n",
              "    }\n",
              "  </style>\n",
              "\n",
              "      <script>\n",
              "        const buttonEl =\n",
              "          document.querySelector('#df-86d18495-d690-42fb-b012-6d54a578ba74 button.colab-df-convert');\n",
              "        buttonEl.style.display =\n",
              "          google.colab.kernel.accessAllowed ? 'block' : 'none';\n",
              "\n",
              "        async function convertToInteractive(key) {\n",
              "          const element = document.querySelector('#df-86d18495-d690-42fb-b012-6d54a578ba74');\n",
              "          const dataTable =\n",
              "            await google.colab.kernel.invokeFunction('convertToInteractive',\n",
              "                                                     [key], {});\n",
              "          if (!dataTable) return;\n",
              "\n",
              "          const docLinkHtml = 'Like what you see? Visit the ' +\n",
              "            '<a target=\"_blank\" href=https://colab.research.google.com/notebooks/data_table.ipynb>data table notebook</a>'\n",
              "            + ' to learn more about interactive tables.';\n",
              "          element.innerHTML = '';\n",
              "          dataTable['output_type'] = 'display_data';\n",
              "          await google.colab.output.renderOutput(dataTable, element);\n",
              "          const docLink = document.createElement('div');\n",
              "          docLink.innerHTML = docLinkHtml;\n",
              "          element.appendChild(docLink);\n",
              "        }\n",
              "      </script>\n",
              "    </div>\n",
              "  </div>\n",
              "  "
            ]
          },
          "metadata": {},
          "execution_count": 30
        }
      ]
    },
    {
      "cell_type": "markdown",
      "metadata": {
        "id": "4KyV0d_mL50K"
      },
      "source": [
        "\n",
        " Scatter Plot To Visualize Int_sqft"
      ]
    },
    {
      "cell_type": "code",
      "execution_count": 31,
      "metadata": {
        "colab": {
          "base_uri": "https://localhost:8080/",
          "height": 282
        },
        "id": "zqt8awe8Lpoz",
        "outputId": "6fa6d4bf-6fbc-4d69-e656-425ac8656170"
      },
      "outputs": [
        {
          "output_type": "execute_result",
          "data": {
            "text/plain": [
              "<matplotlib.axes._subplots.AxesSubplot at 0x7ff21d698190>"
            ]
          },
          "metadata": {},
          "execution_count": 31
        },
        {
          "output_type": "display_data",
          "data": {
            "text/plain": [
              "<Figure size 432x288 with 1 Axes>"
            ],
            "image/png": "[encoded data removed]"
          },
          "metadata": {
            "needs_background": "light"
          }
        }
      ],
      "source": [
        "df2[\"INT_SQFT\"].plot()"
      ]
    },
    {
      "cell_type": "markdown",
      "source": [
        "Visualize Dist_mainroad "
      ],
      "metadata": {
        "id": "n3O_uwcDurWm"
      }
    },
    {
      "cell_type": "code",
      "source": [
        "sns.distplot(df2[\"DIST_MAINROAD\"], color = \"green\")"
      ],
      "metadata": {
        "colab": {
          "base_uri": "https://localhost:8080/",
          "height": 353
        },
        "id": "zGSH4h9RuqcI",
        "outputId": "38c2ab5f-2f24-484f-e973-d36efe39378a"
      },
      "execution_count": 32,
      "outputs": [
        {
          "output_type": "stream",
          "name": "stderr",
          "text": [
            "/usr/local/lib/python3.7/dist-packages/seaborn/distributions.py:2619: FutureWarning: `distplot` is a deprecated function and will be removed in a future version. Please adapt your code to use either `displot` (a figure-level function with similar flexibility) or `histplot` (an axes-level function for histograms).\n",
            "  warnings.warn(msg, FutureWarning)\n"
          ]
        },
        {
          "output_type": "execute_result",
          "data": {
            "text/plain": [
              "<matplotlib.axes._subplots.AxesSubplot at 0x7ff21d5e08d0>"
            ]
          },
          "metadata": {},
          "execution_count": 32
        },
        {
          "output_type": "display_data",
          "data": {
            "text/plain": [
              "<Figure size 432x288 with 1 Axes>"
            ],
            "image/png": "[encoded data removed]"
          },
          "metadata": {
            "needs_background": "light"
          }
        }
      ]
    },
    {
      "cell_type": "markdown",
      "source": [
        "Visualize N_bedroom vs Sales_price"
      ],
      "metadata": {
        "id": "VBLc3Clh0SOd"
      }
    },
    {
      "cell_type": "code",
      "source": [
        "plt.figure(figsize=(8,6))\n",
        "sns.barplot(x = \"N_BEDROOM\", y = \"SALES_PRICE\", data = df2)"
      ],
      "metadata": {
        "colab": {
          "base_uri": "https://localhost:8080/",
          "height": 417
        },
        "id": "c3qNtjW40Yp1",
        "outputId": "c073d31a-c25a-455c-f72e-639bcaa138ba"
      },
      "execution_count": 33,
      "outputs": [
        {
          "output_type": "execute_result",
          "data": {
            "text/plain": [
              "<matplotlib.axes._subplots.AxesSubplot at 0x7ff21d5451d0>"
            ]
          },
          "metadata": {},
          "execution_count": 33
        },
        {
          "output_type": "display_data",
          "data": {
            "text/plain": [
              "<Figure size 576x432 with 1 Axes>"
            ],
            "image/png": "[encoded data removed]"
          },
          "metadata": {
            "needs_background": "light"
          }
        }
      ]
    },
    {
      "cell_type": "markdown",
      "source": [
        " * There is a Linear Relationship Between N_bedroom And Sales_price"
      ],
      "metadata": {
        "id": "M11XGEIf0sNp"
      }
    },
    {
      "cell_type": "code",
      "source": [
        "plt.figure(figsize=(8,6))\n",
        "ax=sns.countplot(x=df2[\"N_BEDROOM\"], data=df2);\n",
        "for p in ax.patches:\n",
        "    ax.annotate(f'\\n{p.get_height()}', (p.get_x()+0.2, p.get_height()), ha=\"left\", va=\"baseline\", color = \"black\", size=16)"
      ],
      "metadata": {
        "colab": {
          "base_uri": "https://localhost:8080/",
          "height": 403
        },
        "id": "sUiwhQ6y1G9s",
        "outputId": "64c738e2-216d-423e-a43d-13bd06063db6"
      },
      "execution_count": 34,
      "outputs": [
        {
          "output_type": "display_data",
          "data": {
            "text/plain": [
              "<Figure size 576x432 with 1 Axes>"
            ],
            "image/png": "[encoded data removed]"
          },
          "metadata": {
            "needs_background": "light"
          }
        }
      ]
    },
    {
      "cell_type": "markdown",
      "source": [
        "* House with 1 bedroom are more in count."
      ],
      "metadata": {
        "id": "ETm5co1O1cDn"
      }
    },
    {
      "cell_type": "markdown",
      "source": [
        "Visualize N_bathroom vs Sales_price"
      ],
      "metadata": {
        "id": "0nre-dc51oer"
      }
    },
    {
      "cell_type": "code",
      "source": [
        "plt.figure(figsize=(8,6))\n",
        "sns.barplot(x = \"N_BATHROOM\", y = \"SALES_PRICE\", data = df2)"
      ],
      "metadata": {
        "colab": {
          "base_uri": "https://localhost:8080/",
          "height": 417
        },
        "id": "955V5Qtl1qyD",
        "outputId": "64d20c3b-d068-4577-b485-325f45537e01"
      },
      "execution_count": 35,
      "outputs": [
        {
          "output_type": "execute_result",
          "data": {
            "text/plain": [
              "<matplotlib.axes._subplots.AxesSubplot at 0x7ff21b49aa50>"
            ]
          },
          "metadata": {},
          "execution_count": 35
        },
        {
          "output_type": "display_data",
          "data": {
            "text/plain": [
              "<Figure size 576x432 with 1 Axes>"
            ],
            "image/png": "[encoded data removed]"
          },
          "metadata": {
            "needs_background": "light"
          }
        }
      ]
    },
    {
      "cell_type": "markdown",
      "source": [
        "* There is a Linear Relationship Between N_bedroom And Sales_price\n",
        "\n"
      ],
      "metadata": {
        "id": "ZFLaiXma8Qqc"
      }
    },
    {
      "cell_type": "code",
      "source": [
        "plt.figure(figsize=(8,6))\n",
        "ax=sns.countplot(x=df2[\"N_BATHROOM\"], data=df2);\n",
        "for p in ax.patches:\n",
        "    ax.annotate(f'\\n{p.get_height()}', (p.get_x()+0.2, p.get_height()), ha = \"left\", va = \"center_baseline\", color = \"white\", size=16)"
      ],
      "metadata": {
        "colab": {
          "base_uri": "https://localhost:8080/",
          "height": 389
        },
        "id": "811ubom61_PY",
        "outputId": "ac81a21f-c48c-4223-f890-28f85df08668"
      },
      "execution_count": 36,
      "outputs": [
        {
          "output_type": "display_data",
          "data": {
            "text/plain": [
              "<Figure size 576x432 with 1 Axes>"
            ],
            "image/png": "[encoded data removed]"
          },
          "metadata": {
            "needs_background": "light"
          }
        }
      ]
    },
    {
      "cell_type": "markdown",
      "source": [
        "* House With 1 Bathroom Has High Value Count"
      ],
      "metadata": {
        "id": "-5TUqBG58YIO"
      }
    },
    {
      "cell_type": "markdown",
      "source": [
        "Visualize N_room vs Sales_price"
      ],
      "metadata": {
        "id": "mZyYuYkj2qU8"
      }
    },
    {
      "cell_type": "code",
      "source": [
        "plt.figure(figsize=(8,6))\n",
        "sns.barplot(x = \"N_ROOM\", y = \"SALES_PRICE\", data = df2)"
      ],
      "metadata": {
        "colab": {
          "base_uri": "https://localhost:8080/",
          "height": 417
        },
        "id": "wd_o5jD22qqr",
        "outputId": "60ad687e-8d96-49e2-c661-35c1a3bf1a06"
      },
      "execution_count": 37,
      "outputs": [
        {
          "output_type": "execute_result",
          "data": {
            "text/plain": [
              "<matplotlib.axes._subplots.AxesSubplot at 0x7ff21d678e10>"
            ]
          },
          "metadata": {},
          "execution_count": 37
        },
        {
          "output_type": "display_data",
          "data": {
            "text/plain": [
              "<Figure size 576x432 with 1 Axes>"
            ],
            "image/png": "[encoded data removed]"
          },
          "metadata": {
            "needs_background": "light"
          }
        }
      ]
    },
    {
      "cell_type": "markdown",
      "source": [
        "* There is a Linear Relationship Between N_room And Sales_price"
      ],
      "metadata": {
        "id": "kTbeSGEN9CSc"
      }
    },
    {
      "cell_type": "code",
      "source": [
        "ax=sns.countplot(x=df2[\"N_ROOM\"], data=df2);\n",
        "for p in ax.patches:\n",
        "    ax.annotate(f'\\n{p.get_height()}', (p.get_x()+0.2, p.get_height()), ha = \"left\", va=\"center_baseline\", color = \"white\", size=16)"
      ],
      "metadata": {
        "colab": {
          "base_uri": "https://localhost:8080/",
          "height": 283
        },
        "id": "FrXdJANE4QHs",
        "outputId": "744100b6-47ec-4079-acea-21e0909f6496"
      },
      "execution_count": 38,
      "outputs": [
        {
          "output_type": "display_data",
          "data": {
            "text/plain": [
              "<Figure size 432x288 with 1 Axes>"
            ],
            "image/png": "[encoded data removed]"
          },
          "metadata": {
            "needs_background": "light"
          }
        }
      ]
    },
    {
      "cell_type": "markdown",
      "source": [
        "* House With 4 Rooms Has High value count"
      ],
      "metadata": {
        "id": "NxFeWlup7g18"
      }
    },
    {
      "cell_type": "markdown",
      "metadata": {
        "id": "F9PoFcUbTZf-"
      },
      "source": [
        "Visualize Sales_cond vs Sales_price"
      ]
    },
    {
      "cell_type": "code",
      "execution_count": 39,
      "metadata": {
        "colab": {
          "base_uri": "https://localhost:8080/",
          "height": 417
        },
        "id": "W_mG7C8LUcJ7",
        "outputId": "20cc4b9a-40ae-47cb-99c1-1b4220cc7fcf"
      },
      "outputs": [
        {
          "output_type": "execute_result",
          "data": {
            "text/plain": [
              "<matplotlib.axes._subplots.AxesSubplot at 0x7ff21b33a850>"
            ]
          },
          "metadata": {},
          "execution_count": 39
        },
        {
          "output_type": "display_data",
          "data": {
            "text/plain": [
              "<Figure size 576x432 with 1 Axes>"
            ],
            "image/png": "[encoded data removed]"
          },
          "metadata": {
            "needs_background": "light"
          }
        }
      ],
      "source": [
        "plt.figure(figsize= (8,6))\n",
        "sns.barplot(x=\"SALE_COND\",y=\"SALES_PRICE\",data=df2,order=df2.groupby(\"SALE_COND\")[\"SALES_PRICE\"].mean().reset_index().sort_values(\"SALES_PRICE\")[\"SALE_COND\"])"
      ]
    },
    {
      "cell_type": "markdown",
      "metadata": {
        "id": "6Sd7JMdZ-9yt"
      },
      "source": [
        "* There is a slide Linear Relationship Between Sale_cond And Sales_price\n",
        "* Hence We Are Using Lable Encoding"
      ]
    },
    {
      "cell_type": "code",
      "execution_count": 40,
      "metadata": {
        "id": "XcTk75f1U8jD"
      },
      "outputs": [],
      "source": [
        "df2['SALE_COND'] = df2['SALE_COND'].map({'Partial': 1 , 'Family' : 2, 'Abnormal' : 4, 'Normal Sale' : 5, 'AdjLand' : 6})"
      ]
    },
    {
      "cell_type": "markdown",
      "metadata": {
        "id": "uLBjsWnYVY10"
      },
      "source": [
        "Visualize Park_facil vs Sales_price"
      ]
    },
    {
      "cell_type": "code",
      "execution_count": 41,
      "metadata": {
        "colab": {
          "base_uri": "https://localhost:8080/",
          "height": 417
        },
        "id": "JSESunSRVdfN",
        "outputId": "a5e647c0-2b3c-43bb-bc31-49b72d728abe"
      },
      "outputs": [
        {
          "output_type": "execute_result",
          "data": {
            "text/plain": [
              "<matplotlib.axes._subplots.AxesSubplot at 0x7ff21b247b10>"
            ]
          },
          "metadata": {},
          "execution_count": 41
        },
        {
          "output_type": "display_data",
          "data": {
            "text/plain": [
              "<Figure size 360x432 with 1 Axes>"
            ],
            "image/png": "[encoded data removed]"
          },
          "metadata": {
            "needs_background": "light"
          }
        }
      ],
      "source": [
        "plt.figure(figsize= (5,6))\n",
        "sns.barplot(x=\"PARK_FACIL\", y =\"SALES_PRICE\",data=df2,order=df2.groupby(\"PARK_FACIL\")[\"SALES_PRICE\"].mean().reset_index().sort_values(\"SALES_PRICE\")[\"PARK_FACIL\"])"
      ]
    },
    {
      "cell_type": "markdown",
      "metadata": {
        "id": "5kxCqC9y_WNV"
      },
      "source": [
        "* There is a Linear Relationship Between Parl_facil And Sales_price\n",
        "* Hence We Are Using Lable Encoding"
      ]
    },
    {
      "cell_type": "code",
      "source": [
        "df2[\"PARK_FACIL\"] = df2[\"PARK_FACIL\"].map({\"Yes\": 0 , \"No\" : 1})"
      ],
      "metadata": {
        "id": "UaJgfi7Ro0vq"
      },
      "execution_count": 42,
      "outputs": []
    },
    {
      "cell_type": "markdown",
      "metadata": {
        "id": "Ijiv6xvtV_qr"
      },
      "source": [
        "Visualize Bulidtype vs Sales_price"
      ]
    },
    {
      "cell_type": "code",
      "execution_count": 43,
      "metadata": {
        "colab": {
          "base_uri": "https://localhost:8080/",
          "height": 416
        },
        "id": "nU113It7WCkI",
        "outputId": "bcb0feb2-539a-4e72-81ae-a00cc117e867"
      },
      "outputs": [
        {
          "output_type": "execute_result",
          "data": {
            "text/plain": [
              "<matplotlib.axes._subplots.AxesSubplot at 0x7ff21b1bf850>"
            ]
          },
          "metadata": {},
          "execution_count": 43
        },
        {
          "output_type": "display_data",
          "data": {
            "text/plain": [
              "<Figure size 576x432 with 1 Axes>"
            ],
            "image/png": "[encoded data removed]"
          },
          "metadata": {
            "needs_background": "light"
          }
        }
      ],
      "source": [
        "plt.figure(figsize= (8,6))\n",
        "sns.barplot(x=\"BUILDTYPE\", y =\"SALES_PRICE\",data=df2,order=df2.groupby(\"BUILDTYPE\")[\"SALES_PRICE\"].mean().reset_index().sort_values(\"SALES_PRICE\")[\"BUILDTYPE\"])"
      ]
    },
    {
      "cell_type": "markdown",
      "metadata": {
        "id": "5v81tdy6_hFD"
      },
      "source": [
        "* There Is No Linear Relation Between Buildtype And Sales_price \n",
        "* Hence We Go For One Hot Encoding"
      ]
    },
    {
      "cell_type": "code",
      "source": [
        "df2 = pd.get_dummies(df2, columns = [\"BUILDTYPE\"])\n",
        "df2.head()"
      ],
      "metadata": {
        "colab": {
          "base_uri": "https://localhost:8080/",
          "height": 270
        },
        "id": "CK_NXdJ0qbSh",
        "outputId": "c3fb50d8-9435-448c-c413-3ab1ad1c1811"
      },
      "execution_count": 44,
      "outputs": [
        {
          "output_type": "execute_result",
          "data": {
            "text/plain": [
              "   AREA  INT_SQFT  DIST_MAINROAD  N_BEDROOM  N_BATHROOM  N_ROOM  SALE_COND  \\\n",
              "0     1      1004            131          1           1       3          4   \n",
              "1     6      1986             26          2           1       5          4   \n",
              "2     2       909             70          1           1       3          4   \n",
              "3     4      1855             14          3           2       5          2   \n",
              "4     1      1226             84          1           1       3          4   \n",
              "\n",
              "   PARK_FACIL UTILITY_AVAIL  STREET MZZONE  QS_ROOMS  QS_BATHROOM  QS_BEDROOM  \\\n",
              "0           0       All Pub   Paved      A         4            3           4   \n",
              "1           1       All Pub  Gravel     RH         4            4           2   \n",
              "2           0           ELO  Gravel     RL         4            3           2   \n",
              "3           1        NoSeWa   Paved      I         4            3           3   \n",
              "4           0       All Pub  Gravel      C         3            2           4   \n",
              "\n",
              "   QS_OVERALL  SALES_PRICE  HOUSE_AGE  BUILDTYPE_Commercial  BUILDTYPE_House  \\\n",
              "0           4      7600000         44                     1                0   \n",
              "1           3     21717770         11                     1                0   \n",
              "2           3     13159200         20                     1                0   \n",
              "3           4      9630290         22                     0                0   \n",
              "4           3      7406250         30                     0                0   \n",
              "\n",
              "   BUILDTYPE_Others  \n",
              "0                 0  \n",
              "1                 0  \n",
              "2                 0  \n",
              "3                 1  \n",
              "4                 1  "
            ],
            "text/html": [
              "\n",
              "  <div id=\"df-50ebc4ff-8222-4f27-a19f-85dd77f64d31\">\n",
              "    <div class=\"colab-df-container\">\n",
              "      <div>\n",
              "<style scoped>\n",
              "    .dataframe tbody tr th:only-of-type {\n",
              "        vertical-align: middle;\n",
              "    }\n",
              "\n",
              "    .dataframe tbody tr th {\n",
              "        vertical-align: top;\n",
              "    }\n",
              "\n",
              "    .dataframe thead th {\n",
              "        text-align: right;\n",
              "    }\n",
              "</style>\n",
              "<table border=\"1\" class=\"dataframe\">\n",
              "  <thead>\n",
              "    <tr style=\"text-align: right;\">\n",
              "      <th></th>\n",
              "      <th>AREA</th>\n",
              "      <th>INT_SQFT</th>\n",
              "      <th>DIST_MAINROAD</th>\n",
              "      <th>N_BEDROOM</th>\n",
              "      <th>N_BATHROOM</th>\n",
              "      <th>N_ROOM</th>\n",
              "      <th>SALE_COND</th>\n",
              "      <th>PARK_FACIL</th>\n",
              "      <th>UTILITY_AVAIL</th>\n",
              "      <th>STREET</th>\n",
              "      <th>MZZONE</th>\n",
              "      <th>QS_ROOMS</th>\n",
              "      <th>QS_BATHROOM</th>\n",
              "      <th>QS_BEDROOM</th>\n",
              "      <th>QS_OVERALL</th>\n",
              "      <th>SALES_PRICE</th>\n",
              "      <th>HOUSE_AGE</th>\n",
              "      <th>BUILDTYPE_Commercial</th>\n",
              "      <th>BUILDTYPE_House</th>\n",
              "      <th>BUILDTYPE_Others</th>\n",
              "    </tr>\n",
              "  </thead>\n",
              "  <tbody>\n",
              "    <tr>\n",
              "      <th>0</th>\n",
              "      <td>1</td>\n",
              "      <td>1004</td>\n",
              "      <td>131</td>\n",
              "      <td>1</td>\n",
              "      <td>1</td>\n",
              "      <td>3</td>\n",
              "      <td>4</td>\n",
              "      <td>0</td>\n",
              "      <td>All Pub</td>\n",
              "      <td>Paved</td>\n",
              "      <td>A</td>\n",
              "      <td>4</td>\n",
              "      <td>3</td>\n",
              "      <td>4</td>\n",
              "      <td>4</td>\n",
              "      <td>7600000</td>\n",
              "      <td>44</td>\n",
              "      <td>1</td>\n",
              "      <td>0</td>\n",
              "      <td>0</td>\n",
              "    </tr>\n",
              "    <tr>\n",
              "      <th>1</th>\n",
              "      <td>6</td>\n",
              "      <td>1986</td>\n",
              "      <td>26</td>\n",
              "      <td>2</td>\n",
              "      <td>1</td>\n",
              "      <td>5</td>\n",
              "      <td>4</td>\n",
              "      <td>1</td>\n",
              "      <td>All Pub</td>\n",
              "      <td>Gravel</td>\n",
              "      <td>RH</td>\n",
              "      <td>4</td>\n",
              "      <td>4</td>\n",
              "      <td>2</td>\n",
              "      <td>3</td>\n",
              "      <td>21717770</td>\n",
              "      <td>11</td>\n",
              "      <td>1</td>\n",
              "      <td>0</td>\n",
              "      <td>0</td>\n",
              "    </tr>\n",
              "    <tr>\n",
              "      <th>2</th>\n",
              "      <td>2</td>\n",
              "      <td>909</td>\n",
              "      <td>70</td>\n",
              "      <td>1</td>\n",
              "      <td>1</td>\n",
              "      <td>3</td>\n",
              "      <td>4</td>\n",
              "      <td>0</td>\n",
              "      <td>ELO</td>\n",
              "      <td>Gravel</td>\n",
              "      <td>RL</td>\n",
              "      <td>4</td>\n",
              "      <td>3</td>\n",
              "      <td>2</td>\n",
              "      <td>3</td>\n",
              "      <td>13159200</td>\n",
              "      <td>20</td>\n",
              "      <td>1</td>\n",
              "      <td>0</td>\n",
              "      <td>0</td>\n",
              "    </tr>\n",
              "    <tr>\n",
              "      <th>3</th>\n",
              "      <td>4</td>\n",
              "      <td>1855</td>\n",
              "      <td>14</td>\n",
              "      <td>3</td>\n",
              "      <td>2</td>\n",
              "      <td>5</td>\n",
              "      <td>2</td>\n",
              "      <td>1</td>\n",
              "      <td>NoSeWa</td>\n",
              "      <td>Paved</td>\n",
              "      <td>I</td>\n",
              "      <td>4</td>\n",
              "      <td>3</td>\n",
              "      <td>3</td>\n",
              "      <td>4</td>\n",
              "      <td>9630290</td>\n",
              "      <td>22</td>\n",
              "      <td>0</td>\n",
              "      <td>0</td>\n",
              "      <td>1</td>\n",
              "    </tr>\n",
              "    <tr>\n",
              "      <th>4</th>\n",
              "      <td>1</td>\n",
              "      <td>1226</td>\n",
              "      <td>84</td>\n",
              "      <td>1</td>\n",
              "      <td>1</td>\n",
              "      <td>3</td>\n",
              "      <td>4</td>\n",
              "      <td>0</td>\n",
              "      <td>All Pub</td>\n",
              "      <td>Gravel</td>\n",
              "      <td>C</td>\n",
              "      <td>3</td>\n",
              "      <td>2</td>\n",
              "      <td>4</td>\n",
              "      <td>3</td>\n",
              "      <td>7406250</td>\n",
              "      <td>30</td>\n",
              "      <td>0</td>\n",
              "      <td>0</td>\n",
              "      <td>1</td>\n",
              "    </tr>\n",
              "  </tbody>\n",
              "</table>\n",
              "</div>\n",
              "      <button class=\"colab-df-convert\" onclick=\"convertToInteractive('df-50ebc4ff-8222-4f27-a19f-85dd77f64d31')\"\n",
              "              title=\"Convert this dataframe to an interactive table.\"\n",
              "              style=\"display:none;\">\n",
              "        \n",
              "  <svg xmlns=\"http://www.w3.org/2000/svg\" height=\"24px\"viewBox=\"0 0 24 24\"\n",
              "       width=\"24px\">\n",
              "    <path d=\"M0 0h24v24H0V0z\" fill=\"none\"/>\n",
              "    <path d=\"M18.56 5.44l.94 2.06.94-2.06 2.06-.94-2.06-.94-.94-2.06-.94 2.06-2.06.94zm-11 1L8.5 8.5l.94-2.06 2.06-.94-2.06-.94L8.5 2.5l-.94 2.06-2.06.94zm10 10l.94 2.06.94-2.06 2.06-.94-2.06-.94-.94-2.06-.94 2.06-2.06.94z\"/><path d=\"M17.41 7.96l-1.37-1.37c-.4-.4-.92-.59-1.43-.59-.52 0-1.04.2-1.43.59L10.3 9.45l-7.72 7.72c-.78.78-.78 2.05 0 2.83L4 21.41c.39.39.9.59 1.41.59.51 0 1.02-.2 1.41-.59l7.78-7.78 2.81-2.81c.8-.78.8-2.07 0-2.86zM5.41 20L4 18.59l7.72-7.72 1.47 1.35L5.41 20z\"/>\n",
              "  </svg>\n",
              "      </button>\n",
              "      \n",
              "  <style>\n",
              "    .colab-df-container {\n",
              "      display:flex;\n",
              "      flex-wrap:wrap;\n",
              "      gap: 12px;\n",
              "    }\n",
              "\n",
              "    .colab-df-convert {\n",
              "      background-color: #E8F0FE;\n",
              "      border: none;\n",
              "      border-radius: 50%;\n",
              "      cursor: pointer;\n",
              "      display: none;\n",
              "      fill: #1967D2;\n",
              "      height: 32px;\n",
              "      padding: 0 0 0 0;\n",
              "      width: 32px;\n",
              "    }\n",
              "\n",
              "    .colab-df-convert:hover {\n",
              "      background-color: #E2EBFA;\n",
              "      box-shadow: 0px 1px 2px rgba(60, 64, 67, 0.3), 0px 1px 3px 1px rgba(60, 64, 67, 0.15);\n",
              "      fill: #174EA6;\n",
              "    }\n",
              "\n",
              "    [theme=dark] .colab-df-convert {\n",
              "      background-color: #3B4455;\n",
              "      fill: #D2E3FC;\n",
              "    }\n",
              "\n",
              "    [theme=dark] .colab-df-convert:hover {\n",
              "      background-color: #434B5C;\n",
              "      box-shadow: 0px 1px 3px 1px rgba(0, 0, 0, 0.15);\n",
              "      filter: drop-shadow(0px 1px 2px rgba(0, 0, 0, 0.3));\n",
              "      fill: #FFFFFF;\n",
              "    }\n",
              "  </style>\n",
              "\n",
              "      <script>\n",
              "        const buttonEl =\n",
              "          document.querySelector('#df-50ebc4ff-8222-4f27-a19f-85dd77f64d31 button.colab-df-convert');\n",
              "        buttonEl.style.display =\n",
              "          google.colab.kernel.accessAllowed ? 'block' : 'none';\n",
              "\n",
              "        async function convertToInteractive(key) {\n",
              "          const element = document.querySelector('#df-50ebc4ff-8222-4f27-a19f-85dd77f64d31');\n",
              "          const dataTable =\n",
              "            await google.colab.kernel.invokeFunction('convertToInteractive',\n",
              "                                                     [key], {});\n",
              "          if (!dataTable) return;\n",
              "\n",
              "          const docLinkHtml = 'Like what you see? Visit the ' +\n",
              "            '<a target=\"_blank\" href=https://colab.research.google.com/notebooks/data_table.ipynb>data table notebook</a>'\n",
              "            + ' to learn more about interactive tables.';\n",
              "          element.innerHTML = '';\n",
              "          dataTable['output_type'] = 'display_data';\n",
              "          await google.colab.output.renderOutput(dataTable, element);\n",
              "          const docLink = document.createElement('div');\n",
              "          docLink.innerHTML = docLinkHtml;\n",
              "          element.appendChild(docLink);\n",
              "        }\n",
              "      </script>\n",
              "    </div>\n",
              "  </div>\n",
              "  "
            ]
          },
          "metadata": {},
          "execution_count": 44
        }
      ]
    },
    {
      "cell_type": "markdown",
      "metadata": {
        "id": "_MEVkr-HWqer"
      },
      "source": [
        "Visualize Utility_avail vs Sales_price"
      ]
    },
    {
      "cell_type": "code",
      "execution_count": 45,
      "metadata": {
        "colab": {
          "base_uri": "https://localhost:8080/",
          "height": 417
        },
        "id": "wq1VMMy9WxGb",
        "outputId": "51ee87ea-f116-485b-ed44-fdae87fe0b09"
      },
      "outputs": [
        {
          "output_type": "execute_result",
          "data": {
            "text/plain": [
              "<matplotlib.axes._subplots.AxesSubplot at 0x7ff21b1041d0>"
            ]
          },
          "metadata": {},
          "execution_count": 45
        },
        {
          "output_type": "display_data",
          "data": {
            "text/plain": [
              "<Figure size 576x432 with 1 Axes>"
            ],
            "image/png": "[encoded data removed]"
          },
          "metadata": {
            "needs_background": "light"
          }
        }
      ],
      "source": [
        "plt.figure(figsize= (8,6))\n",
        "sns.barplot(x=\"UTILITY_AVAIL\",y=\"SALES_PRICE\",data=df2,order=df2.groupby(\"UTILITY_AVAIL\")[\"SALES_PRICE\"].mean().reset_index().sort_values(\"SALES_PRICE\")[\"UTILITY_AVAIL\"])"
      ]
    },
    {
      "cell_type": "markdown",
      "metadata": {
        "id": "ZJkpDJ5m_sNm"
      },
      "source": [
        "* There is a Linear Relationship Between Utility_Avail And Sales_price\n",
        "* Hence We Are Using Lable Encoding"
      ]
    },
    {
      "cell_type": "code",
      "source": [
        "df2[\"UTILITY_AVAIL\"] = df2[\"UTILITY_AVAIL\"].map({\"ELO\": 1 , \"NoSeWa\" : 2, \"All Pub\":3})"
      ],
      "metadata": {
        "id": "0wlmtAiitACM"
      },
      "execution_count": 46,
      "outputs": []
    },
    {
      "cell_type": "markdown",
      "metadata": {
        "id": "LegUmUhRXL1f"
      },
      "source": [
        "Visualize Street vs Sales_price"
      ]
    },
    {
      "cell_type": "code",
      "execution_count": 47,
      "metadata": {
        "colab": {
          "base_uri": "https://localhost:8080/",
          "height": 525
        },
        "id": "y0_XXP_cXSic",
        "outputId": "1272e4c3-942c-4182-ac7e-251022022cef"
      },
      "outputs": [
        {
          "output_type": "execute_result",
          "data": {
            "text/plain": [
              "<matplotlib.axes._subplots.AxesSubplot at 0x7ff21b171b10>"
            ]
          },
          "metadata": {},
          "execution_count": 47
        },
        {
          "output_type": "display_data",
          "data": {
            "text/plain": [
              "<Figure size 432x576 with 1 Axes>"
            ],
            "image/png": "[encoded data removed]"
          },
          "metadata": {
            "needs_background": "light"
          }
        }
      ],
      "source": [
        "plt.figure(figsize= (6,8))\n",
        "sns.barplot(x=\"STREET\",y=\"SALES_PRICE\",data=df2,order=df2.groupby(\"STREET\")[\"SALES_PRICE\"].mean().reset_index().sort_values(\"SALES_PRICE\")[\"STREET\"])"
      ]
    },
    {
      "cell_type": "markdown",
      "metadata": {
        "id": "seHdH8ZS_95M"
      },
      "source": [
        "* There is a Linear Relationship Between Street And Sales_price\n",
        "* Hence We Are Using Lable Encoding"
      ]
    },
    {
      "cell_type": "code",
      "source": [
        "df2[\"STREET\"] = df2[\"STREET\"].map({\"No Access\": 1 , \"Paved\" : 2, \"Gravel\":3})"
      ],
      "metadata": {
        "id": "8MsRem6otjbU"
      },
      "execution_count": 48,
      "outputs": []
    },
    {
      "cell_type": "markdown",
      "metadata": {
        "id": "KnPsqS2nXfCv"
      },
      "source": [
        "Visualize Mzzone vs Sales_price"
      ]
    },
    {
      "cell_type": "code",
      "execution_count": 49,
      "metadata": {
        "colab": {
          "base_uri": "https://localhost:8080/",
          "height": 416
        },
        "id": "gWXpoZg2Xgyu",
        "outputId": "7558eb69-be03-40e1-f53e-9af07f54a3d5"
      },
      "outputs": [
        {
          "output_type": "execute_result",
          "data": {
            "text/plain": [
              "<matplotlib.axes._subplots.AxesSubplot at 0x7ff21b127d50>"
            ]
          },
          "metadata": {},
          "execution_count": 49
        },
        {
          "output_type": "display_data",
          "data": {
            "text/plain": [
              "<Figure size 576x432 with 1 Axes>"
            ],
            "image/png": "[encoded data removed]"
          },
          "metadata": {
            "needs_background": "light"
          }
        }
      ],
      "source": [
        "plt.figure(figsize= (8,6))\n",
        "sns.barplot(x=\"MZZONE\",y=\"SALES_PRICE\",data=df2,order=df2.groupby(\"MZZONE\")[\"SALES_PRICE\"].mean().reset_index().sort_values(\"SALES_PRICE\")[\"MZZONE\"])"
      ]
    },
    {
      "cell_type": "markdown",
      "metadata": {
        "id": "9qWbGLyFAIEg"
      },
      "source": [
        "* There is a Linear Relationship Between Mzzone And Sales_price\n",
        "* Hence We Are Using Lable Encoding"
      ]
    },
    {
      "cell_type": "code",
      "source": [
        "df2[\"MZZONE\"] = df2[\"MZZONE\"].map({\"A\": 1 , \"C\" : 2, \"I\": 3, \"RH\": 4, \"RL\" : 5, \"RM\" : 6})"
      ],
      "metadata": {
        "id": "N3laIEx7uEcU"
      },
      "execution_count": 50,
      "outputs": []
    },
    {
      "cell_type": "markdown",
      "source": [
        "Scatter Plot For The House_age And Sales_price"
      ],
      "metadata": {
        "id": "wsNpIkA3veMM"
      }
    },
    {
      "cell_type": "code",
      "source": [
        "import plotly.express as px\n",
        "df2.plot.scatter(x=\"HOUSE_AGE\", y=\"SALES_PRICE\")"
      ],
      "metadata": {
        "colab": {
          "base_uri": "https://localhost:8080/",
          "height": 308
        },
        "id": "fq4eHC9Cvjg6",
        "outputId": "6dfa86be-f1ae-4de5-bb45-1500e7df23c8"
      },
      "execution_count": 51,
      "outputs": [
        {
          "output_type": "execute_result",
          "data": {
            "text/plain": [
              "<matplotlib.axes._subplots.AxesSubplot at 0x7ff21a7bd6d0>"
            ]
          },
          "metadata": {},
          "execution_count": 51
        },
        {
          "output_type": "display_data",
          "data": {
            "text/plain": [
              "<Figure size 432x288 with 1 Axes>"
            ],
            "image/png": "[encoded data removed]"
          },
          "metadata": {
            "needs_background": "light"
          }
        }
      ]
    },
    {
      "cell_type": "markdown",
      "metadata": {
        "id": "zMJR-l1Eb-Zg"
      },
      "source": [
        "Histogram Plot To Know About The Graphical Form Of The Datasets "
      ]
    },
    {
      "cell_type": "code",
      "execution_count": 52,
      "metadata": {
        "colab": {
          "base_uri": "https://localhost:8080/",
          "height": 716
        },
        "id": "TUiTKjh0b4Zc",
        "outputId": "d20f816f-629e-4e49-98da-59d0a71ff33a"
      },
      "outputs": [
        {
          "output_type": "display_data",
          "data": {
            "text/plain": [
              "<Figure size 1440x864 with 20 Axes>"
            ],
            "image/png": "[encoded data removed]"
          },
          "metadata": {
            "needs_background": "light"
          }
        }
      ],
      "source": [
        "df2.hist(bins=10,figsize=(20,12))\n",
        "plt.show()"
      ]
    },
    {
      "cell_type": "markdown",
      "metadata": {
        "id": "Liu3Qc5fcdRj"
      },
      "source": [
        "Heat Map"
      ]
    },
    {
      "cell_type": "code",
      "execution_count": 53,
      "metadata": {
        "colab": {
          "base_uri": "https://localhost:8080/",
          "height": 885
        },
        "id": "eHtNEq7IcZvT",
        "outputId": "cad45b2c-3daa-4b95-af92-665c509bd552"
      },
      "outputs": [
        {
          "output_type": "execute_result",
          "data": {
            "text/plain": [
              "<matplotlib.axes._subplots.AxesSubplot at 0x7ff2184eb7d0>"
            ]
          },
          "metadata": {},
          "execution_count": 53
        },
        {
          "output_type": "display_data",
          "data": {
            "text/plain": [
              "<Figure size 1224x936 with 2 Axes>"
            ],
            "image/png": "[encoded data removed]"
          },
          "metadata": {
            "needs_background": "light"
          }
        }
      ],
      "source": [
        "plt.figure(figsize=(17,13))\n",
        "sns.heatmap(df2.corr(),cmap=\"bwr\" ,annot=True)"
      ]
    },
    {
      "cell_type": "code",
      "execution_count": 54,
      "metadata": {
        "colab": {
          "base_uri": "https://localhost:8080/",
          "height": 741
        },
        "id": "xLAaRRIMaqH7",
        "outputId": "213be4ca-51fc-4c74-8002-388c4c08efc6"
      },
      "outputs": [
        {
          "output_type": "execute_result",
          "data": {
            "text/plain": [
              "                          AREA  INT_SQFT  DIST_MAINROAD  N_BEDROOM  \\\n",
              "AREA                  1.000000  0.685243       0.003487   0.320889   \n",
              "INT_SQFT              0.685243  1.000000       0.002022   0.786263   \n",
              "DIST_MAINROAD         0.003487  0.002022       1.000000  -0.002723   \n",
              "N_BEDROOM             0.320889  0.786263      -0.002723   1.000000   \n",
              "N_BATHROOM           -0.044401  0.515290       0.001850   0.755207   \n",
              "N_ROOM                0.644971  0.951279       0.002301   0.840209   \n",
              "SALE_COND            -0.001293  0.004957      -0.010034   0.007536   \n",
              "PARK_FACIL           -0.007916 -0.004618       0.009448   0.009357   \n",
              "UTILITY_AVAIL         0.053165  0.070971      -0.013213   0.087665   \n",
              "STREET                0.071459  0.091727       0.001942   0.117058   \n",
              "MZZONE                0.346385  0.143226       0.007334   0.049928   \n",
              "QS_ROOMS              0.015984  0.016146       0.013050   0.011434   \n",
              "QS_BATHROOM          -0.000182 -0.011463      -0.021857  -0.008603   \n",
              "QS_BEDROOM            0.002504  0.005847       0.002757   0.014449   \n",
              "QS_OVERALL            0.010575  0.005862      -0.014337   0.008314   \n",
              "SALES_PRICE           0.694149  0.612125       0.018783   0.330987   \n",
              "HOUSE_AGE            -0.072690 -0.013257      -0.003911  -0.046251   \n",
              "BUILDTYPE_Commercial  0.012488  0.008927       0.022109  -0.000534   \n",
              "BUILDTYPE_House      -0.013170 -0.006848      -0.019417   0.004914   \n",
              "BUILDTYPE_Others      0.000839 -0.001995      -0.002458  -0.004435   \n",
              "\n",
              "                      N_BATHROOM    N_ROOM  SALE_COND  PARK_FACIL  \\\n",
              "AREA                   -0.044401  0.644971  -0.001293   -0.007916   \n",
              "INT_SQFT                0.515290  0.951279   0.004957   -0.004618   \n",
              "DIST_MAINROAD           0.001850  0.002301  -0.010034    0.009448   \n",
              "N_BEDROOM               0.755207  0.840209   0.007536    0.009357   \n",
              "N_BATHROOM              1.000000  0.568541   0.011741    0.014033   \n",
              "N_ROOM                  0.568541  1.000000   0.002311    0.000934   \n",
              "SALE_COND               0.011741  0.002311   1.000000   -0.004965   \n",
              "PARK_FACIL              0.014033  0.000934  -0.004965    1.000000   \n",
              "UTILITY_AVAIL           0.051341  0.064489  -0.005590    0.025735   \n",
              "STREET                  0.071575  0.089961  -0.000152    0.000990   \n",
              "MZZONE                 -0.047164  0.163697  -0.000614    0.007192   \n",
              "QS_ROOMS                0.010452  0.013468  -0.012929    0.012234   \n",
              "QS_BATHROOM            -0.011005 -0.009066   0.002198    0.011484   \n",
              "QS_BEDROOM              0.013390  0.012072   0.002724    0.002365   \n",
              "QS_OVERALL              0.002951  0.008002  -0.003559   -0.002264   \n",
              "SALES_PRICE             0.108834  0.602760   0.053965   -0.146428   \n",
              "HOUSE_AGE              -0.020363 -0.034009   0.009695    0.009722   \n",
              "BUILDTYPE_Commercial   -0.006099  0.008826  -0.005379   -0.010702   \n",
              "BUILDTYPE_House         0.018195 -0.005288  -0.000480    0.010172   \n",
              "BUILDTYPE_Others       -0.012305 -0.003472   0.005860    0.000407   \n",
              "\n",
              "                      UTILITY_AVAIL    STREET    MZZONE  QS_ROOMS  \\\n",
              "AREA                       0.053165  0.071459  0.346385  0.015984   \n",
              "INT_SQFT                   0.070971  0.091727  0.143226  0.016146   \n",
              "DIST_MAINROAD             -0.013213  0.001942  0.007334  0.013050   \n",
              "N_BEDROOM                  0.087665  0.117058  0.049928  0.011434   \n",
              "N_BATHROOM                 0.051341  0.071575 -0.047164  0.010452   \n",
              "N_ROOM                     0.064489  0.089961  0.163697  0.013468   \n",
              "SALE_COND                 -0.005590 -0.000152 -0.000614 -0.012929   \n",
              "PARK_FACIL                 0.025735  0.000990  0.007192  0.012234   \n",
              "UTILITY_AVAIL              1.000000  0.038698  0.027885  0.012001   \n",
              "STREET                     0.038698  1.000000  0.041091 -0.001417   \n",
              "MZZONE                     0.027885  0.041091  1.000000  0.002644   \n",
              "QS_ROOMS                   0.012001 -0.001417  0.002644  1.000000   \n",
              "QS_BATHROOM               -0.014955  0.001033 -0.018049  0.001796   \n",
              "QS_BEDROOM                 0.013911  0.013950  0.005534  0.009590   \n",
              "QS_OVERALL                 0.014981  0.007250 -0.010140  0.432223   \n",
              "SALES_PRICE                0.067147  0.149589  0.427789  0.016059   \n",
              "HOUSE_AGE                 -0.041503 -0.040218 -0.111437  0.016930   \n",
              "BUILDTYPE_Commercial       0.029261 -0.013480  0.012380  0.007579   \n",
              "BUILDTYPE_House           -0.009642  0.014170  0.003836 -0.014459   \n",
              "BUILDTYPE_Others          -0.019488 -0.000860 -0.016249  0.007048   \n",
              "\n",
              "                      QS_BATHROOM  QS_BEDROOM  QS_OVERALL  SALES_PRICE  \\\n",
              "AREA                    -0.000182    0.002504    0.010575     0.694149   \n",
              "INT_SQFT                -0.011463    0.005847    0.005862     0.612125   \n",
              "DIST_MAINROAD           -0.021857    0.002757   -0.014337     0.018783   \n",
              "N_BEDROOM               -0.008603    0.014449    0.008314     0.330987   \n",
              "N_BATHROOM              -0.011005    0.013390    0.002951     0.108834   \n",
              "N_ROOM                  -0.009066    0.012072    0.008002     0.602760   \n",
              "SALE_COND                0.002198    0.002724   -0.003559     0.053965   \n",
              "PARK_FACIL               0.011484    0.002365   -0.002264    -0.146428   \n",
              "UTILITY_AVAIL           -0.014955    0.013911    0.014981     0.067147   \n",
              "STREET                   0.001033    0.013950    0.007250     0.149589   \n",
              "MZZONE                  -0.018049    0.005534   -0.010140     0.427789   \n",
              "QS_ROOMS                 0.001796    0.009590    0.432223     0.016059   \n",
              "QS_BATHROOM              1.000000   -0.011917    0.448326    -0.019469   \n",
              "QS_BEDROOM              -0.011917    1.000000    0.531595     0.015044   \n",
              "QS_OVERALL               0.448326    0.531595    1.000000     0.012567   \n",
              "SALES_PRICE             -0.019469    0.015044    0.012567     1.000000   \n",
              "HOUSE_AGE                0.021453   -0.012745    0.010981    -0.119770   \n",
              "BUILDTYPE_Commercial    -0.016599    0.002161    0.001747     0.551058   \n",
              "BUILDTYPE_House          0.009978   -0.010254   -0.012768    -0.344982   \n",
              "BUILDTYPE_Others         0.006496    0.008210    0.011165    -0.201783   \n",
              "\n",
              "                      HOUSE_AGE  BUILDTYPE_Commercial  BUILDTYPE_House  \\\n",
              "AREA                  -0.072690              0.012488        -0.013170   \n",
              "INT_SQFT              -0.013257              0.008927        -0.006848   \n",
              "DIST_MAINROAD         -0.003911              0.022109        -0.019417   \n",
              "N_BEDROOM             -0.046251             -0.000534         0.004914   \n",
              "N_BATHROOM            -0.020363             -0.006099         0.018195   \n",
              "N_ROOM                -0.034009              0.008826        -0.005288   \n",
              "SALE_COND              0.009695             -0.005379        -0.000480   \n",
              "PARK_FACIL             0.009722             -0.010702         0.010172   \n",
              "UTILITY_AVAIL         -0.041503              0.029261        -0.009642   \n",
              "STREET                -0.040218             -0.013480         0.014170   \n",
              "MZZONE                -0.111437              0.012380         0.003836   \n",
              "QS_ROOMS               0.016930              0.007579        -0.014459   \n",
              "QS_BATHROOM            0.021453             -0.016599         0.009978   \n",
              "QS_BEDROOM            -0.012745              0.002161        -0.010254   \n",
              "QS_OVERALL             0.010981              0.001747        -0.012768   \n",
              "SALES_PRICE           -0.119770              0.551058        -0.344982   \n",
              "HOUSE_AGE              1.000000             -0.009444         0.012386   \n",
              "BUILDTYPE_Commercial  -0.009444              1.000000        -0.505237   \n",
              "BUILDTYPE_House        0.012386             -0.505237         1.000000   \n",
              "BUILDTYPE_Others      -0.003088             -0.488328        -0.506367   \n",
              "\n",
              "                      BUILDTYPE_Others  \n",
              "AREA                          0.000839  \n",
              "INT_SQFT                     -0.001995  \n",
              "DIST_MAINROAD                -0.002458  \n",
              "N_BEDROOM                    -0.004435  \n",
              "N_BATHROOM                   -0.012305  \n",
              "N_ROOM                       -0.003472  \n",
              "SALE_COND                     0.005860  \n",
              "PARK_FACIL                    0.000407  \n",
              "UTILITY_AVAIL                -0.019488  \n",
              "STREET                       -0.000860  \n",
              "MZZONE                       -0.016249  \n",
              "QS_ROOMS                      0.007048  \n",
              "QS_BATHROOM                   0.006496  \n",
              "QS_BEDROOM                    0.008210  \n",
              "QS_OVERALL                    0.011165  \n",
              "SALES_PRICE                  -0.201783  \n",
              "HOUSE_AGE                    -0.003088  \n",
              "BUILDTYPE_Commercial         -0.488328  \n",
              "BUILDTYPE_House              -0.506367  \n",
              "BUILDTYPE_Others              1.000000  "
            ],
            "text/html": [
              "\n",
              "  <div id=\"df-9307e6b6-b54d-4dcf-b298-5344c85f11ad\">\n",
              "    <div class=\"colab-df-container\">\n",
              "      <div>\n",
              "<style scoped>\n",
              "    .dataframe tbody tr th:only-of-type {\n",
              "        vertical-align: middle;\n",
              "    }\n",
              "\n",
              "    .dataframe tbody tr th {\n",
              "        vertical-align: top;\n",
              "    }\n",
              "\n",
              "    .dataframe thead th {\n",
              "        text-align: right;\n",
              "    }\n",
              "</style>\n",
              "<table border=\"1\" class=\"dataframe\">\n",
              "  <thead>\n",
              "    <tr style=\"text-align: right;\">\n",
              "      <th></th>\n",
              "      <th>AREA</th>\n",
              "      <th>INT_SQFT</th>\n",
              "      <th>DIST_MAINROAD</th>\n",
              "      <th>N_BEDROOM</th>\n",
              "      <th>N_BATHROOM</th>\n",
              "      <th>N_ROOM</th>\n",
              "      <th>SALE_COND</th>\n",
              "      <th>PARK_FACIL</th>\n",
              "      <th>UTILITY_AVAIL</th>\n",
              "      <th>STREET</th>\n",
              "      <th>MZZONE</th>\n",
              "      <th>QS_ROOMS</th>\n",
              "      <th>QS_BATHROOM</th>\n",
              "      <th>QS_BEDROOM</th>\n",
              "      <th>QS_OVERALL</th>\n",
              "      <th>SALES_PRICE</th>\n",
              "      <th>HOUSE_AGE</th>\n",
              "      <th>BUILDTYPE_Commercial</th>\n",
              "      <th>BUILDTYPE_House</th>\n",
              "      <th>BUILDTYPE_Others</th>\n",
              "    </tr>\n",
              "  </thead>\n",
              "  <tbody>\n",
              "    <tr>\n",
              "      <th>AREA</th>\n",
              "      <td>1.000000</td>\n",
              "      <td>0.685243</td>\n",
              "      <td>0.003487</td>\n",
              "      <td>0.320889</td>\n",
              "      <td>-0.044401</td>\n",
              "      <td>0.644971</td>\n",
              "      <td>-0.001293</td>\n",
              "      <td>-0.007916</td>\n",
              "      <td>0.053165</td>\n",
              "      <td>0.071459</td>\n",
              "      <td>0.346385</td>\n",
              "      <td>0.015984</td>\n",
              "      <td>-0.000182</td>\n",
              "      <td>0.002504</td>\n",
              "      <td>0.010575</td>\n",
              "      <td>0.694149</td>\n",
              "      <td>-0.072690</td>\n",
              "      <td>0.012488</td>\n",
              "      <td>-0.013170</td>\n",
              "      <td>0.000839</td>\n",
              "    </tr>\n",
              "    <tr>\n",
              "      <th>INT_SQFT</th>\n",
              "      <td>0.685243</td>\n",
              "      <td>1.000000</td>\n",
              "      <td>0.002022</td>\n",
              "      <td>0.786263</td>\n",
              "      <td>0.515290</td>\n",
              "      <td>0.951279</td>\n",
              "      <td>0.004957</td>\n",
              "      <td>-0.004618</td>\n",
              "      <td>0.070971</td>\n",
              "      <td>0.091727</td>\n",
              "      <td>0.143226</td>\n",
              "      <td>0.016146</td>\n",
              "      <td>-0.011463</td>\n",
              "      <td>0.005847</td>\n",
              "      <td>0.005862</td>\n",
              "      <td>0.612125</td>\n",
              "      <td>-0.013257</td>\n",
              "      <td>0.008927</td>\n",
              "      <td>-0.006848</td>\n",
              "      <td>-0.001995</td>\n",
              "    </tr>\n",
              "    <tr>\n",
              "      <th>DIST_MAINROAD</th>\n",
              "      <td>0.003487</td>\n",
              "      <td>0.002022</td>\n",
              "      <td>1.000000</td>\n",
              "      <td>-0.002723</td>\n",
              "      <td>0.001850</td>\n",
              "      <td>0.002301</td>\n",
              "      <td>-0.010034</td>\n",
              "      <td>0.009448</td>\n",
              "      <td>-0.013213</td>\n",
              "      <td>0.001942</td>\n",
              "      <td>0.007334</td>\n",
              "      <td>0.013050</td>\n",
              "      <td>-0.021857</td>\n",
              "      <td>0.002757</td>\n",
              "      <td>-0.014337</td>\n",
              "      <td>0.018783</td>\n",
              "      <td>-0.003911</td>\n",
              "      <td>0.022109</td>\n",
              "      <td>-0.019417</td>\n",
              "      <td>-0.002458</td>\n",
              "    </tr>\n",
              "    <tr>\n",
              "      <th>N_BEDROOM</th>\n",
              "      <td>0.320889</td>\n",
              "      <td>0.786263</td>\n",
              "      <td>-0.002723</td>\n",
              "      <td>1.000000</td>\n",
              "      <td>0.755207</td>\n",
              "      <td>0.840209</td>\n",
              "      <td>0.007536</td>\n",
              "      <td>0.009357</td>\n",
              "      <td>0.087665</td>\n",
              "      <td>0.117058</td>\n",
              "      <td>0.049928</td>\n",
              "      <td>0.011434</td>\n",
              "      <td>-0.008603</td>\n",
              "      <td>0.014449</td>\n",
              "      <td>0.008314</td>\n",
              "      <td>0.330987</td>\n",
              "      <td>-0.046251</td>\n",
              "      <td>-0.000534</td>\n",
              "      <td>0.004914</td>\n",
              "      <td>-0.004435</td>\n",
              "    </tr>\n",
              "    <tr>\n",
              "      <th>N_BATHROOM</th>\n",
              "      <td>-0.044401</td>\n",
              "      <td>0.515290</td>\n",
              "      <td>0.001850</td>\n",
              "      <td>0.755207</td>\n",
              "      <td>1.000000</td>\n",
              "      <td>0.568541</td>\n",
              "      <td>0.011741</td>\n",
              "      <td>0.014033</td>\n",
              "      <td>0.051341</td>\n",
              "      <td>0.071575</td>\n",
              "      <td>-0.047164</td>\n",
              "      <td>0.010452</td>\n",
              "      <td>-0.011005</td>\n",
              "      <td>0.013390</td>\n",
              "      <td>0.002951</td>\n",
              "      <td>0.108834</td>\n",
              "      <td>-0.020363</td>\n",
              "      <td>-0.006099</td>\n",
              "      <td>0.018195</td>\n",
              "      <td>-0.012305</td>\n",
              "    </tr>\n",
              "    <tr>\n",
              "      <th>N_ROOM</th>\n",
              "      <td>0.644971</td>\n",
              "      <td>0.951279</td>\n",
              "      <td>0.002301</td>\n",
              "      <td>0.840209</td>\n",
              "      <td>0.568541</td>\n",
              "      <td>1.000000</td>\n",
              "      <td>0.002311</td>\n",
              "      <td>0.000934</td>\n",
              "      <td>0.064489</td>\n",
              "      <td>0.089961</td>\n",
              "      <td>0.163697</td>\n",
              "      <td>0.013468</td>\n",
              "      <td>-0.009066</td>\n",
              "      <td>0.012072</td>\n",
              "      <td>0.008002</td>\n",
              "      <td>0.602760</td>\n",
              "      <td>-0.034009</td>\n",
              "      <td>0.008826</td>\n",
              "      <td>-0.005288</td>\n",
              "      <td>-0.003472</td>\n",
              "    </tr>\n",
              "    <tr>\n",
              "      <th>SALE_COND</th>\n",
              "      <td>-0.001293</td>\n",
              "      <td>0.004957</td>\n",
              "      <td>-0.010034</td>\n",
              "      <td>0.007536</td>\n",
              "      <td>0.011741</td>\n",
              "      <td>0.002311</td>\n",
              "      <td>1.000000</td>\n",
              "      <td>-0.004965</td>\n",
              "      <td>-0.005590</td>\n",
              "      <td>-0.000152</td>\n",
              "      <td>-0.000614</td>\n",
              "      <td>-0.012929</td>\n",
              "      <td>0.002198</td>\n",
              "      <td>0.002724</td>\n",
              "      <td>-0.003559</td>\n",
              "      <td>0.053965</td>\n",
              "      <td>0.009695</td>\n",
              "      <td>-0.005379</td>\n",
              "      <td>-0.000480</td>\n",
              "      <td>0.005860</td>\n",
              "    </tr>\n",
              "    <tr>\n",
              "      <th>PARK_FACIL</th>\n",
              "      <td>-0.007916</td>\n",
              "      <td>-0.004618</td>\n",
              "      <td>0.009448</td>\n",
              "      <td>0.009357</td>\n",
              "      <td>0.014033</td>\n",
              "      <td>0.000934</td>\n",
              "      <td>-0.004965</td>\n",
              "      <td>1.000000</td>\n",
              "      <td>0.025735</td>\n",
              "      <td>0.000990</td>\n",
              "      <td>0.007192</td>\n",
              "      <td>0.012234</td>\n",
              "      <td>0.011484</td>\n",
              "      <td>0.002365</td>\n",
              "      <td>-0.002264</td>\n",
              "      <td>-0.146428</td>\n",
              "      <td>0.009722</td>\n",
              "      <td>-0.010702</td>\n",
              "      <td>0.010172</td>\n",
              "      <td>0.000407</td>\n",
              "    </tr>\n",
              "    <tr>\n",
              "      <th>UTILITY_AVAIL</th>\n",
              "      <td>0.053165</td>\n",
              "      <td>0.070971</td>\n",
              "      <td>-0.013213</td>\n",
              "      <td>0.087665</td>\n",
              "      <td>0.051341</td>\n",
              "      <td>0.064489</td>\n",
              "      <td>-0.005590</td>\n",
              "      <td>0.025735</td>\n",
              "      <td>1.000000</td>\n",
              "      <td>0.038698</td>\n",
              "      <td>0.027885</td>\n",
              "      <td>0.012001</td>\n",
              "      <td>-0.014955</td>\n",
              "      <td>0.013911</td>\n",
              "      <td>0.014981</td>\n",
              "      <td>0.067147</td>\n",
              "      <td>-0.041503</td>\n",
              "      <td>0.029261</td>\n",
              "      <td>-0.009642</td>\n",
              "      <td>-0.019488</td>\n",
              "    </tr>\n",
              "    <tr>\n",
              "      <th>STREET</th>\n",
              "      <td>0.071459</td>\n",
              "      <td>0.091727</td>\n",
              "      <td>0.001942</td>\n",
              "      <td>0.117058</td>\n",
              "      <td>0.071575</td>\n",
              "      <td>0.089961</td>\n",
              "      <td>-0.000152</td>\n",
              "      <td>0.000990</td>\n",
              "      <td>0.038698</td>\n",
              "      <td>1.000000</td>\n",
              "      <td>0.041091</td>\n",
              "      <td>-0.001417</td>\n",
              "      <td>0.001033</td>\n",
              "      <td>0.013950</td>\n",
              "      <td>0.007250</td>\n",
              "      <td>0.149589</td>\n",
              "      <td>-0.040218</td>\n",
              "      <td>-0.013480</td>\n",
              "      <td>0.014170</td>\n",
              "      <td>-0.000860</td>\n",
              "    </tr>\n",
              "    <tr>\n",
              "      <th>MZZONE</th>\n",
              "      <td>0.346385</td>\n",
              "      <td>0.143226</td>\n",
              "      <td>0.007334</td>\n",
              "      <td>0.049928</td>\n",
              "      <td>-0.047164</td>\n",
              "      <td>0.163697</td>\n",
              "      <td>-0.000614</td>\n",
              "      <td>0.007192</td>\n",
              "      <td>0.027885</td>\n",
              "      <td>0.041091</td>\n",
              "      <td>1.000000</td>\n",
              "      <td>0.002644</td>\n",
              "      <td>-0.018049</td>\n",
              "      <td>0.005534</td>\n",
              "      <td>-0.010140</td>\n",
              "      <td>0.427789</td>\n",
              "      <td>-0.111437</td>\n",
              "      <td>0.012380</td>\n",
              "      <td>0.003836</td>\n",
              "      <td>-0.016249</td>\n",
              "    </tr>\n",
              "    <tr>\n",
              "      <th>QS_ROOMS</th>\n",
              "      <td>0.015984</td>\n",
              "      <td>0.016146</td>\n",
              "      <td>0.013050</td>\n",
              "      <td>0.011434</td>\n",
              "      <td>0.010452</td>\n",
              "      <td>0.013468</td>\n",
              "      <td>-0.012929</td>\n",
              "      <td>0.012234</td>\n",
              "      <td>0.012001</td>\n",
              "      <td>-0.001417</td>\n",
              "      <td>0.002644</td>\n",
              "      <td>1.000000</td>\n",
              "      <td>0.001796</td>\n",
              "      <td>0.009590</td>\n",
              "      <td>0.432223</td>\n",
              "      <td>0.016059</td>\n",
              "      <td>0.016930</td>\n",
              "      <td>0.007579</td>\n",
              "      <td>-0.014459</td>\n",
              "      <td>0.007048</td>\n",
              "    </tr>\n",
              "    <tr>\n",
              "      <th>QS_BATHROOM</th>\n",
              "      <td>-0.000182</td>\n",
              "      <td>-0.011463</td>\n",
              "      <td>-0.021857</td>\n",
              "      <td>-0.008603</td>\n",
              "      <td>-0.011005</td>\n",
              "      <td>-0.009066</td>\n",
              "      <td>0.002198</td>\n",
              "      <td>0.011484</td>\n",
              "      <td>-0.014955</td>\n",
              "      <td>0.001033</td>\n",
              "      <td>-0.018049</td>\n",
              "      <td>0.001796</td>\n",
              "      <td>1.000000</td>\n",
              "      <td>-0.011917</td>\n",
              "      <td>0.448326</td>\n",
              "      <td>-0.019469</td>\n",
              "      <td>0.021453</td>\n",
              "      <td>-0.016599</td>\n",
              "      <td>0.009978</td>\n",
              "      <td>0.006496</td>\n",
              "    </tr>\n",
              "    <tr>\n",
              "      <th>QS_BEDROOM</th>\n",
              "      <td>0.002504</td>\n",
              "      <td>0.005847</td>\n",
              "      <td>0.002757</td>\n",
              "      <td>0.014449</td>\n",
              "      <td>0.013390</td>\n",
              "      <td>0.012072</td>\n",
              "      <td>0.002724</td>\n",
              "      <td>0.002365</td>\n",
              "      <td>0.013911</td>\n",
              "      <td>0.013950</td>\n",
              "      <td>0.005534</td>\n",
              "      <td>0.009590</td>\n",
              "      <td>-0.011917</td>\n",
              "      <td>1.000000</td>\n",
              "      <td>0.531595</td>\n",
              "      <td>0.015044</td>\n",
              "      <td>-0.012745</td>\n",
              "      <td>0.002161</td>\n",
              "      <td>-0.010254</td>\n",
              "      <td>0.008210</td>\n",
              "    </tr>\n",
              "    <tr>\n",
              "      <th>QS_OVERALL</th>\n",
              "      <td>0.010575</td>\n",
              "      <td>0.005862</td>\n",
              "      <td>-0.014337</td>\n",
              "      <td>0.008314</td>\n",
              "      <td>0.002951</td>\n",
              "      <td>0.008002</td>\n",
              "      <td>-0.003559</td>\n",
              "      <td>-0.002264</td>\n",
              "      <td>0.014981</td>\n",
              "      <td>0.007250</td>\n",
              "      <td>-0.010140</td>\n",
              "      <td>0.432223</td>\n",
              "      <td>0.448326</td>\n",
              "      <td>0.531595</td>\n",
              "      <td>1.000000</td>\n",
              "      <td>0.012567</td>\n",
              "      <td>0.010981</td>\n",
              "      <td>0.001747</td>\n",
              "      <td>-0.012768</td>\n",
              "      <td>0.011165</td>\n",
              "    </tr>\n",
              "    <tr>\n",
              "      <th>SALES_PRICE</th>\n",
              "      <td>0.694149</td>\n",
              "      <td>0.612125</td>\n",
              "      <td>0.018783</td>\n",
              "      <td>0.330987</td>\n",
              "      <td>0.108834</td>\n",
              "      <td>0.602760</td>\n",
              "      <td>0.053965</td>\n",
              "      <td>-0.146428</td>\n",
              "      <td>0.067147</td>\n",
              "      <td>0.149589</td>\n",
              "      <td>0.427789</td>\n",
              "      <td>0.016059</td>\n",
              "      <td>-0.019469</td>\n",
              "      <td>0.015044</td>\n",
              "      <td>0.012567</td>\n",
              "      <td>1.000000</td>\n",
              "      <td>-0.119770</td>\n",
              "      <td>0.551058</td>\n",
              "      <td>-0.344982</td>\n",
              "      <td>-0.201783</td>\n",
              "    </tr>\n",
              "    <tr>\n",
              "      <th>HOUSE_AGE</th>\n",
              "      <td>-0.072690</td>\n",
              "      <td>-0.013257</td>\n",
              "      <td>-0.003911</td>\n",
              "      <td>-0.046251</td>\n",
              "      <td>-0.020363</td>\n",
              "      <td>-0.034009</td>\n",
              "      <td>0.009695</td>\n",
              "      <td>0.009722</td>\n",
              "      <td>-0.041503</td>\n",
              "      <td>-0.040218</td>\n",
              "      <td>-0.111437</td>\n",
              "      <td>0.016930</td>\n",
              "      <td>0.021453</td>\n",
              "      <td>-0.012745</td>\n",
              "      <td>0.010981</td>\n",
              "      <td>-0.119770</td>\n",
              "      <td>1.000000</td>\n",
              "      <td>-0.009444</td>\n",
              "      <td>0.012386</td>\n",
              "      <td>-0.003088</td>\n",
              "    </tr>\n",
              "    <tr>\n",
              "      <th>BUILDTYPE_Commercial</th>\n",
              "      <td>0.012488</td>\n",
              "      <td>0.008927</td>\n",
              "      <td>0.022109</td>\n",
              "      <td>-0.000534</td>\n",
              "      <td>-0.006099</td>\n",
              "      <td>0.008826</td>\n",
              "      <td>-0.005379</td>\n",
              "      <td>-0.010702</td>\n",
              "      <td>0.029261</td>\n",
              "      <td>-0.013480</td>\n",
              "      <td>0.012380</td>\n",
              "      <td>0.007579</td>\n",
              "      <td>-0.016599</td>\n",
              "      <td>0.002161</td>\n",
              "      <td>0.001747</td>\n",
              "      <td>0.551058</td>\n",
              "      <td>-0.009444</td>\n",
              "      <td>1.000000</td>\n",
              "      <td>-0.505237</td>\n",
              "      <td>-0.488328</td>\n",
              "    </tr>\n",
              "    <tr>\n",
              "      <th>BUILDTYPE_House</th>\n",
              "      <td>-0.013170</td>\n",
              "      <td>-0.006848</td>\n",
              "      <td>-0.019417</td>\n",
              "      <td>0.004914</td>\n",
              "      <td>0.018195</td>\n",
              "      <td>-0.005288</td>\n",
              "      <td>-0.000480</td>\n",
              "      <td>0.010172</td>\n",
              "      <td>-0.009642</td>\n",
              "      <td>0.014170</td>\n",
              "      <td>0.003836</td>\n",
              "      <td>-0.014459</td>\n",
              "      <td>0.009978</td>\n",
              "      <td>-0.010254</td>\n",
              "      <td>-0.012768</td>\n",
              "      <td>-0.344982</td>\n",
              "      <td>0.012386</td>\n",
              "      <td>-0.505237</td>\n",
              "      <td>1.000000</td>\n",
              "      <td>-0.506367</td>\n",
              "    </tr>\n",
              "    <tr>\n",
              "      <th>BUILDTYPE_Others</th>\n",
              "      <td>0.000839</td>\n",
              "      <td>-0.001995</td>\n",
              "      <td>-0.002458</td>\n",
              "      <td>-0.004435</td>\n",
              "      <td>-0.012305</td>\n",
              "      <td>-0.003472</td>\n",
              "      <td>0.005860</td>\n",
              "      <td>0.000407</td>\n",
              "      <td>-0.019488</td>\n",
              "      <td>-0.000860</td>\n",
              "      <td>-0.016249</td>\n",
              "      <td>0.007048</td>\n",
              "      <td>0.006496</td>\n",
              "      <td>0.008210</td>\n",
              "      <td>0.011165</td>\n",
              "      <td>-0.201783</td>\n",
              "      <td>-0.003088</td>\n",
              "      <td>-0.488328</td>\n",
              "      <td>-0.506367</td>\n",
              "      <td>1.000000</td>\n",
              "    </tr>\n",
              "  </tbody>\n",
              "</table>\n",
              "</div>\n",
              "      <button class=\"colab-df-convert\" onclick=\"convertToInteractive('df-9307e6b6-b54d-4dcf-b298-5344c85f11ad')\"\n",
              "              title=\"Convert this dataframe to an interactive table.\"\n",
              "              style=\"display:none;\">\n",
              "        \n",
              "  <svg xmlns=\"http://www.w3.org/2000/svg\" height=\"24px\"viewBox=\"0 0 24 24\"\n",
              "       width=\"24px\">\n",
              "    <path d=\"M0 0h24v24H0V0z\" fill=\"none\"/>\n",
              "    <path d=\"M18.56 5.44l.94 2.06.94-2.06 2.06-.94-2.06-.94-.94-2.06-.94 2.06-2.06.94zm-11 1L8.5 8.5l.94-2.06 2.06-.94-2.06-.94L8.5 2.5l-.94 2.06-2.06.94zm10 10l.94 2.06.94-2.06 2.06-.94-2.06-.94-.94-2.06-.94 2.06-2.06.94z\"/><path d=\"M17.41 7.96l-1.37-1.37c-.4-.4-.92-.59-1.43-.59-.52 0-1.04.2-1.43.59L10.3 9.45l-7.72 7.72c-.78.78-.78 2.05 0 2.83L4 21.41c.39.39.9.59 1.41.59.51 0 1.02-.2 1.41-.59l7.78-7.78 2.81-2.81c.8-.78.8-2.07 0-2.86zM5.41 20L4 18.59l7.72-7.72 1.47 1.35L5.41 20z\"/>\n",
              "  </svg>\n",
              "      </button>\n",
              "      \n",
              "  <style>\n",
              "    .colab-df-container {\n",
              "      display:flex;\n",
              "      flex-wrap:wrap;\n",
              "      gap: 12px;\n",
              "    }\n",
              "\n",
              "    .colab-df-convert {\n",
              "      background-color: #E8F0FE;\n",
              "      border: none;\n",
              "      border-radius: 50%;\n",
              "      cursor: pointer;\n",
              "      display: none;\n",
              "      fill: #1967D2;\n",
              "      height: 32px;\n",
              "      padding: 0 0 0 0;\n",
              "      width: 32px;\n",
              "    }\n",
              "\n",
              "    .colab-df-convert:hover {\n",
              "      background-color: #E2EBFA;\n",
              "      box-shadow: 0px 1px 2px rgba(60, 64, 67, 0.3), 0px 1px 3px 1px rgba(60, 64, 67, 0.15);\n",
              "      fill: #174EA6;\n",
              "    }\n",
              "\n",
              "    [theme=dark] .colab-df-convert {\n",
              "      background-color: #3B4455;\n",
              "      fill: #D2E3FC;\n",
              "    }\n",
              "\n",
              "    [theme=dark] .colab-df-convert:hover {\n",
              "      background-color: #434B5C;\n",
              "      box-shadow: 0px 1px 3px 1px rgba(0, 0, 0, 0.15);\n",
              "      filter: drop-shadow(0px 1px 2px rgba(0, 0, 0, 0.3));\n",
              "      fill: #FFFFFF;\n",
              "    }\n",
              "  </style>\n",
              "\n",
              "      <script>\n",
              "        const buttonEl =\n",
              "          document.querySelector('#df-9307e6b6-b54d-4dcf-b298-5344c85f11ad button.colab-df-convert');\n",
              "        buttonEl.style.display =\n",
              "          google.colab.kernel.accessAllowed ? 'block' : 'none';\n",
              "\n",
              "        async function convertToInteractive(key) {\n",
              "          const element = document.querySelector('#df-9307e6b6-b54d-4dcf-b298-5344c85f11ad');\n",
              "          const dataTable =\n",
              "            await google.colab.kernel.invokeFunction('convertToInteractive',\n",
              "                                                     [key], {});\n",
              "          if (!dataTable) return;\n",
              "\n",
              "          const docLinkHtml = 'Like what you see? Visit the ' +\n",
              "            '<a target=\"_blank\" href=https://colab.research.google.com/notebooks/data_table.ipynb>data table notebook</a>'\n",
              "            + ' to learn more about interactive tables.';\n",
              "          element.innerHTML = '';\n",
              "          dataTable['output_type'] = 'display_data';\n",
              "          await google.colab.output.renderOutput(dataTable, element);\n",
              "          const docLink = document.createElement('div');\n",
              "          docLink.innerHTML = docLinkHtml;\n",
              "          element.appendChild(docLink);\n",
              "        }\n",
              "      </script>\n",
              "    </div>\n",
              "  </div>\n",
              "  "
            ]
          },
          "metadata": {},
          "execution_count": 54
        }
      ],
      "source": [
        "df2.corr()"
      ]
    },
    {
      "cell_type": "code",
      "execution_count": 56,
      "metadata": {
        "colab": {
          "base_uri": "https://localhost:8080/",
          "height": 270
        },
        "id": "MNd8fuJ_dLG1",
        "outputId": "8f58058f-92b3-4f2e-b1a2-e720d08900e7"
      },
      "outputs": [
        {
          "output_type": "execute_result",
          "data": {
            "text/plain": [
              "   AREA  INT_SQFT  DIST_MAINROAD  N_BEDROOM  N_BATHROOM  N_ROOM  SALE_COND  \\\n",
              "0     1      1004            131          1           1       3          4   \n",
              "1     6      1986             26          2           1       5          4   \n",
              "2     2       909             70          1           1       3          4   \n",
              "3     4      1855             14          3           2       5          2   \n",
              "4     1      1226             84          1           1       3          4   \n",
              "\n",
              "   PARK_FACIL  UTILITY_AVAIL  STREET  MZZONE  QS_ROOMS  QS_BATHROOM  \\\n",
              "0           0              3       2       1         4            3   \n",
              "1           1              3       3       4         4            4   \n",
              "2           0              1       3       5         4            3   \n",
              "3           1              2       2       3         4            3   \n",
              "4           0              3       3       2         3            2   \n",
              "\n",
              "   QS_BEDROOM  QS_OVERALL  SALES_PRICE  HOUSE_AGE  BUILDTYPE_Commercial  \\\n",
              "0           4           4      7600000         44                     1   \n",
              "1           2           3     21717770         11                     1   \n",
              "2           2           3     13159200         20                     1   \n",
              "3           3           4      9630290         22                     0   \n",
              "4           4           3      7406250         30                     0   \n",
              "\n",
              "   BUILDTYPE_House  BUILDTYPE_Others  \n",
              "0                0                 0  \n",
              "1                0                 0  \n",
              "2                0                 0  \n",
              "3                0                 1  \n",
              "4                0                 1  "
            ],
            "text/html": [
              "\n",
              "  <div id=\"df-dfe9af3e-bf0e-4e0c-b720-557977c08b70\">\n",
              "    <div class=\"colab-df-container\">\n",
              "      <div>\n",
              "<style scoped>\n",
              "    .dataframe tbody tr th:only-of-type {\n",
              "        vertical-align: middle;\n",
              "    }\n",
              "\n",
              "    .dataframe tbody tr th {\n",
              "        vertical-align: top;\n",
              "    }\n",
              "\n",
              "    .dataframe thead th {\n",
              "        text-align: right;\n",
              "    }\n",
              "</style>\n",
              "<table border=\"1\" class=\"dataframe\">\n",
              "  <thead>\n",
              "    <tr style=\"text-align: right;\">\n",
              "      <th></th>\n",
              "      <th>AREA</th>\n",
              "      <th>INT_SQFT</th>\n",
              "      <th>DIST_MAINROAD</th>\n",
              "      <th>N_BEDROOM</th>\n",
              "      <th>N_BATHROOM</th>\n",
              "      <th>N_ROOM</th>\n",
              "      <th>SALE_COND</th>\n",
              "      <th>PARK_FACIL</th>\n",
              "      <th>UTILITY_AVAIL</th>\n",
              "      <th>STREET</th>\n",
              "      <th>MZZONE</th>\n",
              "      <th>QS_ROOMS</th>\n",
              "      <th>QS_BATHROOM</th>\n",
              "      <th>QS_BEDROOM</th>\n",
              "      <th>QS_OVERALL</th>\n",
              "      <th>SALES_PRICE</th>\n",
              "      <th>HOUSE_AGE</th>\n",
              "      <th>BUILDTYPE_Commercial</th>\n",
              "      <th>BUILDTYPE_House</th>\n",
              "      <th>BUILDTYPE_Others</th>\n",
              "    </tr>\n",
              "  </thead>\n",
              "  <tbody>\n",
              "    <tr>\n",
              "      <th>0</th>\n",
              "      <td>1</td>\n",
              "      <td>1004</td>\n",
              "      <td>131</td>\n",
              "      <td>1</td>\n",
              "      <td>1</td>\n",
              "      <td>3</td>\n",
              "      <td>4</td>\n",
              "      <td>0</td>\n",
              "      <td>3</td>\n",
              "      <td>2</td>\n",
              "      <td>1</td>\n",
              "      <td>4</td>\n",
              "      <td>3</td>\n",
              "      <td>4</td>\n",
              "      <td>4</td>\n",
              "      <td>7600000</td>\n",
              "      <td>44</td>\n",
              "      <td>1</td>\n",
              "      <td>0</td>\n",
              "      <td>0</td>\n",
              "    </tr>\n",
              "    <tr>\n",
              "      <th>1</th>\n",
              "      <td>6</td>\n",
              "      <td>1986</td>\n",
              "      <td>26</td>\n",
              "      <td>2</td>\n",
              "      <td>1</td>\n",
              "      <td>5</td>\n",
              "      <td>4</td>\n",
              "      <td>1</td>\n",
              "      <td>3</td>\n",
              "      <td>3</td>\n",
              "      <td>4</td>\n",
              "      <td>4</td>\n",
              "      <td>4</td>\n",
              "      <td>2</td>\n",
              "      <td>3</td>\n",
              "      <td>21717770</td>\n",
              "      <td>11</td>\n",
              "      <td>1</td>\n",
              "      <td>0</td>\n",
              "      <td>0</td>\n",
              "    </tr>\n",
              "    <tr>\n",
              "      <th>2</th>\n",
              "      <td>2</td>\n",
              "      <td>909</td>\n",
              "      <td>70</td>\n",
              "      <td>1</td>\n",
              "      <td>1</td>\n",
              "      <td>3</td>\n",
              "      <td>4</td>\n",
              "      <td>0</td>\n",
              "      <td>1</td>\n",
              "      <td>3</td>\n",
              "      <td>5</td>\n",
              "      <td>4</td>\n",
              "      <td>3</td>\n",
              "      <td>2</td>\n",
              "      <td>3</td>\n",
              "      <td>13159200</td>\n",
              "      <td>20</td>\n",
              "      <td>1</td>\n",
              "      <td>0</td>\n",
              "      <td>0</td>\n",
              "    </tr>\n",
              "    <tr>\n",
              "      <th>3</th>\n",
              "      <td>4</td>\n",
              "      <td>1855</td>\n",
              "      <td>14</td>\n",
              "      <td>3</td>\n",
              "      <td>2</td>\n",
              "      <td>5</td>\n",
              "      <td>2</td>\n",
              "      <td>1</td>\n",
              "      <td>2</td>\n",
              "      <td>2</td>\n",
              "      <td>3</td>\n",
              "      <td>4</td>\n",
              "      <td>3</td>\n",
              "      <td>3</td>\n",
              "      <td>4</td>\n",
              "      <td>9630290</td>\n",
              "      <td>22</td>\n",
              "      <td>0</td>\n",
              "      <td>0</td>\n",
              "      <td>1</td>\n",
              "    </tr>\n",
              "    <tr>\n",
              "      <th>4</th>\n",
              "      <td>1</td>\n",
              "      <td>1226</td>\n",
              "      <td>84</td>\n",
              "      <td>1</td>\n",
              "      <td>1</td>\n",
              "      <td>3</td>\n",
              "      <td>4</td>\n",
              "      <td>0</td>\n",
              "      <td>3</td>\n",
              "      <td>3</td>\n",
              "      <td>2</td>\n",
              "      <td>3</td>\n",
              "      <td>2</td>\n",
              "      <td>4</td>\n",
              "      <td>3</td>\n",
              "      <td>7406250</td>\n",
              "      <td>30</td>\n",
              "      <td>0</td>\n",
              "      <td>0</td>\n",
              "      <td>1</td>\n",
              "    </tr>\n",
              "  </tbody>\n",
              "</table>\n",
              "</div>\n",
              "      <button class=\"colab-df-convert\" onclick=\"convertToInteractive('df-dfe9af3e-bf0e-4e0c-b720-557977c08b70')\"\n",
              "              title=\"Convert this dataframe to an interactive table.\"\n",
              "              style=\"display:none;\">\n",
              "        \n",
              "  <svg xmlns=\"http://www.w3.org/2000/svg\" height=\"24px\"viewBox=\"0 0 24 24\"\n",
              "       width=\"24px\">\n",
              "    <path d=\"M0 0h24v24H0V0z\" fill=\"none\"/>\n",
              "    <path d=\"M18.56 5.44l.94 2.06.94-2.06 2.06-.94-2.06-.94-.94-2.06-.94 2.06-2.06.94zm-11 1L8.5 8.5l.94-2.06 2.06-.94-2.06-.94L8.5 2.5l-.94 2.06-2.06.94zm10 10l.94 2.06.94-2.06 2.06-.94-2.06-.94-.94-2.06-.94 2.06-2.06.94z\"/><path d=\"M17.41 7.96l-1.37-1.37c-.4-.4-.92-.59-1.43-.59-.52 0-1.04.2-1.43.59L10.3 9.45l-7.72 7.72c-.78.78-.78 2.05 0 2.83L4 21.41c.39.39.9.59 1.41.59.51 0 1.02-.2 1.41-.59l7.78-7.78 2.81-2.81c.8-.78.8-2.07 0-2.86zM5.41 20L4 18.59l7.72-7.72 1.47 1.35L5.41 20z\"/>\n",
              "  </svg>\n",
              "      </button>\n",
              "      \n",
              "  <style>\n",
              "    .colab-df-container {\n",
              "      display:flex;\n",
              "      flex-wrap:wrap;\n",
              "      gap: 12px;\n",
              "    }\n",
              "\n",
              "    .colab-df-convert {\n",
              "      background-color: #E8F0FE;\n",
              "      border: none;\n",
              "      border-radius: 50%;\n",
              "      cursor: pointer;\n",
              "      display: none;\n",
              "      fill: #1967D2;\n",
              "      height: 32px;\n",
              "      padding: 0 0 0 0;\n",
              "      width: 32px;\n",
              "    }\n",
              "\n",
              "    .colab-df-convert:hover {\n",
              "      background-color: #E2EBFA;\n",
              "      box-shadow: 0px 1px 2px rgba(60, 64, 67, 0.3), 0px 1px 3px 1px rgba(60, 64, 67, 0.15);\n",
              "      fill: #174EA6;\n",
              "    }\n",
              "\n",
              "    [theme=dark] .colab-df-convert {\n",
              "      background-color: #3B4455;\n",
              "      fill: #D2E3FC;\n",
              "    }\n",
              "\n",
              "    [theme=dark] .colab-df-convert:hover {\n",
              "      background-color: #434B5C;\n",
              "      box-shadow: 0px 1px 3px 1px rgba(0, 0, 0, 0.15);\n",
              "      filter: drop-shadow(0px 1px 2px rgba(0, 0, 0, 0.3));\n",
              "      fill: #FFFFFF;\n",
              "    }\n",
              "  </style>\n",
              "\n",
              "      <script>\n",
              "        const buttonEl =\n",
              "          document.querySelector('#df-dfe9af3e-bf0e-4e0c-b720-557977c08b70 button.colab-df-convert');\n",
              "        buttonEl.style.display =\n",
              "          google.colab.kernel.accessAllowed ? 'block' : 'none';\n",
              "\n",
              "        async function convertToInteractive(key) {\n",
              "          const element = document.querySelector('#df-dfe9af3e-bf0e-4e0c-b720-557977c08b70');\n",
              "          const dataTable =\n",
              "            await google.colab.kernel.invokeFunction('convertToInteractive',\n",
              "                                                     [key], {});\n",
              "          if (!dataTable) return;\n",
              "\n",
              "          const docLinkHtml = 'Like what you see? Visit the ' +\n",
              "            '<a target=\"_blank\" href=https://colab.research.google.com/notebooks/data_table.ipynb>data table notebook</a>'\n",
              "            + ' to learn more about interactive tables.';\n",
              "          element.innerHTML = '';\n",
              "          dataTable['output_type'] = 'display_data';\n",
              "          await google.colab.output.renderOutput(dataTable, element);\n",
              "          const docLink = document.createElement('div');\n",
              "          docLink.innerHTML = docLinkHtml;\n",
              "          element.appendChild(docLink);\n",
              "        }\n",
              "      </script>\n",
              "    </div>\n",
              "  </div>\n",
              "  "
            ]
          },
          "metadata": {},
          "execution_count": 56
        }
      ],
      "source": [
        "df3 = df2.copy()\n",
        "df3.head()"
      ]
    },
    {
      "cell_type": "code",
      "execution_count": 57,
      "metadata": {
        "colab": {
          "base_uri": "https://localhost:8080/"
        },
        "id": "IeSLlHVpdPBS",
        "outputId": "18c1073f-a2fb-4f69-830f-5011c72dfba8"
      },
      "outputs": [
        {
          "output_type": "execute_result",
          "data": {
            "text/plain": [
              "count    7.109000e+03\n",
              "mean     1.089491e+07\n",
              "std      3.768603e+06\n",
              "min      2.156875e+06\n",
              "25%      8.272100e+06\n",
              "50%      1.033505e+07\n",
              "75%      1.299390e+07\n",
              "max      2.366734e+07\n",
              "Name: SALES_PRICE, dtype: float64"
            ]
          },
          "metadata": {},
          "execution_count": 57
        }
      ],
      "source": [
        "df3[\"SALES_PRICE\"].describe().T"
      ]
    },
    {
      "cell_type": "markdown",
      "metadata": {
        "id": "4e1fuf21daWi"
      },
      "source": [
        "* Described The Count, Mean, Standard Deviation, Min, Max Of The Sales_price Using Describe() Function"
      ]
    },
    {
      "cell_type": "code",
      "execution_count": 58,
      "metadata": {
        "colab": {
          "base_uri": "https://localhost:8080/"
        },
        "id": "r7qjyJFKdwyo",
        "outputId": "f9583ca0-06f1-4054-a18d-263e4f05dd61"
      },
      "outputs": [
        {
          "output_type": "execute_result",
          "data": {
            "text/plain": [
              "5378000     2\n",
              "9429000     2\n",
              "4971250     2\n",
              "4546625     2\n",
              "11930880    2\n",
              "           ..\n",
              "6928000     1\n",
              "14874950    1\n",
              "9304770     1\n",
              "6980320     1\n",
              "9976480     1\n",
              "Name: SALES_PRICE, Length: 7057, dtype: int64"
            ]
          },
          "metadata": {},
          "execution_count": 58
        }
      ],
      "source": [
        "df3.SALES_PRICE.value_counts()"
      ]
    },
    {
      "cell_type": "code",
      "execution_count": 59,
      "metadata": {
        "colab": {
          "base_uri": "https://localhost:8080/",
          "height": 364
        },
        "id": "WMfm5bCMd0X0",
        "outputId": "f6c8435b-93a8-4833-aad2-43cce1e4204e"
      },
      "outputs": [
        {
          "output_type": "execute_result",
          "data": {
            "text/plain": [
              "              AREA     INT_SQFT  DIST_MAINROAD    N_BEDROOM   N_BATHROOM  \\\n",
              "count  7109.000000  7109.000000    7109.000000  7109.000000  7109.000000   \n",
              "mean      3.539738  1382.073006      99.603179     1.636939     1.213110   \n",
              "std       1.846837   457.410902      57.403110     0.802881     0.409534   \n",
              "min       1.000000   500.000000       0.000000     1.000000     1.000000   \n",
              "25%       2.000000   993.000000      50.000000     1.000000     1.000000   \n",
              "50%       3.000000  1373.000000      99.000000     1.000000     1.000000   \n",
              "75%       5.000000  1744.000000     148.000000     2.000000     1.000000   \n",
              "max       7.000000  2500.000000     200.000000     4.000000     2.000000   \n",
              "\n",
              "            N_ROOM    SALE_COND   PARK_FACIL  UTILITY_AVAIL       STREET  \\\n",
              "count  7109.000000  7109.000000  7109.000000    7109.000000  7109.000000   \n",
              "mean      3.688704     3.605570     0.495428       2.051343     2.070755   \n",
              "std       1.019099     1.859667     0.500014       0.690626     0.795794   \n",
              "min       2.000000     1.000000     0.000000       1.000000     1.000000   \n",
              "25%       3.000000     2.000000     0.000000       2.000000     1.000000   \n",
              "50%       4.000000     4.000000     0.000000       2.000000     2.000000   \n",
              "75%       4.000000     5.000000     1.000000       3.000000     3.000000   \n",
              "max       6.000000     6.000000     1.000000       3.000000     3.000000   \n",
              "\n",
              "            MZZONE     QS_ROOMS  QS_BATHROOM   QS_BEDROOM   QS_OVERALL  \\\n",
              "count  7109.000000  7109.000000  7109.000000  7109.000000  7109.000000   \n",
              "mean      4.317344     3.075538     3.069349     3.056126     3.004501   \n",
              "std       1.498831     0.872937     0.876024     0.871499     0.603154   \n",
              "min       1.000000     2.000000     2.000000     2.000000     2.000000   \n",
              "25%       4.000000     2.000000     2.000000     2.000000     3.000000   \n",
              "50%       5.000000     3.000000     3.000000     3.000000     3.000000   \n",
              "75%       6.000000     4.000000     4.000000     4.000000     3.000000   \n",
              "max       6.000000     5.000000     5.000000     5.000000     4.000000   \n",
              "\n",
              "        SALES_PRICE    HOUSE_AGE  BUILDTYPE_Commercial  BUILDTYPE_House  \\\n",
              "count  7.109000e+03  7109.000000           7109.000000      7109.000000   \n",
              "mean   1.089491e+07    24.300042              0.327613         0.343790   \n",
              "std    3.768603e+06    12.307659              0.469376         0.475005   \n",
              "min    2.156875e+06     4.000000              0.000000         0.000000   \n",
              "25%    8.272100e+06    14.000000              0.000000         0.000000   \n",
              "50%    1.033505e+07    23.000000              0.000000         0.000000   \n",
              "75%    1.299390e+07    34.000000              1.000000         1.000000   \n",
              "max    2.366734e+07    56.000000              1.000000         1.000000   \n",
              "\n",
              "       BUILDTYPE_Others  \n",
              "count       7109.000000  \n",
              "mean           0.328598  \n",
              "std            0.469736  \n",
              "min            0.000000  \n",
              "25%            0.000000  \n",
              "50%            0.000000  \n",
              "75%            1.000000  \n",
              "max            1.000000  "
            ],
            "text/html": [
              "\n",
              "  <div id=\"df-0834b4c3-b76d-4e68-982c-68d0c38437d5\">\n",
              "    <div class=\"colab-df-container\">\n",
              "      <div>\n",
              "<style scoped>\n",
              "    .dataframe tbody tr th:only-of-type {\n",
              "        vertical-align: middle;\n",
              "    }\n",
              "\n",
              "    .dataframe tbody tr th {\n",
              "        vertical-align: top;\n",
              "    }\n",
              "\n",
              "    .dataframe thead th {\n",
              "        text-align: right;\n",
              "    }\n",
              "</style>\n",
              "<table border=\"1\" class=\"dataframe\">\n",
              "  <thead>\n",
              "    <tr style=\"text-align: right;\">\n",
              "      <th></th>\n",
              "      <th>AREA</th>\n",
              "      <th>INT_SQFT</th>\n",
              "      <th>DIST_MAINROAD</th>\n",
              "      <th>N_BEDROOM</th>\n",
              "      <th>N_BATHROOM</th>\n",
              "      <th>N_ROOM</th>\n",
              "      <th>SALE_COND</th>\n",
              "      <th>PARK_FACIL</th>\n",
              "      <th>UTILITY_AVAIL</th>\n",
              "      <th>STREET</th>\n",
              "      <th>MZZONE</th>\n",
              "      <th>QS_ROOMS</th>\n",
              "      <th>QS_BATHROOM</th>\n",
              "      <th>QS_BEDROOM</th>\n",
              "      <th>QS_OVERALL</th>\n",
              "      <th>SALES_PRICE</th>\n",
              "      <th>HOUSE_AGE</th>\n",
              "      <th>BUILDTYPE_Commercial</th>\n",
              "      <th>BUILDTYPE_House</th>\n",
              "      <th>BUILDTYPE_Others</th>\n",
              "    </tr>\n",
              "  </thead>\n",
              "  <tbody>\n",
              "    <tr>\n",
              "      <th>count</th>\n",
              "      <td>7109.000000</td>\n",
              "      <td>7109.000000</td>\n",
              "      <td>7109.000000</td>\n",
              "      <td>7109.000000</td>\n",
              "      <td>7109.000000</td>\n",
              "      <td>7109.000000</td>\n",
              "      <td>7109.000000</td>\n",
              "      <td>7109.000000</td>\n",
              "      <td>7109.000000</td>\n",
              "      <td>7109.000000</td>\n",
              "      <td>7109.000000</td>\n",
              "      <td>7109.000000</td>\n",
              "      <td>7109.000000</td>\n",
              "      <td>7109.000000</td>\n",
              "      <td>7109.000000</td>\n",
              "      <td>7.109000e+03</td>\n",
              "      <td>7109.000000</td>\n",
              "      <td>7109.000000</td>\n",
              "      <td>7109.000000</td>\n",
              "      <td>7109.000000</td>\n",
              "    </tr>\n",
              "    <tr>\n",
              "      <th>mean</th>\n",
              "      <td>3.539738</td>\n",
              "      <td>1382.073006</td>\n",
              "      <td>99.603179</td>\n",
              "      <td>1.636939</td>\n",
              "      <td>1.213110</td>\n",
              "      <td>3.688704</td>\n",
              "      <td>3.605570</td>\n",
              "      <td>0.495428</td>\n",
              "      <td>2.051343</td>\n",
              "      <td>2.070755</td>\n",
              "      <td>4.317344</td>\n",
              "      <td>3.075538</td>\n",
              "      <td>3.069349</td>\n",
              "      <td>3.056126</td>\n",
              "      <td>3.004501</td>\n",
              "      <td>1.089491e+07</td>\n",
              "      <td>24.300042</td>\n",
              "      <td>0.327613</td>\n",
              "      <td>0.343790</td>\n",
              "      <td>0.328598</td>\n",
              "    </tr>\n",
              "    <tr>\n",
              "      <th>std</th>\n",
              "      <td>1.846837</td>\n",
              "      <td>457.410902</td>\n",
              "      <td>57.403110</td>\n",
              "      <td>0.802881</td>\n",
              "      <td>0.409534</td>\n",
              "      <td>1.019099</td>\n",
              "      <td>1.859667</td>\n",
              "      <td>0.500014</td>\n",
              "      <td>0.690626</td>\n",
              "      <td>0.795794</td>\n",
              "      <td>1.498831</td>\n",
              "      <td>0.872937</td>\n",
              "      <td>0.876024</td>\n",
              "      <td>0.871499</td>\n",
              "      <td>0.603154</td>\n",
              "      <td>3.768603e+06</td>\n",
              "      <td>12.307659</td>\n",
              "      <td>0.469376</td>\n",
              "      <td>0.475005</td>\n",
              "      <td>0.469736</td>\n",
              "    </tr>\n",
              "    <tr>\n",
              "      <th>min</th>\n",
              "      <td>1.000000</td>\n",
              "      <td>500.000000</td>\n",
              "      <td>0.000000</td>\n",
              "      <td>1.000000</td>\n",
              "      <td>1.000000</td>\n",
              "      <td>2.000000</td>\n",
              "      <td>1.000000</td>\n",
              "      <td>0.000000</td>\n",
              "      <td>1.000000</td>\n",
              "      <td>1.000000</td>\n",
              "      <td>1.000000</td>\n",
              "      <td>2.000000</td>\n",
              "      <td>2.000000</td>\n",
              "      <td>2.000000</td>\n",
              "      <td>2.000000</td>\n",
              "      <td>2.156875e+06</td>\n",
              "      <td>4.000000</td>\n",
              "      <td>0.000000</td>\n",
              "      <td>0.000000</td>\n",
              "      <td>0.000000</td>\n",
              "    </tr>\n",
              "    <tr>\n",
              "      <th>25%</th>\n",
              "      <td>2.000000</td>\n",
              "      <td>993.000000</td>\n",
              "      <td>50.000000</td>\n",
              "      <td>1.000000</td>\n",
              "      <td>1.000000</td>\n",
              "      <td>3.000000</td>\n",
              "      <td>2.000000</td>\n",
              "      <td>0.000000</td>\n",
              "      <td>2.000000</td>\n",
              "      <td>1.000000</td>\n",
              "      <td>4.000000</td>\n",
              "      <td>2.000000</td>\n",
              "      <td>2.000000</td>\n",
              "      <td>2.000000</td>\n",
              "      <td>3.000000</td>\n",
              "      <td>8.272100e+06</td>\n",
              "      <td>14.000000</td>\n",
              "      <td>0.000000</td>\n",
              "      <td>0.000000</td>\n",
              "      <td>0.000000</td>\n",
              "    </tr>\n",
              "    <tr>\n",
              "      <th>50%</th>\n",
              "      <td>3.000000</td>\n",
              "      <td>1373.000000</td>\n",
              "      <td>99.000000</td>\n",
              "      <td>1.000000</td>\n",
              "      <td>1.000000</td>\n",
              "      <td>4.000000</td>\n",
              "      <td>4.000000</td>\n",
              "      <td>0.000000</td>\n",
              "      <td>2.000000</td>\n",
              "      <td>2.000000</td>\n",
              "      <td>5.000000</td>\n",
              "      <td>3.000000</td>\n",
              "      <td>3.000000</td>\n",
              "      <td>3.000000</td>\n",
              "      <td>3.000000</td>\n",
              "      <td>1.033505e+07</td>\n",
              "      <td>23.000000</td>\n",
              "      <td>0.000000</td>\n",
              "      <td>0.000000</td>\n",
              "      <td>0.000000</td>\n",
              "    </tr>\n",
              "    <tr>\n",
              "      <th>75%</th>\n",
              "      <td>5.000000</td>\n",
              "      <td>1744.000000</td>\n",
              "      <td>148.000000</td>\n",
              "      <td>2.000000</td>\n",
              "      <td>1.000000</td>\n",
              "      <td>4.000000</td>\n",
              "      <td>5.000000</td>\n",
              "      <td>1.000000</td>\n",
              "      <td>3.000000</td>\n",
              "      <td>3.000000</td>\n",
              "      <td>6.000000</td>\n",
              "      <td>4.000000</td>\n",
              "      <td>4.000000</td>\n",
              "      <td>4.000000</td>\n",
              "      <td>3.000000</td>\n",
              "      <td>1.299390e+07</td>\n",
              "      <td>34.000000</td>\n",
              "      <td>1.000000</td>\n",
              "      <td>1.000000</td>\n",
              "      <td>1.000000</td>\n",
              "    </tr>\n",
              "    <tr>\n",
              "      <th>max</th>\n",
              "      <td>7.000000</td>\n",
              "      <td>2500.000000</td>\n",
              "      <td>200.000000</td>\n",
              "      <td>4.000000</td>\n",
              "      <td>2.000000</td>\n",
              "      <td>6.000000</td>\n",
              "      <td>6.000000</td>\n",
              "      <td>1.000000</td>\n",
              "      <td>3.000000</td>\n",
              "      <td>3.000000</td>\n",
              "      <td>6.000000</td>\n",
              "      <td>5.000000</td>\n",
              "      <td>5.000000</td>\n",
              "      <td>5.000000</td>\n",
              "      <td>4.000000</td>\n",
              "      <td>2.366734e+07</td>\n",
              "      <td>56.000000</td>\n",
              "      <td>1.000000</td>\n",
              "      <td>1.000000</td>\n",
              "      <td>1.000000</td>\n",
              "    </tr>\n",
              "  </tbody>\n",
              "</table>\n",
              "</div>\n",
              "      <button class=\"colab-df-convert\" onclick=\"convertToInteractive('df-0834b4c3-b76d-4e68-982c-68d0c38437d5')\"\n",
              "              title=\"Convert this dataframe to an interactive table.\"\n",
              "              style=\"display:none;\">\n",
              "        \n",
              "  <svg xmlns=\"http://www.w3.org/2000/svg\" height=\"24px\"viewBox=\"0 0 24 24\"\n",
              "       width=\"24px\">\n",
              "    <path d=\"M0 0h24v24H0V0z\" fill=\"none\"/>\n",
              "    <path d=\"M18.56 5.44l.94 2.06.94-2.06 2.06-.94-2.06-.94-.94-2.06-.94 2.06-2.06.94zm-11 1L8.5 8.5l.94-2.06 2.06-.94-2.06-.94L8.5 2.5l-.94 2.06-2.06.94zm10 10l.94 2.06.94-2.06 2.06-.94-2.06-.94-.94-2.06-.94 2.06-2.06.94z\"/><path d=\"M17.41 7.96l-1.37-1.37c-.4-.4-.92-.59-1.43-.59-.52 0-1.04.2-1.43.59L10.3 9.45l-7.72 7.72c-.78.78-.78 2.05 0 2.83L4 21.41c.39.39.9.59 1.41.59.51 0 1.02-.2 1.41-.59l7.78-7.78 2.81-2.81c.8-.78.8-2.07 0-2.86zM5.41 20L4 18.59l7.72-7.72 1.47 1.35L5.41 20z\"/>\n",
              "  </svg>\n",
              "      </button>\n",
              "      \n",
              "  <style>\n",
              "    .colab-df-container {\n",
              "      display:flex;\n",
              "      flex-wrap:wrap;\n",
              "      gap: 12px;\n",
              "    }\n",
              "\n",
              "    .colab-df-convert {\n",
              "      background-color: #E8F0FE;\n",
              "      border: none;\n",
              "      border-radius: 50%;\n",
              "      cursor: pointer;\n",
              "      display: none;\n",
              "      fill: #1967D2;\n",
              "      height: 32px;\n",
              "      padding: 0 0 0 0;\n",
              "      width: 32px;\n",
              "    }\n",
              "\n",
              "    .colab-df-convert:hover {\n",
              "      background-color: #E2EBFA;\n",
              "      box-shadow: 0px 1px 2px rgba(60, 64, 67, 0.3), 0px 1px 3px 1px rgba(60, 64, 67, 0.15);\n",
              "      fill: #174EA6;\n",
              "    }\n",
              "\n",
              "    [theme=dark] .colab-df-convert {\n",
              "      background-color: #3B4455;\n",
              "      fill: #D2E3FC;\n",
              "    }\n",
              "\n",
              "    [theme=dark] .colab-df-convert:hover {\n",
              "      background-color: #434B5C;\n",
              "      box-shadow: 0px 1px 3px 1px rgba(0, 0, 0, 0.15);\n",
              "      filter: drop-shadow(0px 1px 2px rgba(0, 0, 0, 0.3));\n",
              "      fill: #FFFFFF;\n",
              "    }\n",
              "  </style>\n",
              "\n",
              "      <script>\n",
              "        const buttonEl =\n",
              "          document.querySelector('#df-0834b4c3-b76d-4e68-982c-68d0c38437d5 button.colab-df-convert');\n",
              "        buttonEl.style.display =\n",
              "          google.colab.kernel.accessAllowed ? 'block' : 'none';\n",
              "\n",
              "        async function convertToInteractive(key) {\n",
              "          const element = document.querySelector('#df-0834b4c3-b76d-4e68-982c-68d0c38437d5');\n",
              "          const dataTable =\n",
              "            await google.colab.kernel.invokeFunction('convertToInteractive',\n",
              "                                                     [key], {});\n",
              "          if (!dataTable) return;\n",
              "\n",
              "          const docLinkHtml = 'Like what you see? Visit the ' +\n",
              "            '<a target=\"_blank\" href=https://colab.research.google.com/notebooks/data_table.ipynb>data table notebook</a>'\n",
              "            + ' to learn more about interactive tables.';\n",
              "          element.innerHTML = '';\n",
              "          dataTable['output_type'] = 'display_data';\n",
              "          await google.colab.output.renderOutput(dataTable, element);\n",
              "          const docLink = document.createElement('div');\n",
              "          docLink.innerHTML = docLinkHtml;\n",
              "          element.appendChild(docLink);\n",
              "        }\n",
              "      </script>\n",
              "    </div>\n",
              "  </div>\n",
              "  "
            ]
          },
          "metadata": {},
          "execution_count": 59
        }
      ],
      "source": [
        "df3.describe()"
      ]
    },
    {
      "cell_type": "code",
      "execution_count": 60,
      "metadata": {
        "colab": {
          "base_uri": "https://localhost:8080/"
        },
        "id": "OUfKFkt7eWqk",
        "outputId": "b1799a60-1ee0-496c-ca47-32098d9c2230"
      },
      "outputs": [
        {
          "output_type": "stream",
          "name": "stdout",
          "text": [
            "Number of Numerical independent Features : 19\n"
          ]
        }
      ],
      "source": [
        "Numericals = [feature for feature in df3.columns if df3[feature].dtype!='O' and feature !=\"SALES_PRICE\"]\n",
        "print(\"Number of Numerical independent Features : {}\".format(len(Numericals)))"
      ]
    },
    {
      "cell_type": "code",
      "execution_count": 61,
      "metadata": {
        "colab": {
          "base_uri": "https://localhost:8080/",
          "height": 270
        },
        "id": "PqoXv3mjebF1",
        "outputId": "2373c8be-083a-4631-bed1-e1b5e9d0f5b8"
      },
      "outputs": [
        {
          "output_type": "execute_result",
          "data": {
            "text/plain": [
              "   AREA  INT_SQFT  DIST_MAINROAD  N_BEDROOM  N_BATHROOM  N_ROOM  SALE_COND  \\\n",
              "0     1      1004            131          1           1       3          4   \n",
              "1     6      1986             26          2           1       5          4   \n",
              "2     2       909             70          1           1       3          4   \n",
              "3     4      1855             14          3           2       5          2   \n",
              "4     1      1226             84          1           1       3          4   \n",
              "\n",
              "   PARK_FACIL  UTILITY_AVAIL  STREET  MZZONE  QS_ROOMS  QS_BATHROOM  \\\n",
              "0           0              3       2       1         4            3   \n",
              "1           1              3       3       4         4            4   \n",
              "2           0              1       3       5         4            3   \n",
              "3           1              2       2       3         4            3   \n",
              "4           0              3       3       2         3            2   \n",
              "\n",
              "   QS_BEDROOM  QS_OVERALL  HOUSE_AGE  BUILDTYPE_Commercial  BUILDTYPE_House  \\\n",
              "0           4           4         44                     1                0   \n",
              "1           2           3         11                     1                0   \n",
              "2           2           3         20                     1                0   \n",
              "3           3           4         22                     0                0   \n",
              "4           4           3         30                     0                0   \n",
              "\n",
              "   BUILDTYPE_Others  \n",
              "0                 0  \n",
              "1                 0  \n",
              "2                 0  \n",
              "3                 1  \n",
              "4                 1  "
            ],
            "text/html": [
              "\n",
              "  <div id=\"df-e9bf07f1-da47-4c5c-9487-9250fc7fe2b1\">\n",
              "    <div class=\"colab-df-container\">\n",
              "      <div>\n",
              "<style scoped>\n",
              "    .dataframe tbody tr th:only-of-type {\n",
              "        vertical-align: middle;\n",
              "    }\n",
              "\n",
              "    .dataframe tbody tr th {\n",
              "        vertical-align: top;\n",
              "    }\n",
              "\n",
              "    .dataframe thead th {\n",
              "        text-align: right;\n",
              "    }\n",
              "</style>\n",
              "<table border=\"1\" class=\"dataframe\">\n",
              "  <thead>\n",
              "    <tr style=\"text-align: right;\">\n",
              "      <th></th>\n",
              "      <th>AREA</th>\n",
              "      <th>INT_SQFT</th>\n",
              "      <th>DIST_MAINROAD</th>\n",
              "      <th>N_BEDROOM</th>\n",
              "      <th>N_BATHROOM</th>\n",
              "      <th>N_ROOM</th>\n",
              "      <th>SALE_COND</th>\n",
              "      <th>PARK_FACIL</th>\n",
              "      <th>UTILITY_AVAIL</th>\n",
              "      <th>STREET</th>\n",
              "      <th>MZZONE</th>\n",
              "      <th>QS_ROOMS</th>\n",
              "      <th>QS_BATHROOM</th>\n",
              "      <th>QS_BEDROOM</th>\n",
              "      <th>QS_OVERALL</th>\n",
              "      <th>HOUSE_AGE</th>\n",
              "      <th>BUILDTYPE_Commercial</th>\n",
              "      <th>BUILDTYPE_House</th>\n",
              "      <th>BUILDTYPE_Others</th>\n",
              "    </tr>\n",
              "  </thead>\n",
              "  <tbody>\n",
              "    <tr>\n",
              "      <th>0</th>\n",
              "      <td>1</td>\n",
              "      <td>1004</td>\n",
              "      <td>131</td>\n",
              "      <td>1</td>\n",
              "      <td>1</td>\n",
              "      <td>3</td>\n",
              "      <td>4</td>\n",
              "      <td>0</td>\n",
              "      <td>3</td>\n",
              "      <td>2</td>\n",
              "      <td>1</td>\n",
              "      <td>4</td>\n",
              "      <td>3</td>\n",
              "      <td>4</td>\n",
              "      <td>4</td>\n",
              "      <td>44</td>\n",
              "      <td>1</td>\n",
              "      <td>0</td>\n",
              "      <td>0</td>\n",
              "    </tr>\n",
              "    <tr>\n",
              "      <th>1</th>\n",
              "      <td>6</td>\n",
              "      <td>1986</td>\n",
              "      <td>26</td>\n",
              "      <td>2</td>\n",
              "      <td>1</td>\n",
              "      <td>5</td>\n",
              "      <td>4</td>\n",
              "      <td>1</td>\n",
              "      <td>3</td>\n",
              "      <td>3</td>\n",
              "      <td>4</td>\n",
              "      <td>4</td>\n",
              "      <td>4</td>\n",
              "      <td>2</td>\n",
              "      <td>3</td>\n",
              "      <td>11</td>\n",
              "      <td>1</td>\n",
              "      <td>0</td>\n",
              "      <td>0</td>\n",
              "    </tr>\n",
              "    <tr>\n",
              "      <th>2</th>\n",
              "      <td>2</td>\n",
              "      <td>909</td>\n",
              "      <td>70</td>\n",
              "      <td>1</td>\n",
              "      <td>1</td>\n",
              "      <td>3</td>\n",
              "      <td>4</td>\n",
              "      <td>0</td>\n",
              "      <td>1</td>\n",
              "      <td>3</td>\n",
              "      <td>5</td>\n",
              "      <td>4</td>\n",
              "      <td>3</td>\n",
              "      <td>2</td>\n",
              "      <td>3</td>\n",
              "      <td>20</td>\n",
              "      <td>1</td>\n",
              "      <td>0</td>\n",
              "      <td>0</td>\n",
              "    </tr>\n",
              "    <tr>\n",
              "      <th>3</th>\n",
              "      <td>4</td>\n",
              "      <td>1855</td>\n",
              "      <td>14</td>\n",
              "      <td>3</td>\n",
              "      <td>2</td>\n",
              "      <td>5</td>\n",
              "      <td>2</td>\n",
              "      <td>1</td>\n",
              "      <td>2</td>\n",
              "      <td>2</td>\n",
              "      <td>3</td>\n",
              "      <td>4</td>\n",
              "      <td>3</td>\n",
              "      <td>3</td>\n",
              "      <td>4</td>\n",
              "      <td>22</td>\n",
              "      <td>0</td>\n",
              "      <td>0</td>\n",
              "      <td>1</td>\n",
              "    </tr>\n",
              "    <tr>\n",
              "      <th>4</th>\n",
              "      <td>1</td>\n",
              "      <td>1226</td>\n",
              "      <td>84</td>\n",
              "      <td>1</td>\n",
              "      <td>1</td>\n",
              "      <td>3</td>\n",
              "      <td>4</td>\n",
              "      <td>0</td>\n",
              "      <td>3</td>\n",
              "      <td>3</td>\n",
              "      <td>2</td>\n",
              "      <td>3</td>\n",
              "      <td>2</td>\n",
              "      <td>4</td>\n",
              "      <td>3</td>\n",
              "      <td>30</td>\n",
              "      <td>0</td>\n",
              "      <td>0</td>\n",
              "      <td>1</td>\n",
              "    </tr>\n",
              "  </tbody>\n",
              "</table>\n",
              "</div>\n",
              "      <button class=\"colab-df-convert\" onclick=\"convertToInteractive('df-e9bf07f1-da47-4c5c-9487-9250fc7fe2b1')\"\n",
              "              title=\"Convert this dataframe to an interactive table.\"\n",
              "              style=\"display:none;\">\n",
              "        \n",
              "  <svg xmlns=\"http://www.w3.org/2000/svg\" height=\"24px\"viewBox=\"0 0 24 24\"\n",
              "       width=\"24px\">\n",
              "    <path d=\"M0 0h24v24H0V0z\" fill=\"none\"/>\n",
              "    <path d=\"M18.56 5.44l.94 2.06.94-2.06 2.06-.94-2.06-.94-.94-2.06-.94 2.06-2.06.94zm-11 1L8.5 8.5l.94-2.06 2.06-.94-2.06-.94L8.5 2.5l-.94 2.06-2.06.94zm10 10l.94 2.06.94-2.06 2.06-.94-2.06-.94-.94-2.06-.94 2.06-2.06.94z\"/><path d=\"M17.41 7.96l-1.37-1.37c-.4-.4-.92-.59-1.43-.59-.52 0-1.04.2-1.43.59L10.3 9.45l-7.72 7.72c-.78.78-.78 2.05 0 2.83L4 21.41c.39.39.9.59 1.41.59.51 0 1.02-.2 1.41-.59l7.78-7.78 2.81-2.81c.8-.78.8-2.07 0-2.86zM5.41 20L4 18.59l7.72-7.72 1.47 1.35L5.41 20z\"/>\n",
              "  </svg>\n",
              "      </button>\n",
              "      \n",
              "  <style>\n",
              "    .colab-df-container {\n",
              "      display:flex;\n",
              "      flex-wrap:wrap;\n",
              "      gap: 12px;\n",
              "    }\n",
              "\n",
              "    .colab-df-convert {\n",
              "      background-color: #E8F0FE;\n",
              "      border: none;\n",
              "      border-radius: 50%;\n",
              "      cursor: pointer;\n",
              "      display: none;\n",
              "      fill: #1967D2;\n",
              "      height: 32px;\n",
              "      padding: 0 0 0 0;\n",
              "      width: 32px;\n",
              "    }\n",
              "\n",
              "    .colab-df-convert:hover {\n",
              "      background-color: #E2EBFA;\n",
              "      box-shadow: 0px 1px 2px rgba(60, 64, 67, 0.3), 0px 1px 3px 1px rgba(60, 64, 67, 0.15);\n",
              "      fill: #174EA6;\n",
              "    }\n",
              "\n",
              "    [theme=dark] .colab-df-convert {\n",
              "      background-color: #3B4455;\n",
              "      fill: #D2E3FC;\n",
              "    }\n",
              "\n",
              "    [theme=dark] .colab-df-convert:hover {\n",
              "      background-color: #434B5C;\n",
              "      box-shadow: 0px 1px 3px 1px rgba(0, 0, 0, 0.15);\n",
              "      filter: drop-shadow(0px 1px 2px rgba(0, 0, 0, 0.3));\n",
              "      fill: #FFFFFF;\n",
              "    }\n",
              "  </style>\n",
              "\n",
              "      <script>\n",
              "        const buttonEl =\n",
              "          document.querySelector('#df-e9bf07f1-da47-4c5c-9487-9250fc7fe2b1 button.colab-df-convert');\n",
              "        buttonEl.style.display =\n",
              "          google.colab.kernel.accessAllowed ? 'block' : 'none';\n",
              "\n",
              "        async function convertToInteractive(key) {\n",
              "          const element = document.querySelector('#df-e9bf07f1-da47-4c5c-9487-9250fc7fe2b1');\n",
              "          const dataTable =\n",
              "            await google.colab.kernel.invokeFunction('convertToInteractive',\n",
              "                                                     [key], {});\n",
              "          if (!dataTable) return;\n",
              "\n",
              "          const docLinkHtml = 'Like what you see? Visit the ' +\n",
              "            '<a target=\"_blank\" href=https://colab.research.google.com/notebooks/data_table.ipynb>data table notebook</a>'\n",
              "            + ' to learn more about interactive tables.';\n",
              "          element.innerHTML = '';\n",
              "          dataTable['output_type'] = 'display_data';\n",
              "          await google.colab.output.renderOutput(dataTable, element);\n",
              "          const docLink = document.createElement('div');\n",
              "          docLink.innerHTML = docLinkHtml;\n",
              "          element.appendChild(docLink);\n",
              "        }\n",
              "      </script>\n",
              "    </div>\n",
              "  </div>\n",
              "  "
            ]
          },
          "metadata": {},
          "execution_count": 61
        }
      ],
      "source": [
        "df3[Numericals].head()"
      ]
    },
    {
      "cell_type": "markdown",
      "metadata": {
        "id": "nTC8MKtnefbF"
      },
      "source": [
        "# Data Splitting"
      ]
    },
    {
      "cell_type": "markdown",
      "metadata": {
        "id": "s9S8fFcAe3R4"
      },
      "source": [
        "Splitting Independent Variable And Target Variable"
      ]
    },
    {
      "cell_type": "code",
      "source": [
        "df3.head()"
      ],
      "metadata": {
        "colab": {
          "base_uri": "https://localhost:8080/",
          "height": 270
        },
        "id": "PPVxdmRN0jBN",
        "outputId": "9131ddf1-cf41-4751-f17b-838dd371e4d5"
      },
      "execution_count": 62,
      "outputs": [
        {
          "output_type": "execute_result",
          "data": {
            "text/plain": [
              "   AREA  INT_SQFT  DIST_MAINROAD  N_BEDROOM  N_BATHROOM  N_ROOM  SALE_COND  \\\n",
              "0     1      1004            131          1           1       3          4   \n",
              "1     6      1986             26          2           1       5          4   \n",
              "2     2       909             70          1           1       3          4   \n",
              "3     4      1855             14          3           2       5          2   \n",
              "4     1      1226             84          1           1       3          4   \n",
              "\n",
              "   PARK_FACIL  UTILITY_AVAIL  STREET  MZZONE  QS_ROOMS  QS_BATHROOM  \\\n",
              "0           0              3       2       1         4            3   \n",
              "1           1              3       3       4         4            4   \n",
              "2           0              1       3       5         4            3   \n",
              "3           1              2       2       3         4            3   \n",
              "4           0              3       3       2         3            2   \n",
              "\n",
              "   QS_BEDROOM  QS_OVERALL  SALES_PRICE  HOUSE_AGE  BUILDTYPE_Commercial  \\\n",
              "0           4           4      7600000         44                     1   \n",
              "1           2           3     21717770         11                     1   \n",
              "2           2           3     13159200         20                     1   \n",
              "3           3           4      9630290         22                     0   \n",
              "4           4           3      7406250         30                     0   \n",
              "\n",
              "   BUILDTYPE_House  BUILDTYPE_Others  \n",
              "0                0                 0  \n",
              "1                0                 0  \n",
              "2                0                 0  \n",
              "3                0                 1  \n",
              "4                0                 1  "
            ],
            "text/html": [
              "\n",
              "  <div id=\"df-f7602f0d-7457-41ea-9113-639509850d19\">\n",
              "    <div class=\"colab-df-container\">\n",
              "      <div>\n",
              "<style scoped>\n",
              "    .dataframe tbody tr th:only-of-type {\n",
              "        vertical-align: middle;\n",
              "    }\n",
              "\n",
              "    .dataframe tbody tr th {\n",
              "        vertical-align: top;\n",
              "    }\n",
              "\n",
              "    .dataframe thead th {\n",
              "        text-align: right;\n",
              "    }\n",
              "</style>\n",
              "<table border=\"1\" class=\"dataframe\">\n",
              "  <thead>\n",
              "    <tr style=\"text-align: right;\">\n",
              "      <th></th>\n",
              "      <th>AREA</th>\n",
              "      <th>INT_SQFT</th>\n",
              "      <th>DIST_MAINROAD</th>\n",
              "      <th>N_BEDROOM</th>\n",
              "      <th>N_BATHROOM</th>\n",
              "      <th>N_ROOM</th>\n",
              "      <th>SALE_COND</th>\n",
              "      <th>PARK_FACIL</th>\n",
              "      <th>UTILITY_AVAIL</th>\n",
              "      <th>STREET</th>\n",
              "      <th>MZZONE</th>\n",
              "      <th>QS_ROOMS</th>\n",
              "      <th>QS_BATHROOM</th>\n",
              "      <th>QS_BEDROOM</th>\n",
              "      <th>QS_OVERALL</th>\n",
              "      <th>SALES_PRICE</th>\n",
              "      <th>HOUSE_AGE</th>\n",
              "      <th>BUILDTYPE_Commercial</th>\n",
              "      <th>BUILDTYPE_House</th>\n",
              "      <th>BUILDTYPE_Others</th>\n",
              "    </tr>\n",
              "  </thead>\n",
              "  <tbody>\n",
              "    <tr>\n",
              "      <th>0</th>\n",
              "      <td>1</td>\n",
              "      <td>1004</td>\n",
              "      <td>131</td>\n",
              "      <td>1</td>\n",
              "      <td>1</td>\n",
              "      <td>3</td>\n",
              "      <td>4</td>\n",
              "      <td>0</td>\n",
              "      <td>3</td>\n",
              "      <td>2</td>\n",
              "      <td>1</td>\n",
              "      <td>4</td>\n",
              "      <td>3</td>\n",
              "      <td>4</td>\n",
              "      <td>4</td>\n",
              "      <td>7600000</td>\n",
              "      <td>44</td>\n",
              "      <td>1</td>\n",
              "      <td>0</td>\n",
              "      <td>0</td>\n",
              "    </tr>\n",
              "    <tr>\n",
              "      <th>1</th>\n",
              "      <td>6</td>\n",
              "      <td>1986</td>\n",
              "      <td>26</td>\n",
              "      <td>2</td>\n",
              "      <td>1</td>\n",
              "      <td>5</td>\n",
              "      <td>4</td>\n",
              "      <td>1</td>\n",
              "      <td>3</td>\n",
              "      <td>3</td>\n",
              "      <td>4</td>\n",
              "      <td>4</td>\n",
              "      <td>4</td>\n",
              "      <td>2</td>\n",
              "      <td>3</td>\n",
              "      <td>21717770</td>\n",
              "      <td>11</td>\n",
              "      <td>1</td>\n",
              "      <td>0</td>\n",
              "      <td>0</td>\n",
              "    </tr>\n",
              "    <tr>\n",
              "      <th>2</th>\n",
              "      <td>2</td>\n",
              "      <td>909</td>\n",
              "      <td>70</td>\n",
              "      <td>1</td>\n",
              "      <td>1</td>\n",
              "      <td>3</td>\n",
              "      <td>4</td>\n",
              "      <td>0</td>\n",
              "      <td>1</td>\n",
              "      <td>3</td>\n",
              "      <td>5</td>\n",
              "      <td>4</td>\n",
              "      <td>3</td>\n",
              "      <td>2</td>\n",
              "      <td>3</td>\n",
              "      <td>13159200</td>\n",
              "      <td>20</td>\n",
              "      <td>1</td>\n",
              "      <td>0</td>\n",
              "      <td>0</td>\n",
              "    </tr>\n",
              "    <tr>\n",
              "      <th>3</th>\n",
              "      <td>4</td>\n",
              "      <td>1855</td>\n",
              "      <td>14</td>\n",
              "      <td>3</td>\n",
              "      <td>2</td>\n",
              "      <td>5</td>\n",
              "      <td>2</td>\n",
              "      <td>1</td>\n",
              "      <td>2</td>\n",
              "      <td>2</td>\n",
              "      <td>3</td>\n",
              "      <td>4</td>\n",
              "      <td>3</td>\n",
              "      <td>3</td>\n",
              "      <td>4</td>\n",
              "      <td>9630290</td>\n",
              "      <td>22</td>\n",
              "      <td>0</td>\n",
              "      <td>0</td>\n",
              "      <td>1</td>\n",
              "    </tr>\n",
              "    <tr>\n",
              "      <th>4</th>\n",
              "      <td>1</td>\n",
              "      <td>1226</td>\n",
              "      <td>84</td>\n",
              "      <td>1</td>\n",
              "      <td>1</td>\n",
              "      <td>3</td>\n",
              "      <td>4</td>\n",
              "      <td>0</td>\n",
              "      <td>3</td>\n",
              "      <td>3</td>\n",
              "      <td>2</td>\n",
              "      <td>3</td>\n",
              "      <td>2</td>\n",
              "      <td>4</td>\n",
              "      <td>3</td>\n",
              "      <td>7406250</td>\n",
              "      <td>30</td>\n",
              "      <td>0</td>\n",
              "      <td>0</td>\n",
              "      <td>1</td>\n",
              "    </tr>\n",
              "  </tbody>\n",
              "</table>\n",
              "</div>\n",
              "      <button class=\"colab-df-convert\" onclick=\"convertToInteractive('df-f7602f0d-7457-41ea-9113-639509850d19')\"\n",
              "              title=\"Convert this dataframe to an interactive table.\"\n",
              "              style=\"display:none;\">\n",
              "        \n",
              "  <svg xmlns=\"http://www.w3.org/2000/svg\" height=\"24px\"viewBox=\"0 0 24 24\"\n",
              "       width=\"24px\">\n",
              "    <path d=\"M0 0h24v24H0V0z\" fill=\"none\"/>\n",
              "    <path d=\"M18.56 5.44l.94 2.06.94-2.06 2.06-.94-2.06-.94-.94-2.06-.94 2.06-2.06.94zm-11 1L8.5 8.5l.94-2.06 2.06-.94-2.06-.94L8.5 2.5l-.94 2.06-2.06.94zm10 10l.94 2.06.94-2.06 2.06-.94-2.06-.94-.94-2.06-.94 2.06-2.06.94z\"/><path d=\"M17.41 7.96l-1.37-1.37c-.4-.4-.92-.59-1.43-.59-.52 0-1.04.2-1.43.59L10.3 9.45l-7.72 7.72c-.78.78-.78 2.05 0 2.83L4 21.41c.39.39.9.59 1.41.59.51 0 1.02-.2 1.41-.59l7.78-7.78 2.81-2.81c.8-.78.8-2.07 0-2.86zM5.41 20L4 18.59l7.72-7.72 1.47 1.35L5.41 20z\"/>\n",
              "  </svg>\n",
              "      </button>\n",
              "      \n",
              "  <style>\n",
              "    .colab-df-container {\n",
              "      display:flex;\n",
              "      flex-wrap:wrap;\n",
              "      gap: 12px;\n",
              "    }\n",
              "\n",
              "    .colab-df-convert {\n",
              "      background-color: #E8F0FE;\n",
              "      border: none;\n",
              "      border-radius: 50%;\n",
              "      cursor: pointer;\n",
              "      display: none;\n",
              "      fill: #1967D2;\n",
              "      height: 32px;\n",
              "      padding: 0 0 0 0;\n",
              "      width: 32px;\n",
              "    }\n",
              "\n",
              "    .colab-df-convert:hover {\n",
              "      background-color: #E2EBFA;\n",
              "      box-shadow: 0px 1px 2px rgba(60, 64, 67, 0.3), 0px 1px 3px 1px rgba(60, 64, 67, 0.15);\n",
              "      fill: #174EA6;\n",
              "    }\n",
              "\n",
              "    [theme=dark] .colab-df-convert {\n",
              "      background-color: #3B4455;\n",
              "      fill: #D2E3FC;\n",
              "    }\n",
              "\n",
              "    [theme=dark] .colab-df-convert:hover {\n",
              "      background-color: #434B5C;\n",
              "      box-shadow: 0px 1px 3px 1px rgba(0, 0, 0, 0.15);\n",
              "      filter: drop-shadow(0px 1px 2px rgba(0, 0, 0, 0.3));\n",
              "      fill: #FFFFFF;\n",
              "    }\n",
              "  </style>\n",
              "\n",
              "      <script>\n",
              "        const buttonEl =\n",
              "          document.querySelector('#df-f7602f0d-7457-41ea-9113-639509850d19 button.colab-df-convert');\n",
              "        buttonEl.style.display =\n",
              "          google.colab.kernel.accessAllowed ? 'block' : 'none';\n",
              "\n",
              "        async function convertToInteractive(key) {\n",
              "          const element = document.querySelector('#df-f7602f0d-7457-41ea-9113-639509850d19');\n",
              "          const dataTable =\n",
              "            await google.colab.kernel.invokeFunction('convertToInteractive',\n",
              "                                                     [key], {});\n",
              "          if (!dataTable) return;\n",
              "\n",
              "          const docLinkHtml = 'Like what you see? Visit the ' +\n",
              "            '<a target=\"_blank\" href=https://colab.research.google.com/notebooks/data_table.ipynb>data table notebook</a>'\n",
              "            + ' to learn more about interactive tables.';\n",
              "          element.innerHTML = '';\n",
              "          dataTable['output_type'] = 'display_data';\n",
              "          await google.colab.output.renderOutput(dataTable, element);\n",
              "          const docLink = document.createElement('div');\n",
              "          docLink.innerHTML = docLinkHtml;\n",
              "          element.appendChild(docLink);\n",
              "        }\n",
              "      </script>\n",
              "    </div>\n",
              "  </div>\n",
              "  "
            ]
          },
          "metadata": {},
          "execution_count": 62
        }
      ]
    },
    {
      "cell_type": "code",
      "execution_count": 63,
      "metadata": {
        "id": "mlgYBdU9eidi"
      },
      "outputs": [],
      "source": [
        "X = df3[[\"AREA\",\"INT_SQFT\",\"DIST_MAINROAD\",\"N_BEDROOM\", \"N_BATHROOM\" , \"N_ROOM\" , \"QS_ROOMS\",\"QS_BATHROOM\",\"QS_BEDROOM\",\"QS_OVERALL\",\"SALE_COND\",\"PARK_FACIL\",\"UTILITY_AVAIL\",\"STREET\",\"MZZONE\",\"HOUSE_AGE\",\"BUILDTYPE_Commercial\",\"BUILDTYPE_House\",\"BUILDTYPE_Others\"]]\n",
        "y = df3[\"SALES_PRICE\"]\n",
        "from sklearn.model_selection import train_test_split"
      ]
    },
    {
      "cell_type": "markdown",
      "source": [
        "* X is a Independent Variable  \n",
        "* y is a Target Variable"
      ],
      "metadata": {
        "id": "hydfapMUulUv"
      }
    },
    {
      "cell_type": "markdown",
      "metadata": {
        "id": "XnpNkE-XfRno"
      },
      "source": [
        " Numerical Features of X and y"
      ]
    },
    {
      "cell_type": "code",
      "execution_count": 64,
      "metadata": {
        "colab": {
          "base_uri": "https://localhost:8080/"
        },
        "id": "KSKgRqL5fK73",
        "outputId": "06082e4b-8eb8-4dde-eabe-e8e1bf7b8cb6"
      },
      "outputs": [
        {
          "output_type": "stream",
          "name": "stdout",
          "text": [
            "      AREA  INT_SQFT  DIST_MAINROAD  N_BEDROOM  N_BATHROOM  N_ROOM  QS_ROOMS  \\\n",
            "0        1      1004            131          1           1       3         4   \n",
            "1        6      1986             26          2           1       5         4   \n",
            "2        2       909             70          1           1       3         4   \n",
            "3        4      1855             14          3           2       5         4   \n",
            "4        1      1226             84          1           1       3         3   \n",
            "...    ...       ...            ...        ...         ...     ...       ...   \n",
            "7104     1       598             51          1           1       2         3   \n",
            "7105     4      1897             52          3           2       5         3   \n",
            "7106     4      1614            152          2           1       4         4   \n",
            "7107     1       787             40          1           1       2         4   \n",
            "7108     4      1896            156          3           2       5         3   \n",
            "\n",
            "      QS_BATHROOM  QS_BEDROOM  QS_OVERALL  SALE_COND  PARK_FACIL  \\\n",
            "0               3           4           4          4           0   \n",
            "1               4           2           3          4           1   \n",
            "2               3           2           3          4           0   \n",
            "3               3           3           4          2           1   \n",
            "4               2           4           3          4           0   \n",
            "...           ...         ...         ...        ...         ...   \n",
            "7104            2           2           2          6           1   \n",
            "7105            4           3           3          2           0   \n",
            "7106            4           2           3          5           1   \n",
            "7107            3           4           4          1           0   \n",
            "7108            3           4           3          1           0   \n",
            "\n",
            "      UTILITY_AVAIL  STREET  MZZONE  HOUSE_AGE  BUILDTYPE_Commercial  \\\n",
            "0                 3       2       1         44                     1   \n",
            "1                 3       3       4         11                     1   \n",
            "2                 1       3       5         20                     1   \n",
            "3                 2       2       3         22                     0   \n",
            "4                 3       3       2         30                     0   \n",
            "...             ...     ...     ...        ...                   ...   \n",
            "7104              1       1       6         49                     0   \n",
            "7105              2       1       4          9                     0   \n",
            "7106              2       3       3         29                     0   \n",
            "7107              1       2       5         31                     1   \n",
            "7108              1       2       3         44                     0   \n",
            "\n",
            "      BUILDTYPE_House  BUILDTYPE_Others  \n",
            "0                   0                 0  \n",
            "1                   0                 0  \n",
            "2                   0                 0  \n",
            "3                   0                 1  \n",
            "4                   0                 1  \n",
            "...               ...               ...  \n",
            "7104                0                 1  \n",
            "7105                0                 1  \n",
            "7106                1                 0  \n",
            "7107                0                 0  \n",
            "7108                0                 1  \n",
            "\n",
            "[7109 rows x 19 columns]\n",
            "0        7600000\n",
            "1       21717770\n",
            "2       13159200\n",
            "3        9630290\n",
            "4        7406250\n",
            "          ...   \n",
            "7104     5353000\n",
            "7105    10818480\n",
            "7106     8351410\n",
            "7107     8507000\n",
            "7108     9976480\n",
            "Name: SALES_PRICE, Length: 7109, dtype: int64\n"
          ]
        }
      ],
      "source": [
        "print(X)\n",
        "print(y)"
      ]
    },
    {
      "cell_type": "markdown",
      "metadata": {
        "id": "d4gxsMjPfpzA"
      },
      "source": [
        "Splitted The Data Into X_train, X_test And y_train, y_test Using Train_Test_Split() Function"
      ]
    },
    {
      "cell_type": "code",
      "execution_count": 65,
      "metadata": {
        "id": "Gxtklka3fiuD"
      },
      "outputs": [],
      "source": [
        "X_train, X_test, y_train, y_test = train_test_split(X, y, test_size=0.25, random_state= 0)"
      ]
    },
    {
      "cell_type": "code",
      "execution_count": 66,
      "metadata": {
        "colab": {
          "base_uri": "https://localhost:8080/",
          "height": 488
        },
        "id": "1x6vb7a1f8Uq",
        "outputId": "9fd0573e-f439-47fc-e24d-f0efe7cd0cd8"
      },
      "outputs": [
        {
          "output_type": "execute_result",
          "data": {
            "text/plain": [
              "      AREA  INT_SQFT  DIST_MAINROAD  N_BEDROOM  N_BATHROOM  N_ROOM  QS_ROOMS  \\\n",
              "1806     6      1930            163          2           1       5         2   \n",
              "3725     6      1626             27          1           1       4         3   \n",
              "4198     6      1692            128          1           1       4         2   \n",
              "6478     6      1548            123          1           1       4         3   \n",
              "5962     1       909            125          1           1       3         3   \n",
              "...    ...       ...            ...        ...         ...     ...       ...   \n",
              "4931     6      1532            172          1           1       4         4   \n",
              "3264     4      1572             95          2           1       4         4   \n",
              "1653     5      2087             31          3           2       5         5   \n",
              "2607     4      1754            166          2           1       4         2   \n",
              "2732     5      1444             47          2           1       4         4   \n",
              "\n",
              "      QS_BATHROOM  QS_BEDROOM  QS_OVERALL  SALE_COND  PARK_FACIL  \\\n",
              "1806            3           2           2          1           1   \n",
              "3725            3           4           4          2           0   \n",
              "4198            3           4           3          1           1   \n",
              "6478            5           4           4          2           0   \n",
              "5962            2           2           2          2           1   \n",
              "...           ...         ...         ...        ...         ...   \n",
              "4931            4           3           3          6           0   \n",
              "3264            5           3           4          4           1   \n",
              "1653            4           3           4          1           0   \n",
              "2607            4           2           3          5           0   \n",
              "2732            3           4           4          4           1   \n",
              "\n",
              "      UTILITY_AVAIL  STREET  MZZONE  HOUSE_AGE  BUILDTYPE_Commercial  \\\n",
              "1806              2       3       6         44                     0   \n",
              "3725              1       3       4         38                     0   \n",
              "4198              1       2       4         17                     1   \n",
              "6478              2       2       4         35                     0   \n",
              "5962              2       2       4         27                     0   \n",
              "...             ...     ...     ...        ...                   ...   \n",
              "4931              2       3       5         34                     0   \n",
              "3264              2       1       6         29                     1   \n",
              "1653              3       3       4          5                     0   \n",
              "2607              2       3       6         18                     1   \n",
              "2732              2       3       4         23                     1   \n",
              "\n",
              "      BUILDTYPE_House  BUILDTYPE_Others  \n",
              "1806                1                 0  \n",
              "3725                0                 1  \n",
              "4198                0                 0  \n",
              "6478                0                 1  \n",
              "5962                0                 1  \n",
              "...               ...               ...  \n",
              "4931                1                 0  \n",
              "3264                0                 0  \n",
              "1653                1                 0  \n",
              "2607                0                 0  \n",
              "2732                0                 0  \n",
              "\n",
              "[5331 rows x 19 columns]"
            ],
            "text/html": [
              "\n",
              "  <div id=\"df-35407c30-191b-4d9b-a73c-ddb2f973eb9a\">\n",
              "    <div class=\"colab-df-container\">\n",
              "      <div>\n",
              "<style scoped>\n",
              "    .dataframe tbody tr th:only-of-type {\n",
              "        vertical-align: middle;\n",
              "    }\n",
              "\n",
              "    .dataframe tbody tr th {\n",
              "        vertical-align: top;\n",
              "    }\n",
              "\n",
              "    .dataframe thead th {\n",
              "        text-align: right;\n",
              "    }\n",
              "</style>\n",
              "<table border=\"1\" class=\"dataframe\">\n",
              "  <thead>\n",
              "    <tr style=\"text-align: right;\">\n",
              "      <th></th>\n",
              "      <th>AREA</th>\n",
              "      <th>INT_SQFT</th>\n",
              "      <th>DIST_MAINROAD</th>\n",
              "      <th>N_BEDROOM</th>\n",
              "      <th>N_BATHROOM</th>\n",
              "      <th>N_ROOM</th>\n",
              "      <th>QS_ROOMS</th>\n",
              "      <th>QS_BATHROOM</th>\n",
              "      <th>QS_BEDROOM</th>\n",
              "      <th>QS_OVERALL</th>\n",
              "      <th>SALE_COND</th>\n",
              "      <th>PARK_FACIL</th>\n",
              "      <th>UTILITY_AVAIL</th>\n",
              "      <th>STREET</th>\n",
              "      <th>MZZONE</th>\n",
              "      <th>HOUSE_AGE</th>\n",
              "      <th>BUILDTYPE_Commercial</th>\n",
              "      <th>BUILDTYPE_House</th>\n",
              "      <th>BUILDTYPE_Others</th>\n",
              "    </tr>\n",
              "  </thead>\n",
              "  <tbody>\n",
              "    <tr>\n",
              "      <th>1806</th>\n",
              "      <td>6</td>\n",
              "      <td>1930</td>\n",
              "      <td>163</td>\n",
              "      <td>2</td>\n",
              "      <td>1</td>\n",
              "      <td>5</td>\n",
              "      <td>2</td>\n",
              "      <td>3</td>\n",
              "      <td>2</td>\n",
              "      <td>2</td>\n",
              "      <td>1</td>\n",
              "      <td>1</td>\n",
              "      <td>2</td>\n",
              "      <td>3</td>\n",
              "      <td>6</td>\n",
              "      <td>44</td>\n",
              "      <td>0</td>\n",
              "      <td>1</td>\n",
              "      <td>0</td>\n",
              "    </tr>\n",
              "    <tr>\n",
              "      <th>3725</th>\n",
              "      <td>6</td>\n",
              "      <td>1626</td>\n",
              "      <td>27</td>\n",
              "      <td>1</td>\n",
              "      <td>1</td>\n",
              "      <td>4</td>\n",
              "      <td>3</td>\n",
              "      <td>3</td>\n",
              "      <td>4</td>\n",
              "      <td>4</td>\n",
              "      <td>2</td>\n",
              "      <td>0</td>\n",
              "      <td>1</td>\n",
              "      <td>3</td>\n",
              "      <td>4</td>\n",
              "      <td>38</td>\n",
              "      <td>0</td>\n",
              "      <td>0</td>\n",
              "      <td>1</td>\n",
              "    </tr>\n",
              "    <tr>\n",
              "      <th>4198</th>\n",
              "      <td>6</td>\n",
              "      <td>1692</td>\n",
              "      <td>128</td>\n",
              "      <td>1</td>\n",
              "      <td>1</td>\n",
              "      <td>4</td>\n",
              "      <td>2</td>\n",
              "      <td>3</td>\n",
              "      <td>4</td>\n",
              "      <td>3</td>\n",
              "      <td>1</td>\n",
              "      <td>1</td>\n",
              "      <td>1</td>\n",
              "      <td>2</td>\n",
              "      <td>4</td>\n",
              "      <td>17</td>\n",
              "      <td>1</td>\n",
              "      <td>0</td>\n",
              "      <td>0</td>\n",
              "    </tr>\n",
              "    <tr>\n",
              "      <th>6478</th>\n",
              "      <td>6</td>\n",
              "      <td>1548</td>\n",
              "      <td>123</td>\n",
              "      <td>1</td>\n",
              "      <td>1</td>\n",
              "      <td>4</td>\n",
              "      <td>3</td>\n",
              "      <td>5</td>\n",
              "      <td>4</td>\n",
              "      <td>4</td>\n",
              "      <td>2</td>\n",
              "      <td>0</td>\n",
              "      <td>2</td>\n",
              "      <td>2</td>\n",
              "      <td>4</td>\n",
              "      <td>35</td>\n",
              "      <td>0</td>\n",
              "      <td>0</td>\n",
              "      <td>1</td>\n",
              "    </tr>\n",
              "    <tr>\n",
              "      <th>5962</th>\n",
              "      <td>1</td>\n",
              "      <td>909</td>\n",
              "      <td>125</td>\n",
              "      <td>1</td>\n",
              "      <td>1</td>\n",
              "      <td>3</td>\n",
              "      <td>3</td>\n",
              "      <td>2</td>\n",
              "      <td>2</td>\n",
              "      <td>2</td>\n",
              "      <td>2</td>\n",
              "      <td>1</td>\n",
              "      <td>2</td>\n",
              "      <td>2</td>\n",
              "      <td>4</td>\n",
              "      <td>27</td>\n",
              "      <td>0</td>\n",
              "      <td>0</td>\n",
              "      <td>1</td>\n",
              "    </tr>\n",
              "    <tr>\n",
              "      <th>...</th>\n",
              "      <td>...</td>\n",
              "      <td>...</td>\n",
              "      <td>...</td>\n",
              "      <td>...</td>\n",
              "      <td>...</td>\n",
              "      <td>...</td>\n",
              "      <td>...</td>\n",
              "      <td>...</td>\n",
              "      <td>...</td>\n",
              "      <td>...</td>\n",
              "      <td>...</td>\n",
              "      <td>...</td>\n",
              "      <td>...</td>\n",
              "      <td>...</td>\n",
              "      <td>...</td>\n",
              "      <td>...</td>\n",
              "      <td>...</td>\n",
              "      <td>...</td>\n",
              "      <td>...</td>\n",
              "    </tr>\n",
              "    <tr>\n",
              "      <th>4931</th>\n",
              "      <td>6</td>\n",
              "      <td>1532</td>\n",
              "      <td>172</td>\n",
              "      <td>1</td>\n",
              "      <td>1</td>\n",
              "      <td>4</td>\n",
              "      <td>4</td>\n",
              "      <td>4</td>\n",
              "      <td>3</td>\n",
              "      <td>3</td>\n",
              "      <td>6</td>\n",
              "      <td>0</td>\n",
              "      <td>2</td>\n",
              "      <td>3</td>\n",
              "      <td>5</td>\n",
              "      <td>34</td>\n",
              "      <td>0</td>\n",
              "      <td>1</td>\n",
              "      <td>0</td>\n",
              "    </tr>\n",
              "    <tr>\n",
              "      <th>3264</th>\n",
              "      <td>4</td>\n",
              "      <td>1572</td>\n",
              "      <td>95</td>\n",
              "      <td>2</td>\n",
              "      <td>1</td>\n",
              "      <td>4</td>\n",
              "      <td>4</td>\n",
              "      <td>5</td>\n",
              "      <td>3</td>\n",
              "      <td>4</td>\n",
              "      <td>4</td>\n",
              "      <td>1</td>\n",
              "      <td>2</td>\n",
              "      <td>1</td>\n",
              "      <td>6</td>\n",
              "      <td>29</td>\n",
              "      <td>1</td>\n",
              "      <td>0</td>\n",
              "      <td>0</td>\n",
              "    </tr>\n",
              "    <tr>\n",
              "      <th>1653</th>\n",
              "      <td>5</td>\n",
              "      <td>2087</td>\n",
              "      <td>31</td>\n",
              "      <td>3</td>\n",
              "      <td>2</td>\n",
              "      <td>5</td>\n",
              "      <td>5</td>\n",
              "      <td>4</td>\n",
              "      <td>3</td>\n",
              "      <td>4</td>\n",
              "      <td>1</td>\n",
              "      <td>0</td>\n",
              "      <td>3</td>\n",
              "      <td>3</td>\n",
              "      <td>4</td>\n",
              "      <td>5</td>\n",
              "      <td>0</td>\n",
              "      <td>1</td>\n",
              "      <td>0</td>\n",
              "    </tr>\n",
              "    <tr>\n",
              "      <th>2607</th>\n",
              "      <td>4</td>\n",
              "      <td>1754</td>\n",
              "      <td>166</td>\n",
              "      <td>2</td>\n",
              "      <td>1</td>\n",
              "      <td>4</td>\n",
              "      <td>2</td>\n",
              "      <td>4</td>\n",
              "      <td>2</td>\n",
              "      <td>3</td>\n",
              "      <td>5</td>\n",
              "      <td>0</td>\n",
              "      <td>2</td>\n",
              "      <td>3</td>\n",
              "      <td>6</td>\n",
              "      <td>18</td>\n",
              "      <td>1</td>\n",
              "      <td>0</td>\n",
              "      <td>0</td>\n",
              "    </tr>\n",
              "    <tr>\n",
              "      <th>2732</th>\n",
              "      <td>5</td>\n",
              "      <td>1444</td>\n",
              "      <td>47</td>\n",
              "      <td>2</td>\n",
              "      <td>1</td>\n",
              "      <td>4</td>\n",
              "      <td>4</td>\n",
              "      <td>3</td>\n",
              "      <td>4</td>\n",
              "      <td>4</td>\n",
              "      <td>4</td>\n",
              "      <td>1</td>\n",
              "      <td>2</td>\n",
              "      <td>3</td>\n",
              "      <td>4</td>\n",
              "      <td>23</td>\n",
              "      <td>1</td>\n",
              "      <td>0</td>\n",
              "      <td>0</td>\n",
              "    </tr>\n",
              "  </tbody>\n",
              "</table>\n",
              "<p>5331 rows × 19 columns</p>\n",
              "</div>\n",
              "      <button class=\"colab-df-convert\" onclick=\"convertToInteractive('df-35407c30-191b-4d9b-a73c-ddb2f973eb9a')\"\n",
              "              title=\"Convert this dataframe to an interactive table.\"\n",
              "              style=\"display:none;\">\n",
              "        \n",
              "  <svg xmlns=\"http://www.w3.org/2000/svg\" height=\"24px\"viewBox=\"0 0 24 24\"\n",
              "       width=\"24px\">\n",
              "    <path d=\"M0 0h24v24H0V0z\" fill=\"none\"/>\n",
              "    <path d=\"M18.56 5.44l.94 2.06.94-2.06 2.06-.94-2.06-.94-.94-2.06-.94 2.06-2.06.94zm-11 1L8.5 8.5l.94-2.06 2.06-.94-2.06-.94L8.5 2.5l-.94 2.06-2.06.94zm10 10l.94 2.06.94-2.06 2.06-.94-2.06-.94-.94-2.06-.94 2.06-2.06.94z\"/><path d=\"M17.41 7.96l-1.37-1.37c-.4-.4-.92-.59-1.43-.59-.52 0-1.04.2-1.43.59L10.3 9.45l-7.72 7.72c-.78.78-.78 2.05 0 2.83L4 21.41c.39.39.9.59 1.41.59.51 0 1.02-.2 1.41-.59l7.78-7.78 2.81-2.81c.8-.78.8-2.07 0-2.86zM5.41 20L4 18.59l7.72-7.72 1.47 1.35L5.41 20z\"/>\n",
              "  </svg>\n",
              "      </button>\n",
              "      \n",
              "  <style>\n",
              "    .colab-df-container {\n",
              "      display:flex;\n",
              "      flex-wrap:wrap;\n",
              "      gap: 12px;\n",
              "    }\n",
              "\n",
              "    .colab-df-convert {\n",
              "      background-color: #E8F0FE;\n",
              "      border: none;\n",
              "      border-radius: 50%;\n",
              "      cursor: pointer;\n",
              "      display: none;\n",
              "      fill: #1967D2;\n",
              "      height: 32px;\n",
              "      padding: 0 0 0 0;\n",
              "      width: 32px;\n",
              "    }\n",
              "\n",
              "    .colab-df-convert:hover {\n",
              "      background-color: #E2EBFA;\n",
              "      box-shadow: 0px 1px 2px rgba(60, 64, 67, 0.3), 0px 1px 3px 1px rgba(60, 64, 67, 0.15);\n",
              "      fill: #174EA6;\n",
              "    }\n",
              "\n",
              "    [theme=dark] .colab-df-convert {\n",
              "      background-color: #3B4455;\n",
              "      fill: #D2E3FC;\n",
              "    }\n",
              "\n",
              "    [theme=dark] .colab-df-convert:hover {\n",
              "      background-color: #434B5C;\n",
              "      box-shadow: 0px 1px 3px 1px rgba(0, 0, 0, 0.15);\n",
              "      filter: drop-shadow(0px 1px 2px rgba(0, 0, 0, 0.3));\n",
              "      fill: #FFFFFF;\n",
              "    }\n",
              "  </style>\n",
              "\n",
              "      <script>\n",
              "        const buttonEl =\n",
              "          document.querySelector('#df-35407c30-191b-4d9b-a73c-ddb2f973eb9a button.colab-df-convert');\n",
              "        buttonEl.style.display =\n",
              "          google.colab.kernel.accessAllowed ? 'block' : 'none';\n",
              "\n",
              "        async function convertToInteractive(key) {\n",
              "          const element = document.querySelector('#df-35407c30-191b-4d9b-a73c-ddb2f973eb9a');\n",
              "          const dataTable =\n",
              "            await google.colab.kernel.invokeFunction('convertToInteractive',\n",
              "                                                     [key], {});\n",
              "          if (!dataTable) return;\n",
              "\n",
              "          const docLinkHtml = 'Like what you see? Visit the ' +\n",
              "            '<a target=\"_blank\" href=https://colab.research.google.com/notebooks/data_table.ipynb>data table notebook</a>'\n",
              "            + ' to learn more about interactive tables.';\n",
              "          element.innerHTML = '';\n",
              "          dataTable['output_type'] = 'display_data';\n",
              "          await google.colab.output.renderOutput(dataTable, element);\n",
              "          const docLink = document.createElement('div');\n",
              "          docLink.innerHTML = docLinkHtml;\n",
              "          element.appendChild(docLink);\n",
              "        }\n",
              "      </script>\n",
              "    </div>\n",
              "  </div>\n",
              "  "
            ]
          },
          "metadata": {},
          "execution_count": 66
        }
      ],
      "source": [
        "X_train"
      ]
    },
    {
      "cell_type": "code",
      "execution_count": 67,
      "metadata": {
        "colab": {
          "base_uri": "https://localhost:8080/"
        },
        "id": "F2nNhcMvgXAb",
        "outputId": "544b5d8c-931b-4500-a7b6-2033987972dd"
      },
      "outputs": [
        {
          "output_type": "stream",
          "name": "stdout",
          "text": [
            "(7109, 19) (5331, 19) (1778, 19)\n"
          ]
        }
      ],
      "source": [
        "print(X.shape, X_train.shape, X_test.shape)"
      ]
    },
    {
      "cell_type": "code",
      "source": [
        "df3.isna().sum()"
      ],
      "metadata": {
        "colab": {
          "base_uri": "https://localhost:8080/"
        },
        "id": "7dBDfU5Z2iyZ",
        "outputId": "905597d1-9bab-4b26-975b-ab96a1b60e57"
      },
      "execution_count": 68,
      "outputs": [
        {
          "output_type": "execute_result",
          "data": {
            "text/plain": [
              "AREA                    0\n",
              "INT_SQFT                0\n",
              "DIST_MAINROAD           0\n",
              "N_BEDROOM               0\n",
              "N_BATHROOM              0\n",
              "N_ROOM                  0\n",
              "SALE_COND               0\n",
              "PARK_FACIL              0\n",
              "UTILITY_AVAIL           0\n",
              "STREET                  0\n",
              "MZZONE                  0\n",
              "QS_ROOMS                0\n",
              "QS_BATHROOM             0\n",
              "QS_BEDROOM              0\n",
              "QS_OVERALL              0\n",
              "SALES_PRICE             0\n",
              "HOUSE_AGE               0\n",
              "BUILDTYPE_Commercial    0\n",
              "BUILDTYPE_House         0\n",
              "BUILDTYPE_Others        0\n",
              "dtype: int64"
            ]
          },
          "metadata": {},
          "execution_count": 68
        }
      ]
    },
    {
      "cell_type": "markdown",
      "source": [
        "# New Section"
      ],
      "metadata": {
        "id": "63mEjrRP7qtq"
      }
    },
    {
      "cell_type": "markdown",
      "metadata": {
        "id": "iMv4oH5g3btM"
      },
      "source": [
        "Feature Scaling"
      ]
    },
    {
      "cell_type": "markdown",
      "metadata": {
        "id": "373T7JVqgjf9"
      },
      "source": [
        "The X_test And The X_train Has Been Scaled Using The Standard Scaler\n"
      ]
    },
    {
      "cell_type": "code",
      "execution_count": 69,
      "metadata": {
        "id": "Za8ixNYrgs8X"
      },
      "outputs": [],
      "source": [
        "from sklearn.preprocessing import StandardScaler \n",
        "sc = StandardScaler()\n",
        "X_train = sc.fit_transform(X_train)\n",
        "X_test = sc.transform(X_test)"
      ]
    },
    {
      "cell_type": "markdown",
      "metadata": {
        "id": "LV7D7cnDhBeU"
      },
      "source": [
        "# Model Selection and evaluation"
      ]
    },
    {
      "cell_type": "markdown",
      "metadata": {
        "id": "6NBBU140hEvG"
      },
      "source": [
        "Linear Regression"
      ]
    },
    {
      "cell_type": "code",
      "source": [
        "from sklearn.linear_model import LinearRegression\n",
        "regressor = LinearRegression()\n",
        "regressor.fit(X_train, y_train)"
      ],
      "metadata": {
        "colab": {
          "base_uri": "https://localhost:8080/"
        },
        "id": "y_iw0Nebr2Vr",
        "outputId": "566147b4-5bce-4a8b-c5a2-6baf15261797"
      },
      "execution_count": 70,
      "outputs": [
        {
          "output_type": "execute_result",
          "data": {
            "text/plain": [
              "LinearRegression()"
            ]
          },
          "metadata": {},
          "execution_count": 70
        }
      ]
    },
    {
      "cell_type": "code",
      "execution_count": 71,
      "metadata": {
        "id": "6-UXcYhxhpLH",
        "colab": {
          "base_uri": "https://localhost:8080/",
          "height": 306
        },
        "outputId": "8d44953a-294b-4977-c446-f103841baf49"
      },
      "outputs": [
        {
          "output_type": "execute_result",
          "data": {
            "text/plain": [
              "<matplotlib.collections.PathCollection at 0x7ff218b2a2d0>"
            ]
          },
          "metadata": {},
          "execution_count": 71
        },
        {
          "output_type": "display_data",
          "data": {
            "text/plain": [
              "<Figure size 432x288 with 1 Axes>"
            ],
            "image/png": "[encoded data removed]"
          },
          "metadata": {
            "needs_background": "light"
          }
        }
      ],
      "source": [
        "pred =regressor.predict(X_test)\n",
        "plt.scatter(y_test, pred)"
      ]
    },
    {
      "cell_type": "code",
      "execution_count": 72,
      "metadata": {
        "id": "ujO2sUeeiCPg",
        "colab": {
          "base_uri": "https://localhost:8080/",
          "height": 361
        },
        "outputId": "bb0ba495-69ef-4143-89a1-60571981feb9"
      },
      "outputs": [
        {
          "output_type": "stream",
          "name": "stderr",
          "text": [
            "/usr/local/lib/python3.7/dist-packages/seaborn/distributions.py:2619: FutureWarning: `distplot` is a deprecated function and will be removed in a future version. Please adapt your code to use either `displot` (a figure-level function with similar flexibility) or `histplot` (an axes-level function for histograms).\n",
            "  warnings.warn(msg, FutureWarning)\n"
          ]
        },
        {
          "output_type": "execute_result",
          "data": {
            "text/plain": [
              "<matplotlib.axes._subplots.AxesSubplot at 0x7ff218b18950>"
            ]
          },
          "metadata": {},
          "execution_count": 72
        },
        {
          "output_type": "display_data",
          "data": {
            "text/plain": [
              "<Figure size 432x288 with 1 Axes>"
            ],
            "image/png": "[encoded data removed]"
          },
          "metadata": {
            "needs_background": "light"
          }
        }
      ],
      "source": [
        "sns.distplot((y_test, pred),bins=50)"
      ]
    },
    {
      "cell_type": "markdown",
      "metadata": {
        "id": "K5Zh6t9LhvqK"
      },
      "source": [
        "* Distplot For y_test Prediction To See The Model Is Well Shaped"
      ]
    },
    {
      "cell_type": "code",
      "source": [
        "from sklearn.model_selection import cross_val_score\n",
        "score = cross_val_score(estimator = regressor , X = X_train, y = y_train, cv = 10)\n",
        "print(\"score: {:.2f} %\".format(score.mean()*100))\n",
        "print(\"Standard Deviation: {:.2f} %\".format(score.std()*100))"
      ],
      "metadata": {
        "colab": {
          "base_uri": "https://localhost:8080/"
        },
        "id": "-sr9JPchrbTS",
        "outputId": "c699f784-26ad-43c2-8527-70f3e98866fb"
      },
      "execution_count": 73,
      "outputs": [
        {
          "output_type": "stream",
          "name": "stdout",
          "text": [
            "score: 92.21 %\n",
            "Standard Deviation: 0.43 %\n"
          ]
        }
      ]
    },
    {
      "cell_type": "markdown",
      "metadata": {
        "id": "DyMuCR-ZUEwb"
      },
      "source": [
        "Result"
      ]
    },
    {
      "cell_type": "markdown",
      "source": [
        "* Linear Regression Model gives 92.23%"
      ],
      "metadata": {
        "id": "7tvMYEOyqDmL"
      }
    },
    {
      "cell_type": "markdown",
      "source": [
        "Cross validation for K Nearest Neighbors"
      ],
      "metadata": {
        "id": "uqA9VQ_9Dkcf"
      }
    },
    {
      "cell_type": "code",
      "source": [
        "from sklearn.neighbors import KNeighborsRegressor\n",
        "kn_regressor = KNeighborsRegressor()"
      ],
      "metadata": {
        "id": "n_xuOfw1DnJh"
      },
      "execution_count": 74,
      "outputs": []
    },
    {
      "cell_type": "code",
      "source": [
        "from sklearn.model_selection import cross_val_score\n",
        "score = cross_val_score(estimator = kn_regressor , X = X_train, y = y_train, cv = 10)\n",
        "print(\"score: {:.2f} %\".format(score.mean()*100))\n",
        "print(\"Standard Deviation: {:.2f} %\".format(score.std()*100))"
      ],
      "metadata": {
        "colab": {
          "base_uri": "https://localhost:8080/"
        },
        "id": "3jzNMFY7Dpbc",
        "outputId": "e9053ed6-3b16-4a15-88c2-dad6c2ec98be"
      },
      "execution_count": 75,
      "outputs": [
        {
          "output_type": "stream",
          "name": "stdout",
          "text": [
            "score: 89.77 %\n",
            "Standard Deviation: 0.98 %\n"
          ]
        }
      ]
    },
    {
      "cell_type": "markdown",
      "source": [
        "* K Nearest Neighbors model gives 89.72%"
      ],
      "metadata": {
        "id": "MJTK1JkJp0MP"
      }
    },
    {
      "cell_type": "markdown",
      "source": [
        "Cross validation for Decision Tree"
      ],
      "metadata": {
        "id": "fKlqCBA5Cdp_"
      }
    },
    {
      "cell_type": "code",
      "source": [
        "from sklearn.tree import DecisionTreeRegressor\n",
        "regressor_tree = DecisionTreeRegressor(random_state = 0)"
      ],
      "metadata": {
        "id": "l-p_YSl2CNLe"
      },
      "execution_count": 76,
      "outputs": []
    },
    {
      "cell_type": "code",
      "source": [
        "from sklearn.model_selection import cross_val_score\n",
        "score = cross_val_score(estimator = regressor_tree , X = X_train, y = y_train, cv = 10)\n",
        "print(\"score: {:.2f} %\".format(score.mean()*100))\n",
        "print(\"Standard Deviation: {:.2f} %\".format(score.std()*100))"
      ],
      "metadata": {
        "colab": {
          "base_uri": "https://localhost:8080/"
        },
        "id": "KmA1-NOoClje",
        "outputId": "2d7d96a0-a419-46ce-81cb-82d1a3f55ff1"
      },
      "execution_count": 77,
      "outputs": [
        {
          "output_type": "stream",
          "name": "stdout",
          "text": [
            "score: 96.54 %\n",
            "Standard Deviation: 0.33 %\n"
          ]
        }
      ]
    },
    {
      "cell_type": "markdown",
      "source": [
        "* Decision Tree Model gives 96.47%"
      ],
      "metadata": {
        "id": "p1RS9dZ7pmpE"
      }
    },
    {
      "cell_type": "markdown",
      "source": [
        "Cross validation for Random Forest"
      ],
      "metadata": {
        "id": "oleTC3frDxHO"
      }
    },
    {
      "cell_type": "code",
      "source": [
        "from sklearn.ensemble import RandomForestRegressor\n",
        "regressor_forest = RandomForestRegressor(n_estimators= 10, random_state = 0)"
      ],
      "metadata": {
        "id": "H_uHqbg-Dx5S"
      },
      "execution_count": 78,
      "outputs": []
    },
    {
      "cell_type": "code",
      "source": [
        "from sklearn.model_selection import cross_val_score\n",
        "score = cross_val_score(estimator = regressor_forest , X = X_train, y = y_train, cv = 10)\n",
        "print(\"score: {:.2f} %\".format(score.mean()*100))\n",
        "print(\"Standard Deviation: {:.2f} %\".format(score.std()*100))"
      ],
      "metadata": {
        "colab": {
          "base_uri": "https://localhost:8080/"
        },
        "id": "mOHulxFAD04m",
        "outputId": "4fd83f3e-0197-43f3-fbc9-96ecec080eee"
      },
      "execution_count": 79,
      "outputs": [
        {
          "output_type": "stream",
          "name": "stdout",
          "text": [
            "score: 98.37 %\n",
            "Standard Deviation: 0.11 %\n"
          ]
        }
      ]
    },
    {
      "cell_type": "markdown",
      "source": [
        "* Random Forest Model gives 98.32%"
      ],
      "metadata": {
        "id": "QcjbsBDHpZgM"
      }
    },
    {
      "cell_type": "markdown",
      "source": [
        "Cross validation for XGBOOST"
      ],
      "metadata": {
        "id": "GFnGkarMD7LH"
      }
    },
    {
      "cell_type": "code",
      "source": [
        "from xgboost import XGBRegressor\n",
        "xg_reg = XGBRegressor(objective ='reg:squarederror')"
      ],
      "metadata": {
        "id": "RHrR_I8sD-cn"
      },
      "execution_count": 80,
      "outputs": []
    },
    {
      "cell_type": "code",
      "source": [
        "from sklearn.model_selection import cross_val_score\n",
        "score = cross_val_score(estimator = xg_reg , X = X_train, y = y_train, cv = 10)\n",
        "print(\"score: {:.2f} %\".format(score.mean()*100))\n",
        "print(\"Standard Deviation: {:.2f} %\".format(score.std()*100))"
      ],
      "metadata": {
        "colab": {
          "base_uri": "https://localhost:8080/"
        },
        "id": "chuPb-1cEAlu",
        "outputId": "0beee813-c087-47f7-a014-c6b83d683443"
      },
      "execution_count": 81,
      "outputs": [
        {
          "output_type": "stream",
          "name": "stdout",
          "text": [
            "score: 99.10 %\n",
            "Standard Deviation: 0.09 %\n"
          ]
        }
      ]
    },
    {
      "cell_type": "markdown",
      "source": [
        "* XGBoost Model gives 99.06%"
      ],
      "metadata": {
        "id": "JXN7bpStpFZ6"
      }
    },
    {
      "cell_type": "code",
      "source": [
        "import pandas as pd\n",
        "\n",
        "c = pd.DataFrame({'Regressor': ['Linear Regression', 'KNN', 'Decision Tree', 'Random Forest', 'XGBoost'],\n",
        "                  'Cross-validation Score (%)' : [92.21, 89.77, 96.54, 98.37, 99.10]})\n",
        "c"
      ],
      "metadata": {
        "colab": {
          "base_uri": "https://localhost:8080/",
          "height": 206
        },
        "id": "7k29t_vpEOZt",
        "outputId": "1fe0073f-f090-4f8d-e981-a66af2e32853"
      },
      "execution_count": 82,
      "outputs": [
        {
          "output_type": "execute_result",
          "data": {
            "text/plain": [
              "           Regressor  Cross-validation Score (%)\n",
              "0  Linear Regression                       92.21\n",
              "1                KNN                       89.77\n",
              "2      Decision Tree                       96.54\n",
              "3      Random Forest                       98.37\n",
              "4            XGBoost                       99.06"
            ],
            "text/html": [
              "\n",
              "  <div id=\"df-f096ff55-0a43-4e19-b1a1-01aa70527b5f\">\n",
              "    <div class=\"colab-df-container\">\n",
              "      <div>\n",
              "<style scoped>\n",
              "    .dataframe tbody tr th:only-of-type {\n",
              "        vertical-align: middle;\n",
              "    }\n",
              "\n",
              "    .dataframe tbody tr th {\n",
              "        vertical-align: top;\n",
              "    }\n",
              "\n",
              "    .dataframe thead th {\n",
              "        text-align: right;\n",
              "    }\n",
              "</style>\n",
              "<table border=\"1\" class=\"dataframe\">\n",
              "  <thead>\n",
              "    <tr style=\"text-align: right;\">\n",
              "      <th></th>\n",
              "      <th>Regressor</th>\n",
              "      <th>Cross-validation Score (%)</th>\n",
              "    </tr>\n",
              "  </thead>\n",
              "  <tbody>\n",
              "    <tr>\n",
              "      <th>0</th>\n",
              "      <td>Linear Regression</td>\n",
              "      <td>92.21</td>\n",
              "    </tr>\n",
              "    <tr>\n",
              "      <th>1</th>\n",
              "      <td>KNN</td>\n",
              "      <td>89.77</td>\n",
              "    </tr>\n",
              "    <tr>\n",
              "      <th>2</th>\n",
              "      <td>Decision Tree</td>\n",
              "      <td>96.54</td>\n",
              "    </tr>\n",
              "    <tr>\n",
              "      <th>3</th>\n",
              "      <td>Random Forest</td>\n",
              "      <td>98.37</td>\n",
              "    </tr>\n",
              "    <tr>\n",
              "      <th>4</th>\n",
              "      <td>XGBoost</td>\n",
              "      <td>99.06</td>\n",
              "    </tr>\n",
              "  </tbody>\n",
              "</table>\n",
              "</div>\n",
              "      <button class=\"colab-df-convert\" onclick=\"convertToInteractive('df-f096ff55-0a43-4e19-b1a1-01aa70527b5f')\"\n",
              "              title=\"Convert this dataframe to an interactive table.\"\n",
              "              style=\"display:none;\">\n",
              "        \n",
              "  <svg xmlns=\"http://www.w3.org/2000/svg\" height=\"24px\"viewBox=\"0 0 24 24\"\n",
              "       width=\"24px\">\n",
              "    <path d=\"M0 0h24v24H0V0z\" fill=\"none\"/>\n",
              "    <path d=\"M18.56 5.44l.94 2.06.94-2.06 2.06-.94-2.06-.94-.94-2.06-.94 2.06-2.06.94zm-11 1L8.5 8.5l.94-2.06 2.06-.94-2.06-.94L8.5 2.5l-.94 2.06-2.06.94zm10 10l.94 2.06.94-2.06 2.06-.94-2.06-.94-.94-2.06-.94 2.06-2.06.94z\"/><path d=\"M17.41 7.96l-1.37-1.37c-.4-.4-.92-.59-1.43-.59-.52 0-1.04.2-1.43.59L10.3 9.45l-7.72 7.72c-.78.78-.78 2.05 0 2.83L4 21.41c.39.39.9.59 1.41.59.51 0 1.02-.2 1.41-.59l7.78-7.78 2.81-2.81c.8-.78.8-2.07 0-2.86zM5.41 20L4 18.59l7.72-7.72 1.47 1.35L5.41 20z\"/>\n",
              "  </svg>\n",
              "      </button>\n",
              "      \n",
              "  <style>\n",
              "    .colab-df-container {\n",
              "      display:flex;\n",
              "      flex-wrap:wrap;\n",
              "      gap: 12px;\n",
              "    }\n",
              "\n",
              "    .colab-df-convert {\n",
              "      background-color: #E8F0FE;\n",
              "      border: none;\n",
              "      border-radius: 50%;\n",
              "      cursor: pointer;\n",
              "      display: none;\n",
              "      fill: #1967D2;\n",
              "      height: 32px;\n",
              "      padding: 0 0 0 0;\n",
              "      width: 32px;\n",
              "    }\n",
              "\n",
              "    .colab-df-convert:hover {\n",
              "      background-color: #E2EBFA;\n",
              "      box-shadow: 0px 1px 2px rgba(60, 64, 67, 0.3), 0px 1px 3px 1px rgba(60, 64, 67, 0.15);\n",
              "      fill: #174EA6;\n",
              "    }\n",
              "\n",
              "    [theme=dark] .colab-df-convert {\n",
              "      background-color: #3B4455;\n",
              "      fill: #D2E3FC;\n",
              "    }\n",
              "\n",
              "    [theme=dark] .colab-df-convert:hover {\n",
              "      background-color: #434B5C;\n",
              "      box-shadow: 0px 1px 3px 1px rgba(0, 0, 0, 0.15);\n",
              "      filter: drop-shadow(0px 1px 2px rgba(0, 0, 0, 0.3));\n",
              "      fill: #FFFFFF;\n",
              "    }\n",
              "  </style>\n",
              "\n",
              "      <script>\n",
              "        const buttonEl =\n",
              "          document.querySelector('#df-f096ff55-0a43-4e19-b1a1-01aa70527b5f button.colab-df-convert');\n",
              "        buttonEl.style.display =\n",
              "          google.colab.kernel.accessAllowed ? 'block' : 'none';\n",
              "\n",
              "        async function convertToInteractive(key) {\n",
              "          const element = document.querySelector('#df-f096ff55-0a43-4e19-b1a1-01aa70527b5f');\n",
              "          const dataTable =\n",
              "            await google.colab.kernel.invokeFunction('convertToInteractive',\n",
              "                                                     [key], {});\n",
              "          if (!dataTable) return;\n",
              "\n",
              "          const docLinkHtml = 'Like what you see? Visit the ' +\n",
              "            '<a target=\"_blank\" href=https://colab.research.google.com/notebooks/data_table.ipynb>data table notebook</a>'\n",
              "            + ' to learn more about interactive tables.';\n",
              "          element.innerHTML = '';\n",
              "          dataTable['output_type'] = 'display_data';\n",
              "          await google.colab.output.renderOutput(dataTable, element);\n",
              "          const docLink = document.createElement('div');\n",
              "          docLink.innerHTML = docLinkHtml;\n",
              "          element.appendChild(docLink);\n",
              "        }\n",
              "      </script>\n",
              "    </div>\n",
              "  </div>\n",
              "  "
            ]
          },
          "metadata": {},
          "execution_count": 82
        }
      ]
    },
    {
      "cell_type": "markdown",
      "source": [
        "* This XGBoost Regression model predicts High score of 99.06%"
      ],
      "metadata": {
        "id": "iVizWMXQngcd"
      }
    },
    {
      "cell_type": "code",
      "source": [
        "xg_reg.fit(X_train, y_train)\n",
        "pred = xg_reg.predict(X_test)"
      ],
      "metadata": {
        "id": "sDypcGotFBqa"
      },
      "execution_count": 83,
      "outputs": []
    },
    {
      "cell_type": "code",
      "source": [
        "from sklearn.metrics import r2_score\n",
        "r = r2_score(y_test, pred)\n",
        "r"
      ],
      "metadata": {
        "colab": {
          "base_uri": "https://localhost:8080/"
        },
        "id": "aPSTr13TFEfV",
        "outputId": "8eb4ea60-bad5-4643-a02c-c9e88773123f"
      },
      "execution_count": 84,
      "outputs": [
        {
          "output_type": "execute_result",
          "data": {
            "text/plain": [
              "0.9920025122925306"
            ]
          },
          "metadata": {},
          "execution_count": 84
        }
      ]
    },
    {
      "cell_type": "code",
      "source": [
        "from sklearn.feature_selection import SelectFromModel\n",
        "sel = SelectFromModel(xg_reg)\n",
        "sel.fit(X_train, y_train)"
      ],
      "metadata": {
        "colab": {
          "base_uri": "https://localhost:8080/"
        },
        "id": "-Ov-IxdoFImp",
        "outputId": "d3157bbe-bef5-4cc9-d8df-109472f41c53"
      },
      "execution_count": 85,
      "outputs": [
        {
          "output_type": "execute_result",
          "data": {
            "text/plain": [
              "SelectFromModel(estimator=XGBRegressor(objective='reg:squarederror'))"
            ]
          },
          "metadata": {},
          "execution_count": 85
        }
      ]
    },
    {
      "cell_type": "code",
      "source": [
        "sel.get_support()"
      ],
      "metadata": {
        "colab": {
          "base_uri": "https://localhost:8080/"
        },
        "id": "_B-7mpBgFLwG",
        "outputId": "6866ae79-a60a-4898-fec9-162c9bba808e"
      },
      "execution_count": 86,
      "outputs": [
        {
          "output_type": "execute_result",
          "data": {
            "text/plain": [
              "array([ True,  True, False, False, False,  True, False, False, False,\n",
              "       False, False, False, False, False,  True, False,  True, False,\n",
              "       False])"
            ]
          },
          "metadata": {},
          "execution_count": 86
        }
      ]
    },
    {
      "cell_type": "code",
      "source": [
        "features = X.columns[sel.get_support()]\n",
        "features"
      ],
      "metadata": {
        "colab": {
          "base_uri": "https://localhost:8080/"
        },
        "id": "AU1v65a1FRfd",
        "outputId": "1a96aa1c-ee67-4640-c143-b0545fb90813"
      },
      "execution_count": 87,
      "outputs": [
        {
          "output_type": "execute_result",
          "data": {
            "text/plain": [
              "Index(['AREA', 'INT_SQFT', 'N_ROOM', 'MZZONE', 'BUILDTYPE_Commercial'], dtype='object')"
            ]
          },
          "metadata": {},
          "execution_count": 87
        }
      ]
    },
    {
      "cell_type": "markdown",
      "source": [
        "* Top 5 Important Features Are AREA, INT_SQFT, N_ROOM, BUILDTYPE_Commercial"
      ],
      "metadata": {
        "id": "TPw64KYelQtV"
      }
    }
  ],
  "metadata": {
    "colab": {
      "collapsed_sections": [],
      "name": "Chennai House Price Prediction Project.ipynb",
      "provenance": [],
      "authorship_tag": "ABX9TyMCXz+hnL8rabfU0cIegpVT",
      "include_colab_link": true
    },
    "kernelspec": {
      "display_name": "Python 3",
      "name": "python3"
    },
    "language_info": {
      "name": "python"
    }
  },
  "nbformat": 4,
  "nbformat_minor": 0
}